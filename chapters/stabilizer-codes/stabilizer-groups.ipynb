{
 "cells": [
  {
   "cell_type": "markdown",
   "id": "a23fe73c",
   "metadata": {
    "tags": []
   },
   "source": [
    "# Stabilizer groups"
   ]
  },
  {
   "cell_type": "markdown",
   "id": "b00286a1",
   "metadata": {
    "tags": [
     "remove-cell"
    ]
   },
   "source": [
    "<div style=\"width:100%;text-align:right;font-size:0.75em;opacity:0.2\">Latex macros</div>\n",
    "$ \\newcommand{\\ket}[1]{|#1\\rangle} $\n",
    "$ \\newcommand{\\bra}[1]{\\langle #1|} $\n",
    "$\\newcommand{\\iu}{{i\\mkern1mu}}$\n",
    "$ \\newcommand{\\e}{\\mathrm{e}}$\n",
    "$\\newcommand{\\bigo}{\\mathcal{O}}$\n",
    "$\\newcommand{\\set}[1]{\\{#1\\}}$\n",
    "$\\newcommand{\\oper}[1]{\\mathcal{#1}}$\n",
    "$\\newcommand{\\st}[1]{\\mathcal{#1}}$\n",
    "$\\newcommand{\\vecs}[1]{\\mathcal{#1}}$\n",
    "$\\newcommand{\\group}[1]{\\mathcal{#1}}$\n",
    "$\\newcommand{\\union}{\\hspace{0.25em}\\cup\\hspace{0.25em}}$"
   ]
  },
  {
   "cell_type": "markdown",
   "id": "bef71833-f6c7-404b-ad71-5d2c3cb3157c",
   "metadata": {},
   "source": [
    "Among the many subgroups of the Pauli group $\\group{P}_n$, there is a particular type of subgroups, called the stabilizer group $S$, which satisfy the following properties, in addition to the group axioms:\n",
    "\n",
    "* All pairs of elements in $S$ commute, i.e. for every $P,Q \\in S$, we have $PQ = QP$. \n",
    "* $-I = - I_0 \\otimes I_1 \\otimes \\cdots \\otimes I_{n-1}$ is not a part of $S$. \n",
    "\n",
    "We will see later on why these properties are useful, but for now, let's try to create some examples of these groups so we can build some intuition.\n",
    "\n",
    "**Example:** Let\n",
    "\\begin{align}\n",
    "P_0 &= I \\otimes I \\otimes I, \\\\\n",
    "P_1 &= Z \\otimes Z \\otimes I, \\\\\n",
    "P_2 &= Z \\otimes I \\otimes Z, \\\\\n",
    "P_3 &= I \\otimes Z \\otimes Z,\n",
    "\\end{align}\n",
    "and consider the subset,\n",
    "\\begin{equation}\n",
    " S = \\set{P_0, P_1, P_2, P_3},\n",
    "\\end{equation}\n",
    "of $\\group{P}_3$.\n",
    "\n"
   ]
  },
  {
   "cell_type": "markdown",
   "id": "6bea1600-3033-4426-ba14-d598bb5309d7",
   "metadata": {},
   "source": [
    "#### Task 1 (On paper)\n",
    "Produce the multiplication table of the subgroup $S$ defined in example above, to show that $S$ is closed under multiplication and hence a subgroup of $\\group{P}_3$. (We will often just write $I$ instead of $P_0 = I\\otimes I \\otimes I$.)\n",
    "\n",
    "| $\\times$ | $I$ |  $P_1$ |  $P_2$ |  $P_3$ |  \n",
    "|:--------:|:---:|:------:|:------:|:------:|\n",
    "| $I$      |     |        |        |        |\n",
    "| $P_1$    |     |        |        |        |\n",
    "| $P_2$    |     |        |        |        |\n",
    "| $P_3$    |     |        |        |        |\n"
   ]
  },
  {
   "cell_type": "markdown",
   "id": "a53eb3b5-3a9c-47f7-b21c-e1550c0c3b73",
   "metadata": {},
   "source": [
    "Further, we claim that $S$ is a stabilizer group. \n",
    "\n",
    "* From the multiplication table you just created, you can also read off the commutation relations. You can verify that all elements of $S$ commute.\n",
    "* Moreover $-I$ is not part of $S$, so the second property is trivially satisfied. "
   ]
  },
  {
   "cell_type": "markdown",
   "id": "83ac997d-891e-4781-b590-71cfc703561b",
   "metadata": {},
   "source": [
    "#### Task 2 (On paper)\n",
    "One way of constructing subgroups is to start with a subset of elements of the group. We multiply these elements together in every way possible. Whenever we create an element that is not part of the subset, we add it to the subset. Eventually, we will have exhausted all possible multiplications and we will have a subset closed under multiplication. \n",
    "\n",
    "Take $P_1 = X \\otimes X \\otimes I$ and $P_2 = I \\otimes X \\otimes X$. \n",
    "\n",
    "* Multiply them together in every combination, till you find a set of elements that is closed.\n",
    "\n",
    "* Write down the multiplication table of this group, and verify that this is a stabilizer group."
   ]
  },
  {
   "cell_type": "markdown",
   "id": "01800c92-26b4-4f8c-96ed-4cf2ec6235e0",
   "metadata": {},
   "source": [
    "## Generators of a group\n",
    "This is an opportune moment to introduce the notion of the *generators* of a group. The generators of a group can be used to construct all other elements of the group. \n",
    "\n",
    "**Example:** In the first example above, every element in the group is some product of $P_1$ and $P_2$,\n",
    "\\begin{align}\n",
    " I \\otimes I \\otimes I &= P_1^2 = P_2^2, \\\\\n",
    " Z \\otimes Z \\otimes I &= P_1, \\\\\n",
    " I \\otimes Z \\otimes Z &= P_2, \\\\\n",
    " Z \\otimes I \\otimes Z &= P_1P_2.\n",
    "\\end{align}\n",
    "Therefore, $P_1$ and $P_2$ are called the generators of the group $S$.\n",
    "\n",
    "> The **generators** of a group is a subset of elements of the group, and that can be used to construct all elements of the group. The generators are not unique.\n",
    "\n",
    "**Example:** In Task 2, you created a group generated by $X \\otimes X \\otimes I$ and $I \\otimes X \\otimes X$.\n",
    "\n",
    "*Question:* Show that the stabilizer group in the first example, can be generated by $P_1$ and $P_3$ as well, i.e. show how to write every element of the group in terms of these two elements.\n"
   ]
  },
  {
   "cell_type": "markdown",
   "id": "5536ef6a-c912-4c6e-a97c-7dfb71b660ee",
   "metadata": {},
   "source": [
    "The advantage of identifying the generators for stabilizer groups is that they reduce the storage space for specifying a group. This is because of two properties.\n",
    "\n",
    "* Property of stabilizer groups: All elements commute.\n",
    "* Property of all Pauli operators: $P^2$ is either $I$ or $-I$.\n",
    "\n",
    "Let $S$ be a stabilizer group, with generators $\\set{g_i}_{i=0}^{m-1}$. The first property means that we can write any element $h$ in $S$ as the product.\n",
    "\\begin{equation}\n",
    " h = g_0^{j_0} g_1^{j_1} \\cdots g_{m-1}^{j_{m-1}},\n",
    "\\end{equation}\n",
    "where we don't care about the order of the generators in the product. The power of $j_i$ on each generator tells us how many times it appears in the product in order to create $h$.\n",
    "\n",
    "The second property means that $j_i$ can only be $0$ or $1$.\n",
    "\n",
    "This means that any element $h$ is completely specified by the bitstring $(j_0, j_1, \\dots, j_{m-1})$. Recognizing that there are $2^m$ such strings, the following lemma immediately follows.\n",
    "\n",
    "**Lemma:** If $S$ has $m$ generators, then it has $2^m$ elements.\n",
    "\n",
    "To work with stabilizer codes, we will be depending highly on generators of the stabilizer groups."
   ]
  },
  {
   "cell_type": "markdown",
   "id": "a7bfc4d0-b29a-47a2-a0f3-45e93e4d2bb7",
   "metadata": {},
   "source": [
    "#### Task 3 (On paper)\n",
    "Determine the bitstring representation of all elements in $S$ for\n",
    "\n",
    "* Example 1\n",
    "* Task 2"
   ]
  },
  {
   "cell_type": "markdown",
   "id": "a7c89096-21a3-479c-af1e-9d8886219d8c",
   "metadata": {
    "tags": []
   },
   "source": [
    "## States stabilized by stabilizer groups\n",
    "In [stabilizer states](../stabilizer-codes/stabilizer-states.ipynb), we saw that multiple operators can stabilize the same state.\n",
    "\n",
    "Since, stabilizer groups are just a set of operators, a very natural question to ask is, what states are stabilized by these operators?\n",
    "\n",
    "**Example:** Above, we created the stabilizer group\n",
    "\\begin{equation}\n",
    " S = \\set{I \\otimes I \\otimes I, Z \\otimes Z \\otimes I, Z \\otimes I \\otimes Z, I \\otimes Z \\otimes Z}.\n",
    "\\end{equation}\n",
    "Let's try to construct the state simultaneously stabilized by all these operators.\n",
    "\n",
    "* The identity stabilizes all states.\n",
    "* We already know that $Z \\otimes Z \\otimes I, I \\otimes Z \\otimes Z$ jointly stabilize $\\set{\\ket{000},\\ket{111}}$. \n",
    "* It's easy to discover that $Z \\otimes I \\otimes Z$ has stabilizer states $\\set{\\ket{000}, \\ket{010}, \\ket{101}, \\ket{111}}$.\n",
    "\n",
    "Hence, the common intersection is $\\set{\\ket{000},\\ket{111}}$. Therefore, \n",
    "\n",
    "> The group $S$ stabilizes the states $\\set{\\ket{000},\\ket{111}}$, and any of their linear combinations.\n",
    "\n",
    "We note that $\\set{\\ket{000},\\ket{111}}$ is the basis of the repetition code. The connection between $S$ and repetition code will be fleshed out in the next notebook."
   ]
  },
  {
   "cell_type": "markdown",
   "id": "bf52e888-8b0f-4f07-bd7d-22e45e3f8d85",
   "metadata": {},
   "source": [
    "### Generators are sufficient to determine the stabilizer states of a group\n",
    "Actually, we are doing too much work in determining the stabilizer states. Each element of $S$ is specified by a product of two generators $P_1$ and $P_2$. Note the following two self-evident properties.\n",
    "\n",
    "* If $P_1$ and $P_2$ both stabilize a state $\\ket{\\psi}$, then any $h \\in S$ (which is just some product of $P_1$ and $P_2$) will also stabilize $\\ket{\\psi}$.\n",
    "\n",
    "* If $P_1$ or $P_2$ don't stabilize a state, then that state cannot be included in our final set of states.\n",
    "\n",
    "Taken together this means that we only need to determine states that are stablized by the all generators to determine the states stabilized by the stabilizer group.\n",
    "\n",
    "**Lemma:** The basis of states stabilized by a stabilizer group $S$, is the intersection of states stabilized by the generators of $S$."
   ]
  },
  {
   "cell_type": "code",
   "execution_count": null,
   "id": "fe6bf57f-eb97-4241-9125-7d1eb3dca167",
   "metadata": {},
   "outputs": [],
   "source": []
  }
 ],
 "metadata": {
  "kernelspec": {
   "display_name": "Python 3 (ipykernel)",
   "language": "python",
   "name": "python3"
  },
  "language_info": {
   "codemirror_mode": {
    "name": "ipython",
    "version": 3
   },
   "file_extension": ".py",
   "mimetype": "text/x-python",
   "name": "python",
   "nbconvert_exporter": "python",
   "pygments_lexer": "ipython3",
   "version": "3.10.8"
  },
  "widgets": {
   "application/vnd.jupyter.widget-state+json": {
    "state": {},
    "version_major": 2,
    "version_minor": 0
   }
  }
 },
 "nbformat": 4,
 "nbformat_minor": 5
}
