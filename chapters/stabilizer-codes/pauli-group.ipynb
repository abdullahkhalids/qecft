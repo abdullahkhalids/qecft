{
 "cells": [
  {
   "cell_type": "markdown",
   "id": "a23fe73c",
   "metadata": {
    "tags": []
   },
   "source": [
    "# Pauli group"
   ]
  },
  {
   "cell_type": "markdown",
   "id": "b00286a1",
   "metadata": {
    "tags": [
     "remove-cell"
    ]
   },
   "source": [
    "<div style=\"width:100%;text-align:right;font-size:0.75em;opacity:0.2\">Latex macros</div>\n",
    "$ \\newcommand{\\ket}[1]{|#1\\rangle} $\n",
    "$ \\newcommand{\\bra}[1]{\\langle #1|} $\n",
    "$\\newcommand{\\iu}{{i\\mkern1mu}}$\n",
    "$ \\newcommand{\\e}{\\mathrm{e}}$\n",
    "$\\newcommand{\\bigo}{\\mathcal{O}}$\n",
    "$\\newcommand{\\set}[1]{\\{#1\\}}$\n",
    "$\\newcommand{\\oper}[1]{\\mathcal{#1}}$\n",
    "$\\newcommand{\\st}[1]{\\mathcal{#1}}$\n",
    "$\\newcommand{\\vecs}[1]{\\mathcal{#1}}$\n",
    "$\\newcommand{\\group}[1]{\\mathcal{#1}}$\n",
    "$\\newcommand{\\union}{\\hspace{0.25em}\\cup\\hspace{0.25em}}$"
   ]
  },
  {
   "cell_type": "markdown",
   "id": "3a4a37fe-8dc1-4649-bd69-71a2c37444fb",
   "metadata": {},
   "source": [
    "We are going to study the simplest class of quantum error-correcting codes, called the stabilizer codes. To understand the stabilizer codes, we need to build up some theory."
   ]
  },
  {
   "cell_type": "markdown",
   "id": "d85aa834-3079-4520-a8b6-0fdcc94e2773",
   "metadata": {},
   "source": [
    "## The Pauli matrices\n",
    "Recall the Pauli matrices along with the identity matrix, $\\set{I, X, Y, Z}$. These matrices have the property that multiplying them together in any way, gets us back to the same set of matrices up to a factor of $\\pm 1$ or $\\pm \\iu$.\n",
    "\n",
    "For instance,\n",
    "\\begin{equation}\n",
    " XY = \\iu Z, \\quad YZ = \\iu X, \\quad ZX = \\iu X.\n",
    "\\end{equation}\n",
    "\n"
   ]
  },
  {
   "cell_type": "markdown",
   "id": "467f8d01-e5f1-4c78-8778-b1fc772ae163",
   "metadata": {},
   "source": [
    "#### Task 1 (On paper)\n",
    "Complete the following multiplication table.\n",
    "\n",
    "| $\\times$             | $I$         | $X$        | $Y$        | $Z$         |\n",
    "|:--------------------:|:-----------:|:----------:|:----------:|:-----------:|\n",
    "|    $I$               | $II = I$    | $IX=X$     | $IY=Y$     |  $IZ=Z$     |\n",
    "|    $X$               | $XI = X$    |            | $XY=\\iu Z$ |             |\n",
    "|    $Y$               | $YI = Y$    |            |            |             |\n",
    "|    $Z$               | $ZI = Z$    |            |            |             |\n",
    "\n",
    "The first row and colum have been completed for you, as well as one additional element.\n",
    "\n",
    "\n"
   ]
  },
  {
   "cell_type": "markdown",
   "id": "52bd7939-4e8c-428a-bfa2-2957910673c9",
   "metadata": {},
   "source": [
    "### Commutation relations\n",
    "There are one additional property of these matrices that we will use over and over again, and that is the *commutation properties*.\n",
    "\n",
    "For $P, Q \\in \\set{I, X, Y, Z}$, we have either \n",
    "\n",
    "* $P$ and $Q$ commute, i.e. $PQ = QP$, or\n",
    "* $P$ and $Q$ anti-commute, i.e. $PQ = -QP$. \n",
    "\n",
    "You can verify this by comparing the $(i,j)$ entry in the table above with the $(j,i)$ one. Either the entries are the same ($i$th and $j$th operators commute) or they differ by a minus sign ($i$th and $j$th operators anti-commute).\n",
    "\n"
   ]
  },
  {
   "cell_type": "markdown",
   "id": "7d7e5380-7caf-4a1f-aef9-962b470368d3",
   "metadata": {},
   "source": [
    "### The Pauli group $\\group{P}_1$\n",
    "What we have discovered that the 16 matrices,\n",
    "\\begin{equation}\n",
    " \\group{P}_1 = \\set{\\pm I, \\pm \\iu I, \\pm X, \\pm \\iu X, \\pm Y, \\pm \\iu Y, \\pm Z, \\pm \\iu Z},\n",
    "\\end{equation}\n",
    "form a [group](https://en.wikipedia.org/wiki/Group_(mathematics)). This means the elements of $\\group{P}_1$ satisfy the group axioms:\n",
    "\n",
    "* Multiplying any two elements of $\\group{P}_1$ gives us another element of $\\group{P}_1$. You have explicitly checked this above. This property is called closure (under multiplication) - equivalently, we say the set $\\group{P}_1$ is closed under multiplication. \n",
    "* Given three elements $P, Q, R$ in the $\\group{P}_1$, we have $(PQ)R = P(QR)$. This is true because the elements of $\\group{P}_1$ are matrices. This property is called associativity of multiplication.\n",
    "* There is an identity element, $I$, in $\\group{P}_1$. \n",
    "* For every element in $\\group{P}_1$, its inverse is also inside $\\group{P}_1$. For example, the inverse of $X$ is $X$ itself. The inverse of $\\iu X$ is $-\\iu X$.\n",
    "\n",
    "*Question:* Determine the inverse of every element in $\\group{P}_1$.\n",
    "\n",
    "Note that $\\group{P_1}$ has 16 elements here, because there are 4 Pauli matrices and 4 possible phase factors ($\\pm 1, \\pm \\iu$).\n"
   ]
  },
  {
   "cell_type": "markdown",
   "id": "4de780f6-2a7e-40c9-95e8-838ce645304f",
   "metadata": {},
   "source": [
    "### The Pauli group $\\group{P}_2$\n",
    "Now, consider the tensor product of two Pauli matrices, meaning elements such as $X \\otimes Z$ or $ Y \\otimes Z$. You are already familiar with the multiplication of such elements. Given $P = P^{(0)} \\otimes P^{(1)}$ and $Q = Q^{(0)} \\otimes Q^{(1)}$ in $\\group{P}_2$,\n",
    "\\begin{equation}\n",
    "PQ = (P^{(0)} \\otimes P^{(1)})(Q^{(0)} \\otimes Q^{(1)}) = P^{(0)}Q^{(0)} \\otimes P^{(1)}Q^{(1)}.\n",
    "\\end{equation}\n",
    "\n",
    "**Example:** $(X \\otimes Z)(Y \\otimes Z) = (\\iu Z) \\otimes I = \\iu(Z \\otimes I)$.\n",
    "\n",
    "Suppose, we collect all such elements into a set. How many such elements are there? In $P^{(0)}\\otimes P^{(1)}$, the matrix $P^{(0)}$ can be one of four Pauli matrices, and so can $P^{(1)}$. Additionally, we have four possible phase factors. In total, we will have $4^{2+1}=64$ elements in a set we will call $\\group{P}_2$.\n",
    "\n",
    "Again, we go over the four axioms of groups, and make sure $\\group{P}_2$ satisfies them.\n",
    "\n",
    "* We have confirmed that multipling these 64 elements together in any way gives us one of the 64 elements.\n",
    "* Multiplication continues to be associative.\n",
    "* The element $I \\otimes I$ is the identity element.\n",
    "* We can easily construct the inverse of any element $P^{(0)} \\otimes P^{(1)}$ as ${P^{(0)}}^{-1} \\otimes {P^{(1)}}^{-1}$, and it will be one among the 64 elements.\n",
    "\n",
    "*Question:* Determine the inverse of $\\iu (X \\otimes Y)$.\n",
    "\n"
   ]
  },
  {
   "cell_type": "markdown",
   "id": "13fb6783-d172-4233-9368-6b2f91fa24b5",
   "metadata": {},
   "source": [
    "### The Pauli group $\\group{P}_n$\n",
    "It should be clear now, how to extend the above analysis to tensor products of $n$ Pauli matrices, $P^{(0)} \\otimes P^{(1)} \\otimes \\cdots \\otimes P^{(n-1)}$. By the same arguments as above, there will be $4^{n+1}$ elements in $\\group{P}_n$.\n",
    "\n",
    "All our discussion of the stabilizer codes will occur in the context of the Pauli group."
   ]
  },
  {
   "cell_type": "markdown",
   "id": "72530c14-1149-4932-afb9-4a2e5b3b8830",
   "metadata": {},
   "source": [
    "## Subgroups of the Pauli group\n",
    "A *subgroup* is a subset of the elements of the group that itself form a group. Meaning the subset satisfies all four of the axioms of the group.\n",
    "\n",
    "**Example:** Consider the $\\set{I,X} \\subset \\group{P}_1$. We can check all four axioms.\n",
    "\n",
    "* $IX = X$, $I^2 = I$, $X^2 = I$ are all in the subset, so closure of multiplication is satified.\n",
    "* Associativity continues to hold.\n",
    "* The identity is in the subset.\n",
    "* The inverse of $I$ is $I$ and the inverse of $X$ is $X$. So all elements have their inverse in the subset as well.\n",
    "\n",
    "Hence, this subset is a subgroup of $\\group{P}_1$.\n",
    "\n",
    "*Question:* Does $\\set{I,\\iu X} \\subset \\group{P}_1$ form a subgroup of $\\group{P}_1$?\n",
    "\n",
    "**Example:** Consider $\\group{P}_3$, which has elements of the form $P = P^{(0)} \\otimes P^{(1)} \\otimes P^{(2)}$. This group has a subgroup, which is defined as follow.\n",
    "\n",
    "Let $P^{(1)} = I$, so that $Q = P^{(0)} \\otimes I \\otimes P^{(2)}$, and consider all such elements in $\\group{P}_3$, i.e., we have the subset\n",
    "\\begin{equation}\n",
    " \\group{H} = \\set{ Q \\in \\group{P}_3 \\text{ such that } Q=P^{(0)} \\otimes I \\otimes P^{(2)}}.\n",
    "\\end{equation}\n",
    "\n",
    "To check that $\\group{H}$ is indeed a subgroup, we check all four properties.\n",
    "\n",
    "* Closure under multiplication. Its quite clear that multiplying two elements of the form $Q$ will yield another element of the form $Q$, and we included all elements of this form in $\\group{H}$, so this property is satisfied.\n",
    "* Associativity continues to hold.\n",
    "* The identity $I \\otimes I \\otimes I$ is of the form $Q$, so it is in $\\group{H}$.\n",
    "* The inverse of $Q$ is just ${P^{(0)}}^{-1} \\otimes I \\otimes {P^{(2)}}^{-1}$, which is still in the form of $Q$. So all elements of $\\group{H}$ also have their inverse inside $\\group{H}$.\n",
    "\n",
    "Therefore $\\group{H}$ is a subgroup of $\\group{P}_3$.\n",
    "\n",
    "*Question:* How many elements are there in $G$?\n",
    "\n",
    "For finite-sized groups, such as the Pauli group, we don't actually have to check all four axioms. \n",
    "\n",
    "*Theorem:* Let $\\group{H}$ be a nonempty finite subset of a group $\\group{G}$. Then $\\group{H}$ is a subgroup of $\\group{G}$ if $\\group{H}$ is closed under multiplication.\n",
    "\n",
    "So, we only have to check the closure axiom, and if it holds so will the other three axioms. This makes the task of checking if a subset is a subgroup much easier.\n",
    "\n",
    "*Question:* Consider the set\n",
    "\\begin{equation}\n",
    " G = \\set{I \\otimes I \\otimes I, X \\otimes I \\otimes I, I \\otimes Z \\otimes I, X \\otimes Z \\otimes I}.\n",
    "\\end{equation}\n",
    "Does this form a subgroup of $\\group{P}_3$?"
   ]
  },
  {
   "cell_type": "code",
   "execution_count": null,
   "id": "9ddf27b2-414f-402f-8acd-05aee5c4889d",
   "metadata": {},
   "outputs": [],
   "source": []
  }
 ],
 "metadata": {
  "kernelspec": {
   "display_name": "Python 3 (ipykernel)",
   "language": "python",
   "name": "python3"
  },
  "language_info": {
   "codemirror_mode": {
    "name": "ipython",
    "version": 3
   },
   "file_extension": ".py",
   "mimetype": "text/x-python",
   "name": "python",
   "nbconvert_exporter": "python",
   "pygments_lexer": "ipython3",
   "version": "3.10.12"
  },
  "widgets": {
   "application/vnd.jupyter.widget-state+json": {
    "state": {},
    "version_major": 2,
    "version_minor": 0
   }
  }
 },
 "nbformat": 4,
 "nbformat_minor": 5
}
