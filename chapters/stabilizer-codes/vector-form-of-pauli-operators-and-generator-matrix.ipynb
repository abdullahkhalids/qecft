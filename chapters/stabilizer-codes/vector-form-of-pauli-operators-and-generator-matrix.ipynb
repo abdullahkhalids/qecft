{
 "cells": [
  {
   "cell_type": "markdown",
   "id": "a23fe73c",
   "metadata": {
    "tags": []
   },
   "source": [
    "# Vector form of Pauli operators and the generator matrix"
   ]
  },
  {
   "cell_type": "markdown",
   "id": "b00286a1",
   "metadata": {
    "tags": [
     "remove-cell"
    ]
   },
   "source": [
    "<div style=\"width:100%;text-align:right;font-size:0.75em;opacity:0.2\">Latex macros</div>\n",
    "$ \\newcommand{\\ket}[1]{|#1\\rangle} $\n",
    "$ \\newcommand{\\bra}[1]{\\langle #1|} $\n",
    "$\\newcommand{\\iu}{{i\\mkern1mu}}$\n",
    "$ \\newcommand{\\e}{\\mathrm{e}}$\n",
    "$\\newcommand{\\bigo}{\\mathcal{O}}$\n",
    "$\\newcommand{\\set}[1]{\\{#1\\}}$\n",
    "$\\newcommand{\\oper}[1]{\\mathcal{#1}}$\n",
    "$\\newcommand{\\st}[1]{\\mathcal{#1}}$\n",
    "$\\newcommand{\\vecs}[1]{\\mathcal{#1}}$\n",
    "$\\newcommand{\\group}[1]{\\mathcal{#1}}$\n",
    "$\\newcommand{\\union}{\\hspace{0.25em}\\cup\\hspace{0.25em}}$"
   ]
  },
  {
   "cell_type": "markdown",
   "id": "7baf4865-089d-4172-a2da-d1095bc28921",
   "metadata": {},
   "source": [
    "It is getting quite tedious to write down multi-qubit Pauli operators like $X \\otimes X \\otimes I$. Here we are going to discuss a compact form for Pauli operators, that will make it very easy to do computations."
   ]
  },
  {
   "cell_type": "markdown",
   "id": "d708834d-626b-4ea7-976f-2c5f5d8cdbcd",
   "metadata": {},
   "source": [
    "## Vector form of Pauli operators\n",
    "We are going to map operators in the Pauli group $\\group{P}_n$ to binary vectors of length $2n$. \n",
    "\n",
    "The elements of $\\group{P}_1$ are\n",
    "\\begin{align}\n",
    "I \\equiv (0|0), \\\\\n",
    "X \\equiv (1|0), \\\\\n",
    "Y \\equiv (1|1), \\\\\n",
    "Z \\equiv (0|1).\n",
    "\\end{align}\n",
    "\n",
    "For larger $n$ we have a similar formula of operators getting mapped to the vector $v = (a|b)$ where \n",
    "\n",
    "* $a$ is the \"$X$ part\", and is of length $n$, and \n",
    "* $b$ is the \"$Z$ part\", and is also of length $n$. \n",
    "\n",
    "Let $P = \\otimes_i P_i$, where $P_i \\in \\{I_i, X_i, Y_i, Z_i\\}$. Then,\n",
    "\\begin{align}\n",
    "a_i &= 0, b_i = 0 \\text{ if } P_i = I_i, \\\\\n",
    "a_i &= 1, b_i = 0 \\text{ if } P_i = X_i, \\\\\n",
    "a_i &= 1, b_i = 1 \\text{ if } P_i = Y_i, \\\\\n",
    "a_i &= 0, b_i = 1 \\text{ if } P_i = Z_i.\n",
    "\\end{align}\n",
    "For example if $n=4$, then $X_0I_1Z_2Y_3$ is associated with the vector $v=(1 0 0 1|0 0 1 1)$.\n",
    "\n",
    "Important to note in this formulation is that we will completely ignore the phase of the operators. Meaning if $P \\equiv v$, then so are $-P \\equiv v$ and $\\pm \\iu P \\equiv v$. "
   ]
  },
  {
   "cell_type": "markdown",
   "id": "322997a5-2bd2-440a-ab9b-a0590789ab80",
   "metadata": {},
   "source": [
    "#### Task 1 (On paper)\n",
    "Determine the vector form of the following operators\n",
    "\n",
    "* $X_0Z_0X_1Z_1$\n",
    "* $Y_0Y_1Y_2$\n",
    "* $Z_0Z_1X_2$"
   ]
  },
  {
   "cell_type": "markdown",
   "id": "3b5ad380-250e-412d-a587-a8f3cf7edbeb",
   "metadata": {},
   "source": [
    "### Multiplying operators\n",
    "One of the immediate benefits of the binary vector form is that multiplying two Paulis corresponds to adding their vectors mod 2 (up to an overall phase).\n",
    "\n",
    "For the simplest example, note that $X = (1|0)$ and $Z = (0|1)$ and their product is $XZ = (1|0) + (0|1) = (1|1) = Y$. Quite ingenius! Please note that we will ignore the overall phase here as $XZ = -\\iu Y$, but as you delve more into error-correcting codes you will realize that such phases are not very important.\n",
    "\n",
    "*Question:* Use the binary vector form to compute $XX$."
   ]
  },
  {
   "cell_type": "markdown",
   "id": "17f3e9c9-e79f-4dc9-ba6a-b5c94d70f449",
   "metadata": {},
   "source": [
    "### Commutation relations\n",
    "One of the best advantages of writing Pauli operators as binary vectors is that commutation relations become very easy to compute.\n",
    "\n",
    "First, we define the *symplectic inner product* between binary vectors of length $2n$\n",
    "\n",
    "> Let $P_1 = (a|b)$ and $P_2 = (c|d)$. Then, the **symplectic inner product** between $P_1$ and $P_2$ is \n",
    " \\begin{equation}\n",
    " P_1 \\cdot P_2 = a\\cdot d + b\\cdot c\\mod 2,\n",
    " \\end{equation}\n",
    " where on the right hand side, the $\\cdot$ is the regular dot product between vectors. Be very careful about how we are multiplying the $X$-part of $P_1$ with the $Z$-part of $P_2$ and vice versa.\n",
    " \n",
    "**Example:** The symplectic inner product of $(10|01)$ and $(01|00)$ is\n",
    "\\begin{equation}\n",
    "(10|01) \\cdot (01|00) = (10)\\cdot (00) + (01)\\cdot (01) = 0 + 1 = 1.\n",
    "\\end{equation}"
   ]
  },
  {
   "cell_type": "markdown",
   "id": "212f645c-ac38-4ae8-9db2-e4bce45f6c53",
   "metadata": {},
   "source": [
    "#### Task 2 (On paper)\n",
    "Let $P_1 = (101|110)$ and $P_2 = (011|111)$. Determine $P_1\\cdot P_2$."
   ]
  },
  {
   "cell_type": "markdown",
   "id": "ab0c2eec-358c-41e5-b09e-28e1d9977cb4",
   "metadata": {},
   "source": [
    "#### Task 3\n",
    "Complete the function `symplectic_inner_product` that computes the symplectic product of two input vectors.\n",
    "* Parameters:\\\n",
    "  `P1`: a `list`, guaranteed to only contain 0 or 1, and length divisible by 2.\\\n",
    "  `P2`: a `list`, guaranteed to only contain 0 or 1, and length divisible by 2.\n",
    "* Returns:\\\n",
    "  An `int` that is symplectic inner product of `P1` and `P2`"
   ]
  },
  {
   "cell_type": "code",
   "execution_count": null,
   "id": "a423a183-426d-481a-b0ac-38f975e2df15",
   "metadata": {},
   "outputs": [],
   "source": [
    "def symplectic_inner_product(P1, P2):\n",
    "    pass"
   ]
  },
  {
   "cell_type": "markdown",
   "id": "bb05d3fc-ac99-4711-a47d-3634f88bce79",
   "metadata": {},
   "source": [
    "Now we state the following theorem about the commutation relations of Pauli operators.\n",
    "\n",
    "**Lemma:** Let $P_1 = (a|b)$ and $P_2 = (c|d)$ be two Pauli operators. Then, \n",
    "* $P_1$ and $P_2$ commute if and only if $P_1 \\cdot P_2 = 0$,\n",
    "* $P_1$ and $P_2$ commute if and only if $P_1 \\cdot P_2 = 1$.\n",
    "\n",
    "*Question:* Use the commutation relations of $I_i,X_i,Y_i,Z_i$ to prove this theorem."
   ]
  },
  {
   "cell_type": "markdown",
   "id": "5c0a3f30-b9fb-42fb-9a5e-ec0b1adb27b4",
   "metadata": {},
   "source": [
    "#### Task 4\n",
    "In Task 1 in [stabilizer codes](../stabilizer-codes/stabilizer-codes.ipynb) we computed everything by hand. Now use the `symplectic_inner_product` function to recompute the table with code."
   ]
  },
  {
   "cell_type": "code",
   "execution_count": null,
   "id": "3855da52-c9be-4428-b057-9093b705f290",
   "metadata": {},
   "outputs": [],
   "source": []
  },
  {
   "cell_type": "markdown",
   "id": "42bbed3e-650b-47a3-8e63-b6c956aca3b7",
   "metadata": {},
   "source": [
    "## Generator matrix\n",
    "To compactly represent the stabilizer group, and its associated code, we usually write the generators of the stabilizer code as rows of a matrix. This matrix is called sometimes called the generator matrix (because it contains the generators of the code) or the check-matrix (because it is actually analogous to the classical parity-check matrix rather than the classical generator matrix). This is unfortunate and confusing terminology.\n",
    "\n",
    "Example: For the repetition code for phase flips, the generators are\n",
    "\\begin{align}\n",
    " X \\otimes X \\otimes I &= (110|000), \\\\\n",
    " I \\otimes X \\otimes X &= (011|000).\n",
    "\\end{align}\n",
    "Hence, the generator matrix is\n",
    "\\begin{equation}\n",
    " G = \\left(\\begin{array}{ccc|ccc}\n",
    " 1 & 1 & 0 & 0 & 0 & 0 \\\\\n",
    " 0 & 1 & 1 & 0 & 0 & 0\n",
    " \\end{array}\\right).\n",
    "\\end{equation}\n"
   ]
  },
  {
   "cell_type": "markdown",
   "id": "e7d654cf-4472-451b-b170-934b7b2e9f75",
   "metadata": {},
   "source": [
    "#### Task 5 (On paper)\n",
    "Write down the generator matrix for the repetition code for bit-flips."
   ]
  },
  {
   "cell_type": "code",
   "execution_count": null,
   "id": "5ae0acae-ecbd-451f-a3e2-fda1a6f652c0",
   "metadata": {},
   "outputs": [],
   "source": []
  }
 ],
 "metadata": {
  "kernelspec": {
   "display_name": "Python 3 (ipykernel)",
   "language": "python",
   "name": "python3"
  },
  "language_info": {
   "codemirror_mode": {
    "name": "ipython",
    "version": 3
   },
   "file_extension": ".py",
   "mimetype": "text/x-python",
   "name": "python",
   "nbconvert_exporter": "python",
   "pygments_lexer": "ipython3",
   "version": "3.10.8"
  },
  "widgets": {
   "application/vnd.jupyter.widget-state+json": {
    "state": {},
    "version_major": 2,
    "version_minor": 0
   }
  }
 },
 "nbformat": 4,
 "nbformat_minor": 5
}
