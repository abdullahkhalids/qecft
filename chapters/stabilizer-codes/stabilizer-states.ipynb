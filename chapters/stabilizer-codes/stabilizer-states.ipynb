{
 "cells": [
  {
   "cell_type": "markdown",
   "id": "a23fe73c",
   "metadata": {
    "tags": []
   },
   "source": [
    "# Stabilizer states"
   ]
  },
  {
   "cell_type": "markdown",
   "id": "b00286a1",
   "metadata": {
    "tags": [
     "remove-cell"
    ]
   },
   "source": [
    "<div style=\"width:100%;text-align:right;font-size:0.75em;opacity:0.2\">Latex macros</div>\n",
    "$ \\newcommand{\\ket}[1]{|#1\\rangle} $\n",
    "$ \\newcommand{\\bra}[1]{\\langle #1|} $\n",
    "$\\newcommand{\\iu}{{i\\mkern1mu}}$\n",
    "$ \\newcommand{\\e}{\\mathrm{e}}$\n",
    "$\\newcommand{\\bigo}{\\mathcal{O}}$\n",
    "$\\newcommand{\\set}[1]{\\{#1\\}}$\n",
    "$\\newcommand{\\oper}[1]{\\mathcal{#1}}$\n",
    "$\\newcommand{\\st}[1]{\\mathcal{#1}}$\n",
    "$\\newcommand{\\vecs}[1]{\\mathcal{#1}}$\n",
    "$\\newcommand{\\group}[1]{\\mathcal{#1}}$\n",
    "$\\newcommand{\\union}{\\hspace{0.25em}\\cup\\hspace{0.25em}}$"
   ]
  },
  {
   "cell_type": "markdown",
   "id": "6d8c849d-7efb-4684-9752-77246c778d4a",
   "metadata": {},
   "source": [
    "The elements of the Pauli group have another important property that relates to quantum states, which we will study now. In the next section, we will use the notions introduced here to construct stabilizer groups.\n",
    "\n",
    "We will need to recall the eigenvectors and eigenvalues of $X, Y, Z$ are\n",
    "\\begin{equation*}\n",
    "\\begin{aligned}[c]\n",
    "X\\ket{+} &= \\ket{+},\\\\\n",
    "Y\\ket{+\\iu} &= \\ket{+\\iu}\\\\\n",
    "Z\\ket{0} &= \\ket{0},\n",
    "\\end{aligned}\n",
    "\\qquad\\qquad\\qquad\n",
    "\\begin{aligned}[c]\n",
    "X\\ket{-} &= -\\ket{-},\\\\\n",
    "Y\\ket{-\\iu} &= -\\ket{-\\iu},\\\\\n",
    "Z\\ket{1} &= -\\ket{1}.\n",
    "\\end{aligned}\n",
    "\\end{equation*}"
   ]
  },
  {
   "cell_type": "markdown",
   "id": "95cf86d6-9870-4e43-a854-e9e872b735ad",
   "metadata": {},
   "source": [
    "## Stabilizer states\n",
    "In the equations above, the ones on the left are +1 eigenstates. This means acting on the state by the corresponding operator leaves the state unchanged (even accounting for a phase). We are going to give a special name to such states.\n",
    "\n",
    "> Given $P \\in \\group{P}_n$, a state $\\ket{\\psi}$ such that $P\\ket{\\psi} = \\ket{\\psi}$, is called a **stabilizer state** of $P$.\n",
    "\n",
    "Let's look at some examples for $n>1$. \n",
    "\n",
    "**Example:** Consider, the Pauli operator $X \\otimes Z$. From the equations above, it is quite easy to see that\n",
    "\\begin{equation}\n",
    " (X\\otimes Z)\\ket{+}\\otimes \\ket{0} = \\ket{+} \\otimes \\ket{0}. \n",
    "\\end{equation}\n",
    "The tensor product of the $+1$ eigenvectors of the individual operators gives a $+1$ eigenvector of the tensor-product operator. But, wait, there is more. \n",
    "\\begin{equation}\n",
    " (X\\otimes Z)\\ket{-}\\otimes \\ket{1} = (-1)^2\\ket{-} \\otimes \\ket{1} = \\ket{-} \\otimes \\ket{1}. \n",
    "\\end{equation}\n",
    "In this way, we can see that the operator $X \\otimes Z$ has two $+1$ eigenvectors (it also has two $-1$ eigenvectors; why?).\n",
    "\n",
    "Of course, any state that is a linear combination of $\\ket{+} \\otimes \\ket{0}$ and $\\ket{-} \\otimes \\ket{1}$ is also a $+1$ eigenstate of $X \\otimes Z$,\n",
    "\\begin{align}\n",
    " (X\\otimes Z)(\\alpha\\ket{+}\\otimes \\ket{0} + \\beta \\ket{-}\\otimes \\ket{1}) &= \\alpha (X\\otimes Z) \\ket{+}\\otimes \\ket{0} + \\beta (X\\otimes Z) \\ket{-}\\otimes \\ket{1}, \\\\\n",
    " &= \\alpha\\ket{+}\\otimes \\ket{0} + \\beta \\ket{-}\\otimes \\ket{1}.\n",
    "\\end{align}\n",
    "\n",
    "Similarly, for any Pauli operator $P$ in $\\group{P}_n$, we can construct states that are the $+1$ eigenvectors of the operator. \n",
    "\n",
    "**Example:** Here is another example,\n",
    "\\begin{align}\n",
    " (X \\otimes I \\otimes X)\\ket{+}\\otimes \\ket{0} \\otimes \\ket{+} = \\ket{+} \\otimes \\ket{0} \\otimes \\ket{+}, \\\\\n",
    " (X \\otimes I \\otimes X)\\ket{-}\\otimes \\ket{0} \\otimes \\ket{-} = \\ket{-} \\otimes \\ket{0} \\otimes \\ket{-}.\n",
    "\\end{align}\n",
    "$I$ is special because every state is a $+1$ eigenvector of $I$. So, we could also have written any state in middle, such as\n",
    "\\begin{align}\n",
    " (X \\otimes I \\otimes X)\\ket{+}\\otimes \\ket{-} \\otimes \\ket{+} = \\ket{+} \\otimes \\ket{-} \\otimes \\ket{+}, \\\\\n",
    " (X \\otimes I \\otimes X)\\ket{-}\\otimes \\ket{-} \\otimes \\ket{-} = \\ket{-} \\otimes \\ket{-} \\otimes \\ket{-}.\n",
    "\\end{align}\n",
    "etc. From this we infer that $X \\otimes I \\otimes X$ stabilizes all states that are a linear combination of \n",
    "\\begin{equation}\n",
    "\\set{\\ket{+} \\otimes \\ket{0} \\otimes \\ket{+}, \\ket{-} \\otimes \\ket{0} \\otimes \\ket{-}, \\ket{+} \\otimes \\ket{1} \\otimes \\ket{+}, \\ket{-} \\otimes \\ket{1} \\otimes \\ket{-}}.\n",
    "\\end{equation}\n"
   ]
  },
  {
   "cell_type": "markdown",
   "id": "2db65f34-20fb-4326-b32f-6be6e4b9699c",
   "metadata": {},
   "source": [
    "#### Task 1 (On paper)\n",
    "Determine the basis of the stabilizer states of the following operators.\n",
    "\n",
    "* $X \\otimes X \\otimes X$\n",
    "* $Z \\otimes Z \\otimes Z$\n",
    "* $Z \\otimes I \\otimes X$\n",
    "* $Z \\otimes X \\otimes X \\otimes Z$\n",
    "\n",
    "Do you see a pattern in the number of states and the size of the operator?"
   ]
  },
  {
   "cell_type": "markdown",
   "id": "3126c037-bf33-4264-8558-477217b2b08b",
   "metadata": {},
   "source": [
    "## Stabilizer states of multiple operators\n",
    "We will now show that it is possible to construct states that are the simultaneously stabilized by multiple Pauli operators. Let's start with some examples.\n",
    "\n",
    "**Example:** Consider, the operators $P_1 = Z \\otimes Z \\otimes I$ and $P_2 = Z \\otimes I \\otimes Z$.\n",
    "\n",
    "* $Z \\otimes Z \\otimes I$ stabilizes four orthogonal states $\\set{\\ket{000}, \\ket{001}, \\ket{110}, \\ket{111}}$.\n",
    "* $Z \\otimes I \\otimes Z$ stabilizes four orthogonal states $\\set{\\ket{000}, \\ket{010}, \\ket{101}, \\ket{111}}$.\n",
    "\n",
    "The intersection of these sets is $\\set{\\ket{000}, \\ket{111}}$. This means that any state that is a linear combination of these two states will be stabilized by both $P_1$ and $P_2$.\n",
    "\n",
    "Remember, how $\\set{\\ket{000}, \\ket{111}}$ were the basis states of the quantum repetition code for bit-flip codes. It turns out that code is a stabilizer code. We will soon show this, if you have some patience."
   ]
  },
  {
   "cell_type": "markdown",
   "id": "5f25ded8-ab81-497b-b90b-e8a481c74442",
   "metadata": {},
   "source": [
    "#### Task 2 (On paper)\n",
    "Determine states that are simultaneously stabilized by $P_1 = X \\otimes X \\otimes I = X_0X_1$ and $P_2 = X \\otimes I \\otimes X = X_0X_2$. (The subscript based notation will ensure you don't injure your wrist!)\n",
    "\n",
    "Have you seen them before?"
   ]
  },
  {
   "cell_type": "markdown",
   "id": "0964188a-8976-4a8d-8a4a-80304ea38727",
   "metadata": {},
   "source": [
    "#### Task 3 (On paper)\n",
    "It is not necessary that two operators have simultaneously stabilized states. \n",
    "\n",
    "* Do $P_1 = Z_0Z_1$ and $P_2=X_0X_1$ have any simultaneously stabilized states?\n",
    "* What about $P_1=Z_0Z_1$ and $P_2=X_0X_2$?"
   ]
  }
 ],
 "metadata": {
  "kernelspec": {
   "display_name": "Python 3 (ipykernel)",
   "language": "python",
   "name": "python3"
  },
  "language_info": {
   "codemirror_mode": {
    "name": "ipython",
    "version": 3
   },
   "file_extension": ".py",
   "mimetype": "text/x-python",
   "name": "python",
   "nbconvert_exporter": "python",
   "pygments_lexer": "ipython3",
   "version": "3.10.8"
  },
  "widgets": {
   "application/vnd.jupyter.widget-state+json": {
    "state": {},
    "version_major": 2,
    "version_minor": 0
   }
  }
 },
 "nbformat": 4,
 "nbformat_minor": 5
}
