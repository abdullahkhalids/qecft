{
 "cells": [
  {
   "cell_type": "markdown",
   "id": "a23fe73c",
   "metadata": {
    "tags": []
   },
   "source": [
    "# Some common codes"
   ]
  },
  {
   "cell_type": "markdown",
   "id": "b00286a1",
   "metadata": {
    "tags": [
     "remove-cell"
    ]
   },
   "source": [
    "<div style=\"width:100%;text-align:right;font-size:0.75em;opacity:0.2\">Latex macros</div>\n",
    "$ \\newcommand{\\ket}[1]{|#1\\rangle} $\n",
    "$ \\newcommand{\\bra}[1]{\\langle #1|} $\n",
    "$\\newcommand{\\iu}{{i\\mkern1mu}}$\n",
    "$ \\newcommand{\\e}{\\mathrm{e}}$\n",
    "$\\newcommand{\\bigo}{\\mathcal{O}}$\n",
    "$\\newcommand{\\set}[1]{\\{#1\\}}$\n",
    "$\\newcommand{\\oper}[1]{\\mathcal{#1}}$\n",
    "$\\newcommand{\\st}[1]{\\mathcal{#1}}$\n",
    "$\\newcommand{\\vecs}[1]{\\mathcal{#1}}$\n",
    "$\\newcommand{\\group}[1]{\\mathcal{#1}}$\n",
    "$\\newcommand{\\union}{\\hspace{0.25em}\\cup\\hspace{0.25em}}$"
   ]
  },
  {
   "cell_type": "markdown",
   "id": "ded89db8-9633-47ed-9308-28854229920f",
   "metadata": {},
   "source": [
    "We should know some more quantum error-correcting codes, in order to deepen our understanding. We will define them here, via their generator matrix. \n",
    "\n",
    "In stac, you can create any code for which you know the generator matrix. An example for the repetition code for phase flips is given below."
   ]
  },
  {
   "cell_type": "code",
   "execution_count": 4,
   "id": "9cc6a93e-537f-450c-af53-51ac8efc23d2",
   "metadata": {},
   "outputs": [
    {
     "name": "stdout",
     "output_type": "stream",
     "text": [
      "n = 3\n",
      "k = 1\n",
      "m = 2\n"
     ]
    },
    {
     "data": {
      "text/latex": [
       "$\\displaystyle XXI$"
      ],
      "text/plain": [
       "<IPython.core.display.Math object>"
      ]
     },
     "metadata": {},
     "output_type": "display_data"
    },
    {
     "data": {
      "text/latex": [
       "$\\displaystyle IXX$"
      ],
      "text/plain": [
       "<IPython.core.display.Math object>"
      ]
     },
     "metadata": {},
     "output_type": "display_data"
    }
   ],
   "source": [
    "import stac\n",
    "import numpy as np\n",
    "\n",
    "# generator matrix\n",
    "gm = np.array([[1, 1, 0, 0, 0, 0],\n",
    "               [0, 1, 1, 0, 0, 0]])\n",
    "\n",
    "cd_rep = stac.Code(gm)\n",
    "# n\n",
    "print(f'n = {cd_rep.num_data_qubits}')\n",
    "# k\n",
    "print(f'k = {cd_rep.num_logical_qubits}')\n",
    "# m = n-k\n",
    "print(f'm = {cd_rep.num_generators}')\n",
    "\n",
    "stac.print_paulis(cd_rep.generator_matrix)"
   ]
  },
  {
   "cell_type": "markdown",
   "id": "d01dc9fe-3f56-470c-a137-7bb25879420e",
   "metadata": {},
   "source": [
    "There are several codes whose generator matrix is stored inside stac. These are given below."
   ]
  },
  {
   "cell_type": "markdown",
   "id": "9d6d1607-d3b3-4c00-8af6-e2aae2f93634",
   "metadata": {},
   "source": [
    "## The five qubit code, $[[5,1,3]]$\n",
    "In this code, one qubit is encoded into the state of $n=5$ qubits. This code is unique because it is the smallest code (i.e. smallest $n$), which can correct any single-qubit error.\n",
    "\n",
    "The code has generators as follows."
   ]
  },
  {
   "cell_type": "code",
   "execution_count": 2,
   "id": "af65cd1c-28ef-4ef4-836c-f128ffb2caab",
   "metadata": {},
   "outputs": [
    {
     "data": {
      "text/latex": [
       "$\\displaystyle                 \\left(\\begin{array}{ccccc|ccccc}\n",
       "                       1 & 0 & 0 & 1 & 0 & 0 & 1 & 1 & 0 & 0 \\\\\n",
       "0 & 1 & 0 & 0 & 1 & 0 & 0 & 1 & 1 & 0 \\\\\n",
       "1 & 0 & 1 & 0 & 0 & 0 & 0 & 0 & 1 & 1 \\\\\n",
       "0 & 1 & 0 & 1 & 0 & 1 & 0 & 0 & 0 & 1 \\\\\n",
       "\n",
       "                       \\end{array}\\right)                    $"
      ],
      "text/plain": [
       "<IPython.core.display.Math object>"
      ]
     },
     "metadata": {},
     "output_type": "display_data"
    }
   ],
   "source": [
    "cd513 = stac.CommonCodes.generate_code('[[5,1,3]]')\n",
    "stac.print_matrix(cd513.generator_matrix, augmented=True)"
   ]
  },
  {
   "cell_type": "code",
   "execution_count": 3,
   "id": "4aa57732-e672-4ff5-baa8-9dae89e0f404",
   "metadata": {},
   "outputs": [
    {
     "data": {
      "text/latex": [
       "$\\displaystyle XZZXI$"
      ],
      "text/plain": [
       "<IPython.core.display.Math object>"
      ]
     },
     "metadata": {},
     "output_type": "display_data"
    },
    {
     "data": {
      "text/latex": [
       "$\\displaystyle IXZZX$"
      ],
      "text/plain": [
       "<IPython.core.display.Math object>"
      ]
     },
     "metadata": {},
     "output_type": "display_data"
    },
    {
     "data": {
      "text/latex": [
       "$\\displaystyle XIXZZ$"
      ],
      "text/plain": [
       "<IPython.core.display.Math object>"
      ]
     },
     "metadata": {},
     "output_type": "display_data"
    },
    {
     "data": {
      "text/latex": [
       "$\\displaystyle ZXIXZ$"
      ],
      "text/plain": [
       "<IPython.core.display.Math object>"
      ]
     },
     "metadata": {},
     "output_type": "display_data"
    }
   ],
   "source": [
    "stac.print_paulis(cd513.generator_matrix)"
   ]
  },
  {
   "cell_type": "markdown",
   "id": "75e3ed4f-35d9-4edb-b412-b3577df5e01a",
   "metadata": {},
   "source": [
    "Another feature of this code is that it has generators that have both $X$ and $Z$ operators in them. This is unlike any of the previous codes you have seen."
   ]
  },
  {
   "cell_type": "code",
   "execution_count": 4,
   "id": "8ff60846-fdce-4eea-a5f6-e894f9e2d1dc",
   "metadata": {},
   "outputs": [
    {
     "name": "stdout",
     "output_type": "stream",
     "text": [
      "4\n",
      "5\n",
      "1\n"
     ]
    }
   ],
   "source": [
    "# stac has information stored about codes\n",
    "print(cd513.num_generators)\n",
    "print(cd513.num_data_qubits)\n",
    "print(cd513.num_logical_qubits)"
   ]
  },
  {
   "cell_type": "markdown",
   "id": "02612234-1e6b-435f-a0db-d138809b3e4c",
   "metadata": {
    "tags": []
   },
   "source": [
    "## The Steane code, $[[7,1,3]]$\n",
    "The Steane code is often studied because it has a number of nice properties. It encoded one qubit into seven qubits and is able to correct any single qubit error. Interestingly, it is made out of the classical Hamming code, that we saw earlier. \n",
    "\n",
    "You will see in the generator matrix below that the top left submatrix (which defines three $X$-type generators) is the matrix of the classical Hamming code. Similarly, the bottom right (which defines three $Z$-type generators is also the same Hamming code matrix."
   ]
  },
  {
   "cell_type": "code",
   "execution_count": 5,
   "id": "82c3bee4-3d17-4184-bf9f-8efb485acb60",
   "metadata": {},
   "outputs": [
    {
     "data": {
      "text/latex": [
       "$\\displaystyle                 \\left(\\begin{array}{ccccccc|ccccccc}\n",
       "                       1 & 1 & 1 & 1 & 0 & 0 & 0 & 0 & 0 & 0 & 0 & 0 & 0 & 0 \\\\\n",
       "1 & 1 & 0 & 0 & 1 & 1 & 0 & 0 & 0 & 0 & 0 & 0 & 0 & 0 \\\\\n",
       "1 & 0 & 1 & 0 & 1 & 0 & 1 & 0 & 0 & 0 & 0 & 0 & 0 & 0 \\\\\n",
       "0 & 0 & 0 & 0 & 0 & 0 & 0 & 1 & 1 & 1 & 1 & 0 & 0 & 0 \\\\\n",
       "0 & 0 & 0 & 0 & 0 & 0 & 0 & 1 & 1 & 0 & 0 & 1 & 1 & 0 \\\\\n",
       "0 & 0 & 0 & 0 & 0 & 0 & 0 & 1 & 0 & 1 & 0 & 1 & 0 & 1 \\\\\n",
       "\n",
       "                       \\end{array}\\right)                    $"
      ],
      "text/plain": [
       "<IPython.core.display.Math object>"
      ]
     },
     "metadata": {},
     "output_type": "display_data"
    }
   ],
   "source": [
    "cd713 = stac.CommonCodes.generate_code('[[7,1,3]]')\n",
    "stac.print_matrix(cd713.generator_matrix, augmented=True)"
   ]
  },
  {
   "cell_type": "code",
   "execution_count": 6,
   "id": "c90bb462-34e3-464c-b972-c0dffcad2654",
   "metadata": {},
   "outputs": [
    {
     "data": {
      "text/latex": [
       "$\\displaystyle XXXXIII$"
      ],
      "text/plain": [
       "<IPython.core.display.Math object>"
      ]
     },
     "metadata": {},
     "output_type": "display_data"
    },
    {
     "data": {
      "text/latex": [
       "$\\displaystyle XXIIXXI$"
      ],
      "text/plain": [
       "<IPython.core.display.Math object>"
      ]
     },
     "metadata": {},
     "output_type": "display_data"
    },
    {
     "data": {
      "text/latex": [
       "$\\displaystyle XIXIXIX$"
      ],
      "text/plain": [
       "<IPython.core.display.Math object>"
      ]
     },
     "metadata": {},
     "output_type": "display_data"
    },
    {
     "data": {
      "text/latex": [
       "$\\displaystyle ZZZZIII$"
      ],
      "text/plain": [
       "<IPython.core.display.Math object>"
      ]
     },
     "metadata": {},
     "output_type": "display_data"
    },
    {
     "data": {
      "text/latex": [
       "$\\displaystyle ZZIIZZI$"
      ],
      "text/plain": [
       "<IPython.core.display.Math object>"
      ]
     },
     "metadata": {},
     "output_type": "display_data"
    },
    {
     "data": {
      "text/latex": [
       "$\\displaystyle ZIZIZIZ$"
      ],
      "text/plain": [
       "<IPython.core.display.Math object>"
      ]
     },
     "metadata": {},
     "output_type": "display_data"
    }
   ],
   "source": [
    "stac.print_paulis(cd713.generator_matrix)"
   ]
  },
  {
   "cell_type": "markdown",
   "id": "b67d446f-e34d-48cc-b470-f791cb7e0fcd",
   "metadata": {},
   "source": [
    "## The $[[4,2,2]]$ code\n",
    "Up till now, you have seen codes that encode one qubit into many. This is unlike, say the classical Hamming code, which encoded three qubits into seven. The $$[4,2,2]]$$ is encodes two qubits into four qubits. However, this means that it can't correct all single-qubit errors."
   ]
  },
  {
   "cell_type": "code",
   "execution_count": 7,
   "id": "1954ad34-796e-4de2-84ab-9e600e655d16",
   "metadata": {},
   "outputs": [
    {
     "data": {
      "text/latex": [
       "$\\displaystyle                 \\left(\\begin{array}{cccc|cccc}\n",
       "                       1 & 0 & 0 & 1 & 0 & 1 & 1 & 0 \\\\\n",
       "1 & 1 & 1 & 1 & 1 & 0 & 0 & 1 \\\\\n",
       "\n",
       "                       \\end{array}\\right)                    $"
      ],
      "text/plain": [
       "<IPython.core.display.Math object>"
      ]
     },
     "metadata": {},
     "output_type": "display_data"
    }
   ],
   "source": [
    "cd422 = stac.CommonCodes.generate_code('[[4,2,2]]')\n",
    "stac.print_matrix(cd422.generator_matrix, augmented=True)"
   ]
  },
  {
   "cell_type": "code",
   "execution_count": 8,
   "id": "63927c50-695a-4f0e-8600-64cf90da6538",
   "metadata": {},
   "outputs": [
    {
     "data": {
      "text/latex": [
       "$\\displaystyle XZZX$"
      ],
      "text/plain": [
       "<IPython.core.display.Math object>"
      ]
     },
     "metadata": {},
     "output_type": "display_data"
    },
    {
     "data": {
      "text/latex": [
       "$\\displaystyle YXXY$"
      ],
      "text/plain": [
       "<IPython.core.display.Math object>"
      ]
     },
     "metadata": {},
     "output_type": "display_data"
    }
   ],
   "source": [
    "stac.print_paulis(cd422.generator_matrix)"
   ]
  },
  {
   "cell_type": "markdown",
   "id": "bf4f4d8a-20cc-45f5-b169-d9ea575dcc7d",
   "metadata": {},
   "source": [
    "Now you are seeing a code which has $Y$ operators within its generators."
   ]
  },
  {
   "cell_type": "markdown",
   "id": "46f9c4e2-f7b9-48b4-995d-df4fa8bbf4f1",
   "metadata": {},
   "source": [
    "## The $[[8,3,3]]$ code\n",
    "This code encodes three qubits into the state of eight qubits and can correct any single-qubit error."
   ]
  },
  {
   "cell_type": "code",
   "execution_count": 9,
   "id": "a3ee7c4e-bfe7-4607-8f78-6c1f06d7ae5c",
   "metadata": {},
   "outputs": [
    {
     "data": {
      "text/latex": [
       "$\\displaystyle                 \\left(\\begin{array}{cccccccc|cccccccc}\n",
       "                       1 & 1 & 1 & 1 & 1 & 1 & 1 & 1 & 0 & 0 & 0 & 0 & 0 & 0 & 0 & 0 \\\\\n",
       "0 & 0 & 0 & 0 & 0 & 0 & 0 & 0 & 1 & 1 & 1 & 1 & 1 & 1 & 1 & 1 \\\\\n",
       "0 & 1 & 0 & 1 & 1 & 0 & 1 & 0 & 0 & 0 & 0 & 0 & 1 & 1 & 1 & 1 \\\\\n",
       "0 & 1 & 0 & 1 & 0 & 1 & 0 & 1 & 0 & 0 & 1 & 1 & 0 & 0 & 1 & 1 \\\\\n",
       "0 & 1 & 1 & 0 & 1 & 0 & 0 & 1 & 0 & 1 & 0 & 1 & 0 & 1 & 0 & 1 \\\\\n",
       "\n",
       "                       \\end{array}\\right)                    $"
      ],
      "text/plain": [
       "<IPython.core.display.Math object>"
      ]
     },
     "metadata": {},
     "output_type": "display_data"
    }
   ],
   "source": [
    "cd833 = stac.CommonCodes.generate_code('[[8,3,3]]')\n",
    "stac.print_matrix(cd833.generator_matrix, augmented=True)"
   ]
  },
  {
   "cell_type": "code",
   "execution_count": 10,
   "id": "848de436-719b-4e82-bdc6-d35c8c32fd3c",
   "metadata": {},
   "outputs": [
    {
     "data": {
      "text/latex": [
       "$\\displaystyle XXXXXXXX$"
      ],
      "text/plain": [
       "<IPython.core.display.Math object>"
      ]
     },
     "metadata": {},
     "output_type": "display_data"
    },
    {
     "data": {
      "text/latex": [
       "$\\displaystyle ZZZZZZZZ$"
      ],
      "text/plain": [
       "<IPython.core.display.Math object>"
      ]
     },
     "metadata": {},
     "output_type": "display_data"
    },
    {
     "data": {
      "text/latex": [
       "$\\displaystyle IXIXYZYZ$"
      ],
      "text/plain": [
       "<IPython.core.display.Math object>"
      ]
     },
     "metadata": {},
     "output_type": "display_data"
    },
    {
     "data": {
      "text/latex": [
       "$\\displaystyle IXZYIXZY$"
      ],
      "text/plain": [
       "<IPython.core.display.Math object>"
      ]
     },
     "metadata": {},
     "output_type": "display_data"
    },
    {
     "data": {
      "text/latex": [
       "$\\displaystyle IYXZXZIY$"
      ],
      "text/plain": [
       "<IPython.core.display.Math object>"
      ]
     },
     "metadata": {},
     "output_type": "display_data"
    }
   ],
   "source": [
    "stac.print_paulis(cd833.generator_matrix)"
   ]
  },
  {
   "cell_type": "code",
   "execution_count": null,
   "id": "4d8d6db9-f90c-41ea-bf2b-43138e4b93e1",
   "metadata": {},
   "outputs": [],
   "source": []
  }
 ],
 "metadata": {
  "kernelspec": {
   "display_name": "Python 3 (ipykernel)",
   "language": "python",
   "name": "python3"
  },
  "language_info": {
   "codemirror_mode": {
    "name": "ipython",
    "version": 3
   },
   "file_extension": ".py",
   "mimetype": "text/x-python",
   "name": "python",
   "nbconvert_exporter": "python",
   "pygments_lexer": "ipython3",
   "version": "3.10.8"
  },
  "widgets": {
   "application/vnd.jupyter.widget-state+json": {
    "state": {},
    "version_major": 2,
    "version_minor": 0
   }
  }
 },
 "nbformat": 4,
 "nbformat_minor": 5
}
