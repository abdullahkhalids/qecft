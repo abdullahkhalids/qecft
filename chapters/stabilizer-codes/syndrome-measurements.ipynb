{
 "cells": [
  {
   "cell_type": "markdown",
   "id": "a23fe73c",
   "metadata": {
    "tags": []
   },
   "source": [
    "# Syndrome measurements for stabilizer codes"
   ]
  },
  {
   "cell_type": "markdown",
   "id": "b00286a1",
   "metadata": {
    "tags": [
     "remove-cell"
    ]
   },
   "source": [
    "<div style=\"width:100%;text-align:right;font-size:0.75em;opacity:0.2\">Latex macros</div>\n",
    "$ \\newcommand{\\ket}[1]{|#1\\rangle} $\n",
    "$ \\newcommand{\\bra}[1]{\\langle #1|} $\n",
    "$\\newcommand{\\iu}{{i\\mkern1mu}}$\n",
    "$ \\newcommand{\\e}{\\mathrm{e}}$\n",
    "$\\newcommand{\\bigo}{\\mathcal{O}}$\n",
    "$\\newcommand{\\set}[1]{\\{#1\\}}$\n",
    "$\\newcommand{\\oper}[1]{\\mathcal{#1}}$\n",
    "$\\newcommand{\\st}[1]{\\mathcal{#1}}$\n",
    "$\\newcommand{\\vecs}[1]{\\mathcal{#1}}$\n",
    "$\\newcommand{\\group}[1]{\\mathcal{#1}}$\n",
    "$\\newcommand{\\union}{\\hspace{0.25em}\\cup\\hspace{0.25em}}$"
   ]
  },
  {
   "cell_type": "markdown",
   "id": "dbdea8e4-c238-45f1-ae31-86d7cba87d96",
   "metadata": {},
   "source": [
    "We will revisit syndrome measurements now, and demonstrate a general algorithm to construct them for stabilizer codes.\n",
    "\n",
    "Our working example will be the Steane code."
   ]
  },
  {
   "cell_type": "code",
   "execution_count": 1,
   "id": "cb571cf4-9f99-47e5-863d-dfe3a52a7a0d",
   "metadata": {},
   "outputs": [
    {
     "data": {
      "text/latex": [
       "$\\displaystyle                 \\left(\\begin{array}{ccccccc|ccccccc}\n",
       "                       1 & 1 & 1 & 1 & 0 & 0 & 0 & 0 & 0 & 0 & 0 & 0 & 0 & 0 \\\\\n",
       "1 & 1 & 0 & 0 & 1 & 1 & 0 & 0 & 0 & 0 & 0 & 0 & 0 & 0 \\\\\n",
       "1 & 0 & 1 & 0 & 1 & 0 & 1 & 0 & 0 & 0 & 0 & 0 & 0 & 0 \\\\\n",
       "0 & 0 & 0 & 0 & 0 & 0 & 0 & 1 & 1 & 1 & 1 & 0 & 0 & 0 \\\\\n",
       "0 & 0 & 0 & 0 & 0 & 0 & 0 & 1 & 1 & 0 & 0 & 1 & 1 & 0 \\\\\n",
       "0 & 0 & 0 & 0 & 0 & 0 & 0 & 1 & 0 & 1 & 0 & 1 & 0 & 1 \\\\\n",
       "\n",
       "                       \\end{array}\\right)                    $"
      ],
      "text/plain": [
       "<IPython.core.display.Math object>"
      ]
     },
     "metadata": {},
     "output_type": "display_data"
    }
   ],
   "source": [
    "import stac\n",
    "cd = stac.CommonCodes.generate_code(\"[[7,1,3]]\")\n",
    "stac.print_matrix(cd.generator_matrix, augmented=True)"
   ]
  },
  {
   "cell_type": "markdown",
   "id": "f958cc72-0b9b-483e-bd74-3085a6b53177",
   "metadata": {},
   "source": [
    "As you might recall, we said that for stabilizer codes, one has to measure each generator in turn. This is done via the following algorithm, which creates a circuit with $n+m$ qubits.\n",
    "```\n",
    "syndrome_circuit = stac.Circuit.simple(cd.num_data_qubits + cd.num_generators)\n",
    "for i in range(num_generators):\n",
    "    syndrome_circuit.append(\"H\", n+i)\n",
    "\n",
    "for i in range(cd.num_generators):\n",
    "    for j in range(cd.num_data_qubits):\n",
    "        if cd.generators_x[i, j] and cd.generators_z[i, j]:\n",
    "            syndrome_circuit.append(\"CX\", n+i, j)\n",
    "            syndrome_circuit.append(\"CZ\", n+i, j)\n",
    "        elif cd.generators_x[i, j]:\n",
    "            syndrome_circuit.append(\"CX\", n+i, j)\n",
    "        elif cd.generators_z[i, j]:\n",
    "            syndrome_circuit.append(\"CZ\", n+i, j)\n",
    "\n",
    "for i in range(cd.num_generators):\n",
    "    syndrome_circuit.append(\"H\", n+i)\n",
    "    \n",
    "for i in range(cd.num_generators):\n",
    "        syndrome_circuit.append('MR', self.num_data_qubits+i)\n",
    "```"
   ]
  },
  {
   "cell_type": "code",
   "execution_count": 2,
   "id": "2ec63625-3cdc-42d2-8aa7-1e670a77a449",
   "metadata": {},
   "outputs": [
    {
     "data": {
      "image/svg+xml": [
       "<svg xmlns=\"http://www.w3.org/2000/svg\" viewBox=\"0 0 1354 598\" width=\"1354\"><style>\n",
       "            .backgroundrect {fill: white;}\n",
       "            .labeltext { font-family: Bitstream Vera Sans Mono;\n",
       "                        font-size: 12px; font-weight: 400; fill: black;}\n",
       "            .qubitline { stroke: black; stroke-width: 2; }\n",
       "            .gatetext { font-family: Latin Modern Math, Cambria Math;\n",
       "                        font-size: 20px; font-weight: 400; fill: black;}\n",
       "            .gaterect { fill: white; stroke: black; stroke-width: 2 }\n",
       "            .control1 { fill: black; stroke: black; stroke-width: 1 }\n",
       "            .controlline { stroke: black; stroke-width: 2}\n",
       "            .tickline { stroke: black; stroke-width: 0.75; stroke-dasharray: 6,3}\n",
       "            .tp_highlight1 { fill: red; opacity: 0.2;}\n",
       "            .tp_highlight2 { fill: blue; opacity: 0.2;}</style><rect class=\"backgroundrect\" x=\"0\" y=\"0\" width=\"1354\" height=\"598\"/><line class=\"qubitline\" x1=\"160\" y1=\"20\" x2=\"1354\" y2=\"20\"/><line class=\"qubitline\" x1=\"160\" y1=\"66\" x2=\"1354\" y2=\"66\"/><line class=\"qubitline\" x1=\"160\" y1=\"112\" x2=\"1354\" y2=\"112\"/><line class=\"qubitline\" x1=\"160\" y1=\"158\" x2=\"1354\" y2=\"158\"/><line class=\"qubitline\" x1=\"160\" y1=\"204\" x2=\"1354\" y2=\"204\"/><line class=\"qubitline\" x1=\"160\" y1=\"250\" x2=\"1354\" y2=\"250\"/><line class=\"qubitline\" x1=\"160\" y1=\"296\" x2=\"1354\" y2=\"296\"/><line class=\"qubitline\" x1=\"160\" y1=\"342\" x2=\"1354\" y2=\"342\"/><line class=\"qubitline\" x1=\"160\" y1=\"388\" x2=\"1354\" y2=\"388\"/><line class=\"qubitline\" x1=\"160\" y1=\"434\" x2=\"1354\" y2=\"434\"/><line class=\"qubitline\" x1=\"160\" y1=\"480\" x2=\"1354\" y2=\"480\"/><line class=\"qubitline\" x1=\"160\" y1=\"526\" x2=\"1354\" y2=\"526\"/><line class=\"qubitline\" x1=\"160\" y1=\"572\" x2=\"1354\" y2=\"572\"/><text dominant-baseline=\"central\" class=\"labeltext\" x=\"0\" y=\"20\">(0, 0, 0, 0)    :  0</text><text dominant-baseline=\"central\" class=\"labeltext\" x=\"0\" y=\"66\">(0, 0, 0, 1)    :  1</text><text dominant-baseline=\"central\" class=\"labeltext\" x=\"0\" y=\"112\">(0, 0, 0, 2)    :  2</text><text dominant-baseline=\"central\" class=\"labeltext\" x=\"0\" y=\"158\">(0, 0, 0, 3)    :  3</text><text dominant-baseline=\"central\" class=\"labeltext\" x=\"0\" y=\"204\">(0, 0, 0, 4)    :  4</text><text dominant-baseline=\"central\" class=\"labeltext\" x=\"0\" y=\"250\">(0, 0, 0, 5)    :  5</text><text dominant-baseline=\"central\" class=\"labeltext\" x=\"0\" y=\"296\">(0, 0, 0, 6)    :  6</text><text dominant-baseline=\"central\" class=\"labeltext\" x=\"0\" y=\"342\">(0, 0, 1, 0, 0) :  7</text><text dominant-baseline=\"central\" class=\"labeltext\" x=\"0\" y=\"388\">(0, 0, 1, 1, 0) :  8</text><text dominant-baseline=\"central\" class=\"labeltext\" x=\"0\" y=\"434\">(0, 0, 1, 2, 0) :  9</text><text dominant-baseline=\"central\" class=\"labeltext\" x=\"0\" y=\"480\">(0, 0, 1, 3, 0) : 10</text><text dominant-baseline=\"central\" class=\"labeltext\" x=\"0\" y=\"526\">(0, 0, 1, 4, 0) : 11</text><text dominant-baseline=\"central\" class=\"labeltext\" x=\"0\" y=\"572\">(0, 0, 1, 5, 0) : 12</text><rect class=\"gaterect\" x=\"175\" y=\"329.0\" width=\"28\" height=\"26\"/><text dominant-baseline=\"central\" text-anchor=\"middle\" class=\"gatetext\" x=\"189.0\" y=\"342.0\">H</text><rect class=\"gaterect\" x=\"175\" y=\"375.0\" width=\"28\" height=\"26\"/><text dominant-baseline=\"central\" text-anchor=\"middle\" class=\"gatetext\" x=\"189.0\" y=\"388.0\">H</text><rect class=\"gaterect\" x=\"175\" y=\"421.0\" width=\"28\" height=\"26\"/><text dominant-baseline=\"central\" text-anchor=\"middle\" class=\"gatetext\" x=\"189.0\" y=\"434.0\">H</text><rect class=\"gaterect\" x=\"175\" y=\"467.0\" width=\"28\" height=\"26\"/><text dominant-baseline=\"central\" text-anchor=\"middle\" class=\"gatetext\" x=\"189.0\" y=\"480.0\">H</text><rect class=\"gaterect\" x=\"175\" y=\"513.0\" width=\"28\" height=\"26\"/><text dominant-baseline=\"central\" text-anchor=\"middle\" class=\"gatetext\" x=\"189.0\" y=\"526.0\">H</text><rect class=\"gaterect\" x=\"175\" y=\"559.0\" width=\"28\" height=\"26\"/><text dominant-baseline=\"central\" text-anchor=\"middle\" class=\"gatetext\" x=\"189.0\" y=\"572.0\">H</text><circle class=\"control1\" cx=\"232.0\" cy=\"342\" r=\"3\"/><line class=\"controlline\" x1=\"232.0\" y1=\"345\" x2=\"232.0\" y2=\"7.0\"/><rect class=\"gaterect\" x=\"218\" y=\"7.0\" width=\"28\" height=\"26\"/><text dominant-baseline=\"central\" text-anchor=\"middle\" class=\"gatetext\" x=\"232.0\" y=\"20.0\">X</text><circle class=\"control1\" cx=\"275.0\" cy=\"342\" r=\"3\"/><line class=\"controlline\" x1=\"275.0\" y1=\"345\" x2=\"275.0\" y2=\"53.0\"/><rect class=\"gaterect\" x=\"261\" y=\"53.0\" width=\"28\" height=\"26\"/><text dominant-baseline=\"central\" text-anchor=\"middle\" class=\"gatetext\" x=\"275.0\" y=\"66.0\">X</text><circle class=\"control1\" cx=\"318.0\" cy=\"342\" r=\"3\"/><line class=\"controlline\" x1=\"318.0\" y1=\"345\" x2=\"318.0\" y2=\"99.0\"/><rect class=\"gaterect\" x=\"304\" y=\"99.0\" width=\"28\" height=\"26\"/><text dominant-baseline=\"central\" text-anchor=\"middle\" class=\"gatetext\" x=\"318.0\" y=\"112.0\">X</text><circle class=\"control1\" cx=\"361.0\" cy=\"342\" r=\"3\"/><line class=\"controlline\" x1=\"361.0\" y1=\"345\" x2=\"361.0\" y2=\"145.0\"/><rect class=\"gaterect\" x=\"347\" y=\"145.0\" width=\"28\" height=\"26\"/><text dominant-baseline=\"central\" text-anchor=\"middle\" class=\"gatetext\" x=\"361.0\" y=\"158.0\">X</text><circle class=\"control1\" cx=\"404.0\" cy=\"388\" r=\"3\"/><line class=\"controlline\" x1=\"404.0\" y1=\"391\" x2=\"404.0\" y2=\"7.0\"/><rect class=\"gaterect\" x=\"390\" y=\"7.0\" width=\"28\" height=\"26\"/><text dominant-baseline=\"central\" text-anchor=\"middle\" class=\"gatetext\" x=\"404.0\" y=\"20.0\">X</text><circle class=\"control1\" cx=\"447.0\" cy=\"388\" r=\"3\"/><line class=\"controlline\" x1=\"447.0\" y1=\"391\" x2=\"447.0\" y2=\"53.0\"/><rect class=\"gaterect\" x=\"433\" y=\"53.0\" width=\"28\" height=\"26\"/><text dominant-baseline=\"central\" text-anchor=\"middle\" class=\"gatetext\" x=\"447.0\" y=\"66.0\">X</text><circle class=\"control1\" cx=\"490.0\" cy=\"388\" r=\"3\"/><line class=\"controlline\" x1=\"490.0\" y1=\"391\" x2=\"490.0\" y2=\"191.0\"/><rect class=\"gaterect\" x=\"476\" y=\"191.0\" width=\"28\" height=\"26\"/><text dominant-baseline=\"central\" text-anchor=\"middle\" class=\"gatetext\" x=\"490.0\" y=\"204.0\">X</text><circle class=\"control1\" cx=\"533.0\" cy=\"388\" r=\"3\"/><line class=\"controlline\" x1=\"533.0\" y1=\"391\" x2=\"533.0\" y2=\"237.0\"/><rect class=\"gaterect\" x=\"519\" y=\"237.0\" width=\"28\" height=\"26\"/><text dominant-baseline=\"central\" text-anchor=\"middle\" class=\"gatetext\" x=\"533.0\" y=\"250.0\">X</text><circle class=\"control1\" cx=\"576.0\" cy=\"434\" r=\"3\"/><line class=\"controlline\" x1=\"576.0\" y1=\"437\" x2=\"576.0\" y2=\"7.0\"/><rect class=\"gaterect\" x=\"562\" y=\"7.0\" width=\"28\" height=\"26\"/><text dominant-baseline=\"central\" text-anchor=\"middle\" class=\"gatetext\" x=\"576.0\" y=\"20.0\">X</text><circle class=\"control1\" cx=\"619.0\" cy=\"434\" r=\"3\"/><line class=\"controlline\" x1=\"619.0\" y1=\"437\" x2=\"619.0\" y2=\"99.0\"/><rect class=\"gaterect\" x=\"605\" y=\"99.0\" width=\"28\" height=\"26\"/><text dominant-baseline=\"central\" text-anchor=\"middle\" class=\"gatetext\" x=\"619.0\" y=\"112.0\">X</text><circle class=\"control1\" cx=\"662.0\" cy=\"434\" r=\"3\"/><line class=\"controlline\" x1=\"662.0\" y1=\"437\" x2=\"662.0\" y2=\"191.0\"/><rect class=\"gaterect\" x=\"648\" y=\"191.0\" width=\"28\" height=\"26\"/><text dominant-baseline=\"central\" text-anchor=\"middle\" class=\"gatetext\" x=\"662.0\" y=\"204.0\">X</text><circle class=\"control1\" cx=\"705.0\" cy=\"434\" r=\"3\"/><line class=\"controlline\" x1=\"705.0\" y1=\"437\" x2=\"705.0\" y2=\"283.0\"/><rect class=\"gaterect\" x=\"691\" y=\"283.0\" width=\"28\" height=\"26\"/><text dominant-baseline=\"central\" text-anchor=\"middle\" class=\"gatetext\" x=\"705.0\" y=\"296.0\">X</text><circle class=\"control1\" cx=\"748.0\" cy=\"480\" r=\"3\"/><line class=\"controlline\" x1=\"748.0\" y1=\"483\" x2=\"748.0\" y2=\"7.0\"/><rect class=\"gaterect\" x=\"734\" y=\"7.0\" width=\"28\" height=\"26\"/><text dominant-baseline=\"central\" text-anchor=\"middle\" class=\"gatetext\" x=\"748.0\" y=\"20.0\">Z</text><circle class=\"control1\" cx=\"791.0\" cy=\"480\" r=\"3\"/><line class=\"controlline\" x1=\"791.0\" y1=\"483\" x2=\"791.0\" y2=\"53.0\"/><rect class=\"gaterect\" x=\"777\" y=\"53.0\" width=\"28\" height=\"26\"/><text dominant-baseline=\"central\" text-anchor=\"middle\" class=\"gatetext\" x=\"791.0\" y=\"66.0\">Z</text><circle class=\"control1\" cx=\"834.0\" cy=\"480\" r=\"3\"/><line class=\"controlline\" x1=\"834.0\" y1=\"483\" x2=\"834.0\" y2=\"99.0\"/><rect class=\"gaterect\" x=\"820\" y=\"99.0\" width=\"28\" height=\"26\"/><text dominant-baseline=\"central\" text-anchor=\"middle\" class=\"gatetext\" x=\"834.0\" y=\"112.0\">Z</text><circle class=\"control1\" cx=\"877.0\" cy=\"480\" r=\"3\"/><line class=\"controlline\" x1=\"877.0\" y1=\"483\" x2=\"877.0\" y2=\"145.0\"/><rect class=\"gaterect\" x=\"863\" y=\"145.0\" width=\"28\" height=\"26\"/><text dominant-baseline=\"central\" text-anchor=\"middle\" class=\"gatetext\" x=\"877.0\" y=\"158.0\">Z</text><circle class=\"control1\" cx=\"920.0\" cy=\"526\" r=\"3\"/><line class=\"controlline\" x1=\"920.0\" y1=\"529\" x2=\"920.0\" y2=\"7.0\"/><rect class=\"gaterect\" x=\"906\" y=\"7.0\" width=\"28\" height=\"26\"/><text dominant-baseline=\"central\" text-anchor=\"middle\" class=\"gatetext\" x=\"920.0\" y=\"20.0\">Z</text><circle class=\"control1\" cx=\"963.0\" cy=\"526\" r=\"3\"/><line class=\"controlline\" x1=\"963.0\" y1=\"529\" x2=\"963.0\" y2=\"53.0\"/><rect class=\"gaterect\" x=\"949\" y=\"53.0\" width=\"28\" height=\"26\"/><text dominant-baseline=\"central\" text-anchor=\"middle\" class=\"gatetext\" x=\"963.0\" y=\"66.0\">Z</text><circle class=\"control1\" cx=\"1006.0\" cy=\"526\" r=\"3\"/><line class=\"controlline\" x1=\"1006.0\" y1=\"529\" x2=\"1006.0\" y2=\"191.0\"/><rect class=\"gaterect\" x=\"992\" y=\"191.0\" width=\"28\" height=\"26\"/><text dominant-baseline=\"central\" text-anchor=\"middle\" class=\"gatetext\" x=\"1006.0\" y=\"204.0\">Z</text><circle class=\"control1\" cx=\"1049.0\" cy=\"526\" r=\"3\"/><line class=\"controlline\" x1=\"1049.0\" y1=\"529\" x2=\"1049.0\" y2=\"237.0\"/><rect class=\"gaterect\" x=\"1035\" y=\"237.0\" width=\"28\" height=\"26\"/><text dominant-baseline=\"central\" text-anchor=\"middle\" class=\"gatetext\" x=\"1049.0\" y=\"250.0\">Z</text><circle class=\"control1\" cx=\"1092.0\" cy=\"572\" r=\"3\"/><line class=\"controlline\" x1=\"1092.0\" y1=\"575\" x2=\"1092.0\" y2=\"7.0\"/><rect class=\"gaterect\" x=\"1078\" y=\"7.0\" width=\"28\" height=\"26\"/><text dominant-baseline=\"central\" text-anchor=\"middle\" class=\"gatetext\" x=\"1092.0\" y=\"20.0\">Z</text><circle class=\"control1\" cx=\"1135.0\" cy=\"572\" r=\"3\"/><line class=\"controlline\" x1=\"1135.0\" y1=\"575\" x2=\"1135.0\" y2=\"99.0\"/><rect class=\"gaterect\" x=\"1121\" y=\"99.0\" width=\"28\" height=\"26\"/><text dominant-baseline=\"central\" text-anchor=\"middle\" class=\"gatetext\" x=\"1135.0\" y=\"112.0\">Z</text><circle class=\"control1\" cx=\"1178.0\" cy=\"572\" r=\"3\"/><line class=\"controlline\" x1=\"1178.0\" y1=\"575\" x2=\"1178.0\" y2=\"191.0\"/><rect class=\"gaterect\" x=\"1164\" y=\"191.0\" width=\"28\" height=\"26\"/><text dominant-baseline=\"central\" text-anchor=\"middle\" class=\"gatetext\" x=\"1178.0\" y=\"204.0\">Z</text><circle class=\"control1\" cx=\"1221.0\" cy=\"572\" r=\"3\"/><line class=\"controlline\" x1=\"1221.0\" y1=\"575\" x2=\"1221.0\" y2=\"283.0\"/><rect class=\"gaterect\" x=\"1207\" y=\"283.0\" width=\"28\" height=\"26\"/><text dominant-baseline=\"central\" text-anchor=\"middle\" class=\"gatetext\" x=\"1221.0\" y=\"296.0\">Z</text><rect class=\"gaterect\" x=\"1250\" y=\"329.0\" width=\"28\" height=\"26\"/><text dominant-baseline=\"central\" text-anchor=\"middle\" class=\"gatetext\" x=\"1264.0\" y=\"342.0\">H</text><rect class=\"gaterect\" x=\"1250\" y=\"375.0\" width=\"28\" height=\"26\"/><text dominant-baseline=\"central\" text-anchor=\"middle\" class=\"gatetext\" x=\"1264.0\" y=\"388.0\">H</text><rect class=\"gaterect\" x=\"1250\" y=\"421.0\" width=\"28\" height=\"26\"/><text dominant-baseline=\"central\" text-anchor=\"middle\" class=\"gatetext\" x=\"1264.0\" y=\"434.0\">H</text><rect class=\"gaterect\" x=\"1250\" y=\"467.0\" width=\"28\" height=\"26\"/><text dominant-baseline=\"central\" text-anchor=\"middle\" class=\"gatetext\" x=\"1264.0\" y=\"480.0\">H</text><rect class=\"gaterect\" x=\"1250\" y=\"513.0\" width=\"28\" height=\"26\"/><text dominant-baseline=\"central\" text-anchor=\"middle\" class=\"gatetext\" x=\"1264.0\" y=\"526.0\">H</text><rect class=\"gaterect\" x=\"1250\" y=\"559.0\" width=\"28\" height=\"26\"/><text dominant-baseline=\"central\" text-anchor=\"middle\" class=\"gatetext\" x=\"1264.0\" y=\"572.0\">H</text><rect class=\"gaterect\" x=\"1293\" y=\"329.0\" width=\"46\" height=\"26\"/><text dominant-baseline=\"central\" text-anchor=\"middle\" class=\"gatetext\" x=\"1316.0\" y=\"342.0\">MR</text><rect class=\"gaterect\" x=\"1293\" y=\"375.0\" width=\"46\" height=\"26\"/><text dominant-baseline=\"central\" text-anchor=\"middle\" class=\"gatetext\" x=\"1316.0\" y=\"388.0\">MR</text><rect class=\"gaterect\" x=\"1293\" y=\"421.0\" width=\"46\" height=\"26\"/><text dominant-baseline=\"central\" text-anchor=\"middle\" class=\"gatetext\" x=\"1316.0\" y=\"434.0\">MR</text><rect class=\"gaterect\" x=\"1293\" y=\"467.0\" width=\"46\" height=\"26\"/><text dominant-baseline=\"central\" text-anchor=\"middle\" class=\"gatetext\" x=\"1316.0\" y=\"480.0\">MR</text><rect class=\"gaterect\" x=\"1293\" y=\"513.0\" width=\"46\" height=\"26\"/><text dominant-baseline=\"central\" text-anchor=\"middle\" class=\"gatetext\" x=\"1316.0\" y=\"526.0\">MR</text><rect class=\"gaterect\" x=\"1293\" y=\"559.0\" width=\"46\" height=\"26\"/><text dominant-baseline=\"central\" text-anchor=\"middle\" class=\"gatetext\" x=\"1316.0\" y=\"572.0\">MR</text></svg>"
      ],
      "text/plain": [
       "<IPython.core.display.SVG object>"
      ]
     },
     "metadata": {},
     "output_type": "display_data"
    }
   ],
   "source": [
    "cd.construct_syndrome_circuit();\n",
    "cd.syndrome_circuit.draw()"
   ]
  },
  {
   "cell_type": "markdown",
   "id": "7c6c717e-e6bd-4ae4-a425-adddaa66fcb0",
   "metadata": {},
   "source": [
    "To use this in practice, we will\n",
    "\n",
    "1. Encode the zero state\n",
    "2. Introduce an error\n",
    "3. Measure the stabilizers"
   ]
  },
  {
   "cell_type": "code",
   "execution_count": 3,
   "id": "79baab5c-aa65-4399-af4a-69ec353febaf",
   "metadata": {},
   "outputs": [
    {
     "data": {
      "image/svg+xml": [
       "<svg xmlns=\"http://www.w3.org/2000/svg\" viewBox=\"0 0 1956 598\" width=\"1956\"><style>\n",
       "            .backgroundrect {fill: white;}\n",
       "            .labeltext { font-family: Bitstream Vera Sans Mono;\n",
       "                        font-size: 12px; font-weight: 400; fill: black;}\n",
       "            .qubitline { stroke: black; stroke-width: 2; }\n",
       "            .gatetext { font-family: Latin Modern Math, Cambria Math;\n",
       "                        font-size: 20px; font-weight: 400; fill: black;}\n",
       "            .gaterect { fill: white; stroke: black; stroke-width: 2 }\n",
       "            .control1 { fill: black; stroke: black; stroke-width: 1 }\n",
       "            .controlline { stroke: black; stroke-width: 2}\n",
       "            .tickline { stroke: black; stroke-width: 0.75; stroke-dasharray: 6,3}\n",
       "            .tp_highlight1 { fill: red; opacity: 0.2;}\n",
       "            .tp_highlight2 { fill: blue; opacity: 0.2;}</style><rect class=\"backgroundrect\" x=\"0\" y=\"0\" width=\"1956\" height=\"598\"/><line class=\"qubitline\" x1=\"160\" y1=\"20\" x2=\"1956\" y2=\"20\"/><line class=\"qubitline\" x1=\"160\" y1=\"66\" x2=\"1956\" y2=\"66\"/><line class=\"qubitline\" x1=\"160\" y1=\"112\" x2=\"1956\" y2=\"112\"/><line class=\"qubitline\" x1=\"160\" y1=\"158\" x2=\"1956\" y2=\"158\"/><line class=\"qubitline\" x1=\"160\" y1=\"204\" x2=\"1956\" y2=\"204\"/><line class=\"qubitline\" x1=\"160\" y1=\"250\" x2=\"1956\" y2=\"250\"/><line class=\"qubitline\" x1=\"160\" y1=\"296\" x2=\"1956\" y2=\"296\"/><line class=\"qubitline\" x1=\"160\" y1=\"342\" x2=\"1956\" y2=\"342\"/><line class=\"qubitline\" x1=\"160\" y1=\"388\" x2=\"1956\" y2=\"388\"/><line class=\"qubitline\" x1=\"160\" y1=\"434\" x2=\"1956\" y2=\"434\"/><line class=\"qubitline\" x1=\"160\" y1=\"480\" x2=\"1956\" y2=\"480\"/><line class=\"qubitline\" x1=\"160\" y1=\"526\" x2=\"1956\" y2=\"526\"/><line class=\"qubitline\" x1=\"160\" y1=\"572\" x2=\"1956\" y2=\"572\"/><text dominant-baseline=\"central\" class=\"labeltext\" x=\"0\" y=\"20\">(0, 0, 0, 0)    :  0</text><text dominant-baseline=\"central\" class=\"labeltext\" x=\"0\" y=\"66\">(0, 0, 0, 1)    :  1</text><text dominant-baseline=\"central\" class=\"labeltext\" x=\"0\" y=\"112\">(0, 0, 0, 2)    :  2</text><text dominant-baseline=\"central\" class=\"labeltext\" x=\"0\" y=\"158\">(0, 0, 0, 3)    :  3</text><text dominant-baseline=\"central\" class=\"labeltext\" x=\"0\" y=\"204\">(0, 0, 0, 4)    :  4</text><text dominant-baseline=\"central\" class=\"labeltext\" x=\"0\" y=\"250\">(0, 0, 0, 5)    :  5</text><text dominant-baseline=\"central\" class=\"labeltext\" x=\"0\" y=\"296\">(0, 0, 0, 6)    :  6</text><text dominant-baseline=\"central\" class=\"labeltext\" x=\"0\" y=\"342\">(0, 0, 1, 0, 0) :  7</text><text dominant-baseline=\"central\" class=\"labeltext\" x=\"0\" y=\"388\">(0, 0, 1, 1, 0) :  8</text><text dominant-baseline=\"central\" class=\"labeltext\" x=\"0\" y=\"434\">(0, 0, 1, 2, 0) :  9</text><text dominant-baseline=\"central\" class=\"labeltext\" x=\"0\" y=\"480\">(0, 0, 1, 3, 0) : 10</text><text dominant-baseline=\"central\" class=\"labeltext\" x=\"0\" y=\"526\">(0, 0, 1, 4, 0) : 11</text><text dominant-baseline=\"central\" class=\"labeltext\" x=\"0\" y=\"572\">(0, 0, 1, 5, 0) : 12</text><circle class=\"control1\" cx=\"189.0\" cy=\"296\" r=\"3\"/><line class=\"controlline\" x1=\"189.0\" y1=\"299\" x2=\"189.0\" y2=\"191.0\"/><rect class=\"gaterect\" x=\"175\" y=\"191.0\" width=\"28\" height=\"26\"/><text dominant-baseline=\"central\" text-anchor=\"middle\" class=\"gatetext\" x=\"189.0\" y=\"204.0\">X</text><circle class=\"control1\" cx=\"232.0\" cy=\"296\" r=\"3\"/><line class=\"controlline\" x1=\"232.0\" y1=\"299\" x2=\"232.0\" y2=\"237.0\"/><rect class=\"gaterect\" x=\"218\" y=\"237.0\" width=\"28\" height=\"26\"/><text dominant-baseline=\"central\" text-anchor=\"middle\" class=\"gatetext\" x=\"232.0\" y=\"250.0\">X</text><rect class=\"gaterect\" x=\"218\" y=\"7.0\" width=\"28\" height=\"26\"/><text dominant-baseline=\"central\" text-anchor=\"middle\" class=\"gatetext\" x=\"232.0\" y=\"20.0\">H</text><circle class=\"control1\" cx=\"275.0\" cy=\"20\" r=\"3\"/><line class=\"controlline\" x1=\"275.0\" y1=\"23\" x2=\"275.0\" y2=\"145.0\"/><rect class=\"gaterect\" x=\"261\" y=\"145.0\" width=\"28\" height=\"26\"/><text dominant-baseline=\"central\" text-anchor=\"middle\" class=\"gatetext\" x=\"275.0\" y=\"158.0\">X</text><circle class=\"control1\" cx=\"318.0\" cy=\"20\" r=\"3\"/><line class=\"controlline\" x1=\"318.0\" y1=\"23\" x2=\"318.0\" y2=\"237.0\"/><rect class=\"gaterect\" x=\"304\" y=\"237.0\" width=\"28\" height=\"26\"/><text dominant-baseline=\"central\" text-anchor=\"middle\" class=\"gatetext\" x=\"318.0\" y=\"250.0\">X</text><circle class=\"control1\" cx=\"361.0\" cy=\"20\" r=\"3\"/><line class=\"controlline\" x1=\"361.0\" y1=\"23\" x2=\"361.0\" y2=\"283.0\"/><rect class=\"gaterect\" x=\"347\" y=\"283.0\" width=\"28\" height=\"26\"/><text dominant-baseline=\"central\" text-anchor=\"middle\" class=\"gatetext\" x=\"361.0\" y=\"296.0\">X</text><rect class=\"gaterect\" x=\"390\" y=\"53.0\" width=\"28\" height=\"26\"/><text dominant-baseline=\"central\" text-anchor=\"middle\" class=\"gatetext\" x=\"404.0\" y=\"66.0\">H</text><circle class=\"control1\" cx=\"447.0\" cy=\"66\" r=\"3\"/><line class=\"controlline\" x1=\"447.0\" y1=\"69\" x2=\"447.0\" y2=\"145.0\"/><rect class=\"gaterect\" x=\"433\" y=\"145.0\" width=\"28\" height=\"26\"/><text dominant-baseline=\"central\" text-anchor=\"middle\" class=\"gatetext\" x=\"447.0\" y=\"158.0\">X</text><circle class=\"control1\" cx=\"490.0\" cy=\"66\" r=\"3\"/><line class=\"controlline\" x1=\"490.0\" y1=\"69\" x2=\"490.0\" y2=\"191.0\"/><rect class=\"gaterect\" x=\"476\" y=\"191.0\" width=\"28\" height=\"26\"/><text dominant-baseline=\"central\" text-anchor=\"middle\" class=\"gatetext\" x=\"490.0\" y=\"204.0\">X</text><circle class=\"control1\" cx=\"533.0\" cy=\"66\" r=\"3\"/><line class=\"controlline\" x1=\"533.0\" y1=\"69\" x2=\"533.0\" y2=\"283.0\"/><rect class=\"gaterect\" x=\"519\" y=\"283.0\" width=\"28\" height=\"26\"/><text dominant-baseline=\"central\" text-anchor=\"middle\" class=\"gatetext\" x=\"533.0\" y=\"296.0\">X</text><rect class=\"gaterect\" x=\"562\" y=\"99.0\" width=\"28\" height=\"26\"/><text dominant-baseline=\"central\" text-anchor=\"middle\" class=\"gatetext\" x=\"576.0\" y=\"112.0\">H</text><circle class=\"control1\" cx=\"619.0\" cy=\"112\" r=\"3\"/><line class=\"controlline\" x1=\"619.0\" y1=\"115\" x2=\"619.0\" y2=\"145.0\"/><rect class=\"gaterect\" x=\"605\" y=\"145.0\" width=\"28\" height=\"26\"/><text dominant-baseline=\"central\" text-anchor=\"middle\" class=\"gatetext\" x=\"619.0\" y=\"158.0\">X</text><circle class=\"control1\" cx=\"662.0\" cy=\"112\" r=\"3\"/><line class=\"controlline\" x1=\"662.0\" y1=\"115\" x2=\"662.0\" y2=\"191.0\"/><rect class=\"gaterect\" x=\"648\" y=\"191.0\" width=\"28\" height=\"26\"/><text dominant-baseline=\"central\" text-anchor=\"middle\" class=\"gatetext\" x=\"662.0\" y=\"204.0\">X</text><circle class=\"control1\" cx=\"705.0\" cy=\"112\" r=\"3\"/><line class=\"controlline\" x1=\"705.0\" y1=\"115\" x2=\"705.0\" y2=\"237.0\"/><rect class=\"gaterect\" x=\"691\" y=\"237.0\" width=\"28\" height=\"26\"/><text dominant-baseline=\"central\" text-anchor=\"middle\" class=\"gatetext\" x=\"705.0\" y=\"250.0\">X</text><line class=\"tickline\" x1=\"726.5\" y1=\"0\" x2=\"726.5\" y2=\"592\"/><rect class=\"gaterect\" x=\"734\" y=\"53.0\" width=\"28\" height=\"26\"/><text dominant-baseline=\"central\" text-anchor=\"middle\" class=\"gatetext\" x=\"748.0\" y=\"66.0\">X</text><rect class=\"gaterect\" x=\"777\" y=\"329.0\" width=\"28\" height=\"26\"/><text dominant-baseline=\"central\" text-anchor=\"middle\" class=\"gatetext\" x=\"791.0\" y=\"342.0\">H</text><rect class=\"gaterect\" x=\"777\" y=\"375.0\" width=\"28\" height=\"26\"/><text dominant-baseline=\"central\" text-anchor=\"middle\" class=\"gatetext\" x=\"791.0\" y=\"388.0\">H</text><rect class=\"gaterect\" x=\"777\" y=\"421.0\" width=\"28\" height=\"26\"/><text dominant-baseline=\"central\" text-anchor=\"middle\" class=\"gatetext\" x=\"791.0\" y=\"434.0\">H</text><rect class=\"gaterect\" x=\"777\" y=\"467.0\" width=\"28\" height=\"26\"/><text dominant-baseline=\"central\" text-anchor=\"middle\" class=\"gatetext\" x=\"791.0\" y=\"480.0\">H</text><rect class=\"gaterect\" x=\"777\" y=\"513.0\" width=\"28\" height=\"26\"/><text dominant-baseline=\"central\" text-anchor=\"middle\" class=\"gatetext\" x=\"791.0\" y=\"526.0\">H</text><rect class=\"gaterect\" x=\"777\" y=\"559.0\" width=\"28\" height=\"26\"/><text dominant-baseline=\"central\" text-anchor=\"middle\" class=\"gatetext\" x=\"791.0\" y=\"572.0\">H</text><circle class=\"control1\" cx=\"834.0\" cy=\"342\" r=\"3\"/><line class=\"controlline\" x1=\"834.0\" y1=\"345\" x2=\"834.0\" y2=\"7.0\"/><rect class=\"gaterect\" x=\"820\" y=\"7.0\" width=\"28\" height=\"26\"/><text dominant-baseline=\"central\" text-anchor=\"middle\" class=\"gatetext\" x=\"834.0\" y=\"20.0\">X</text><circle class=\"control1\" cx=\"877.0\" cy=\"342\" r=\"3\"/><line class=\"controlline\" x1=\"877.0\" y1=\"345\" x2=\"877.0\" y2=\"53.0\"/><rect class=\"gaterect\" x=\"863\" y=\"53.0\" width=\"28\" height=\"26\"/><text dominant-baseline=\"central\" text-anchor=\"middle\" class=\"gatetext\" x=\"877.0\" y=\"66.0\">X</text><circle class=\"control1\" cx=\"920.0\" cy=\"342\" r=\"3\"/><line class=\"controlline\" x1=\"920.0\" y1=\"345\" x2=\"920.0\" y2=\"99.0\"/><rect class=\"gaterect\" x=\"906\" y=\"99.0\" width=\"28\" height=\"26\"/><text dominant-baseline=\"central\" text-anchor=\"middle\" class=\"gatetext\" x=\"920.0\" y=\"112.0\">X</text><circle class=\"control1\" cx=\"963.0\" cy=\"342\" r=\"3\"/><line class=\"controlline\" x1=\"963.0\" y1=\"345\" x2=\"963.0\" y2=\"145.0\"/><rect class=\"gaterect\" x=\"949\" y=\"145.0\" width=\"28\" height=\"26\"/><text dominant-baseline=\"central\" text-anchor=\"middle\" class=\"gatetext\" x=\"963.0\" y=\"158.0\">X</text><circle class=\"control1\" cx=\"1006.0\" cy=\"388\" r=\"3\"/><line class=\"controlline\" x1=\"1006.0\" y1=\"391\" x2=\"1006.0\" y2=\"7.0\"/><rect class=\"gaterect\" x=\"992\" y=\"7.0\" width=\"28\" height=\"26\"/><text dominant-baseline=\"central\" text-anchor=\"middle\" class=\"gatetext\" x=\"1006.0\" y=\"20.0\">X</text><circle class=\"control1\" cx=\"1049.0\" cy=\"388\" r=\"3\"/><line class=\"controlline\" x1=\"1049.0\" y1=\"391\" x2=\"1049.0\" y2=\"53.0\"/><rect class=\"gaterect\" x=\"1035\" y=\"53.0\" width=\"28\" height=\"26\"/><text dominant-baseline=\"central\" text-anchor=\"middle\" class=\"gatetext\" x=\"1049.0\" y=\"66.0\">X</text><circle class=\"control1\" cx=\"1092.0\" cy=\"388\" r=\"3\"/><line class=\"controlline\" x1=\"1092.0\" y1=\"391\" x2=\"1092.0\" y2=\"191.0\"/><rect class=\"gaterect\" x=\"1078\" y=\"191.0\" width=\"28\" height=\"26\"/><text dominant-baseline=\"central\" text-anchor=\"middle\" class=\"gatetext\" x=\"1092.0\" y=\"204.0\">X</text><circle class=\"control1\" cx=\"1135.0\" cy=\"388\" r=\"3\"/><line class=\"controlline\" x1=\"1135.0\" y1=\"391\" x2=\"1135.0\" y2=\"237.0\"/><rect class=\"gaterect\" x=\"1121\" y=\"237.0\" width=\"28\" height=\"26\"/><text dominant-baseline=\"central\" text-anchor=\"middle\" class=\"gatetext\" x=\"1135.0\" y=\"250.0\">X</text><circle class=\"control1\" cx=\"1178.0\" cy=\"434\" r=\"3\"/><line class=\"controlline\" x1=\"1178.0\" y1=\"437\" x2=\"1178.0\" y2=\"7.0\"/><rect class=\"gaterect\" x=\"1164\" y=\"7.0\" width=\"28\" height=\"26\"/><text dominant-baseline=\"central\" text-anchor=\"middle\" class=\"gatetext\" x=\"1178.0\" y=\"20.0\">X</text><circle class=\"control1\" cx=\"1221.0\" cy=\"434\" r=\"3\"/><line class=\"controlline\" x1=\"1221.0\" y1=\"437\" x2=\"1221.0\" y2=\"99.0\"/><rect class=\"gaterect\" x=\"1207\" y=\"99.0\" width=\"28\" height=\"26\"/><text dominant-baseline=\"central\" text-anchor=\"middle\" class=\"gatetext\" x=\"1221.0\" y=\"112.0\">X</text><circle class=\"control1\" cx=\"1264.0\" cy=\"434\" r=\"3\"/><line class=\"controlline\" x1=\"1264.0\" y1=\"437\" x2=\"1264.0\" y2=\"191.0\"/><rect class=\"gaterect\" x=\"1250\" y=\"191.0\" width=\"28\" height=\"26\"/><text dominant-baseline=\"central\" text-anchor=\"middle\" class=\"gatetext\" x=\"1264.0\" y=\"204.0\">X</text><circle class=\"control1\" cx=\"1307.0\" cy=\"434\" r=\"3\"/><line class=\"controlline\" x1=\"1307.0\" y1=\"437\" x2=\"1307.0\" y2=\"283.0\"/><rect class=\"gaterect\" x=\"1293\" y=\"283.0\" width=\"28\" height=\"26\"/><text dominant-baseline=\"central\" text-anchor=\"middle\" class=\"gatetext\" x=\"1307.0\" y=\"296.0\">X</text><circle class=\"control1\" cx=\"1350.0\" cy=\"480\" r=\"3\"/><line class=\"controlline\" x1=\"1350.0\" y1=\"483\" x2=\"1350.0\" y2=\"7.0\"/><rect class=\"gaterect\" x=\"1336\" y=\"7.0\" width=\"28\" height=\"26\"/><text dominant-baseline=\"central\" text-anchor=\"middle\" class=\"gatetext\" x=\"1350.0\" y=\"20.0\">Z</text><circle class=\"control1\" cx=\"1393.0\" cy=\"480\" r=\"3\"/><line class=\"controlline\" x1=\"1393.0\" y1=\"483\" x2=\"1393.0\" y2=\"53.0\"/><rect class=\"gaterect\" x=\"1379\" y=\"53.0\" width=\"28\" height=\"26\"/><text dominant-baseline=\"central\" text-anchor=\"middle\" class=\"gatetext\" x=\"1393.0\" y=\"66.0\">Z</text><circle class=\"control1\" cx=\"1436.0\" cy=\"480\" r=\"3\"/><line class=\"controlline\" x1=\"1436.0\" y1=\"483\" x2=\"1436.0\" y2=\"99.0\"/><rect class=\"gaterect\" x=\"1422\" y=\"99.0\" width=\"28\" height=\"26\"/><text dominant-baseline=\"central\" text-anchor=\"middle\" class=\"gatetext\" x=\"1436.0\" y=\"112.0\">Z</text><circle class=\"control1\" cx=\"1479.0\" cy=\"480\" r=\"3\"/><line class=\"controlline\" x1=\"1479.0\" y1=\"483\" x2=\"1479.0\" y2=\"145.0\"/><rect class=\"gaterect\" x=\"1465\" y=\"145.0\" width=\"28\" height=\"26\"/><text dominant-baseline=\"central\" text-anchor=\"middle\" class=\"gatetext\" x=\"1479.0\" y=\"158.0\">Z</text><circle class=\"control1\" cx=\"1522.0\" cy=\"526\" r=\"3\"/><line class=\"controlline\" x1=\"1522.0\" y1=\"529\" x2=\"1522.0\" y2=\"7.0\"/><rect class=\"gaterect\" x=\"1508\" y=\"7.0\" width=\"28\" height=\"26\"/><text dominant-baseline=\"central\" text-anchor=\"middle\" class=\"gatetext\" x=\"1522.0\" y=\"20.0\">Z</text><circle class=\"control1\" cx=\"1565.0\" cy=\"526\" r=\"3\"/><line class=\"controlline\" x1=\"1565.0\" y1=\"529\" x2=\"1565.0\" y2=\"53.0\"/><rect class=\"gaterect\" x=\"1551\" y=\"53.0\" width=\"28\" height=\"26\"/><text dominant-baseline=\"central\" text-anchor=\"middle\" class=\"gatetext\" x=\"1565.0\" y=\"66.0\">Z</text><circle class=\"control1\" cx=\"1608.0\" cy=\"526\" r=\"3\"/><line class=\"controlline\" x1=\"1608.0\" y1=\"529\" x2=\"1608.0\" y2=\"191.0\"/><rect class=\"gaterect\" x=\"1594\" y=\"191.0\" width=\"28\" height=\"26\"/><text dominant-baseline=\"central\" text-anchor=\"middle\" class=\"gatetext\" x=\"1608.0\" y=\"204.0\">Z</text><circle class=\"control1\" cx=\"1651.0\" cy=\"526\" r=\"3\"/><line class=\"controlline\" x1=\"1651.0\" y1=\"529\" x2=\"1651.0\" y2=\"237.0\"/><rect class=\"gaterect\" x=\"1637\" y=\"237.0\" width=\"28\" height=\"26\"/><text dominant-baseline=\"central\" text-anchor=\"middle\" class=\"gatetext\" x=\"1651.0\" y=\"250.0\">Z</text><circle class=\"control1\" cx=\"1694.0\" cy=\"572\" r=\"3\"/><line class=\"controlline\" x1=\"1694.0\" y1=\"575\" x2=\"1694.0\" y2=\"7.0\"/><rect class=\"gaterect\" x=\"1680\" y=\"7.0\" width=\"28\" height=\"26\"/><text dominant-baseline=\"central\" text-anchor=\"middle\" class=\"gatetext\" x=\"1694.0\" y=\"20.0\">Z</text><circle class=\"control1\" cx=\"1737.0\" cy=\"572\" r=\"3\"/><line class=\"controlline\" x1=\"1737.0\" y1=\"575\" x2=\"1737.0\" y2=\"99.0\"/><rect class=\"gaterect\" x=\"1723\" y=\"99.0\" width=\"28\" height=\"26\"/><text dominant-baseline=\"central\" text-anchor=\"middle\" class=\"gatetext\" x=\"1737.0\" y=\"112.0\">Z</text><circle class=\"control1\" cx=\"1780.0\" cy=\"572\" r=\"3\"/><line class=\"controlline\" x1=\"1780.0\" y1=\"575\" x2=\"1780.0\" y2=\"191.0\"/><rect class=\"gaterect\" x=\"1766\" y=\"191.0\" width=\"28\" height=\"26\"/><text dominant-baseline=\"central\" text-anchor=\"middle\" class=\"gatetext\" x=\"1780.0\" y=\"204.0\">Z</text><circle class=\"control1\" cx=\"1823.0\" cy=\"572\" r=\"3\"/><line class=\"controlline\" x1=\"1823.0\" y1=\"575\" x2=\"1823.0\" y2=\"283.0\"/><rect class=\"gaterect\" x=\"1809\" y=\"283.0\" width=\"28\" height=\"26\"/><text dominant-baseline=\"central\" text-anchor=\"middle\" class=\"gatetext\" x=\"1823.0\" y=\"296.0\">Z</text><rect class=\"gaterect\" x=\"1852\" y=\"329.0\" width=\"28\" height=\"26\"/><text dominant-baseline=\"central\" text-anchor=\"middle\" class=\"gatetext\" x=\"1866.0\" y=\"342.0\">H</text><rect class=\"gaterect\" x=\"1852\" y=\"375.0\" width=\"28\" height=\"26\"/><text dominant-baseline=\"central\" text-anchor=\"middle\" class=\"gatetext\" x=\"1866.0\" y=\"388.0\">H</text><rect class=\"gaterect\" x=\"1852\" y=\"421.0\" width=\"28\" height=\"26\"/><text dominant-baseline=\"central\" text-anchor=\"middle\" class=\"gatetext\" x=\"1866.0\" y=\"434.0\">H</text><rect class=\"gaterect\" x=\"1852\" y=\"467.0\" width=\"28\" height=\"26\"/><text dominant-baseline=\"central\" text-anchor=\"middle\" class=\"gatetext\" x=\"1866.0\" y=\"480.0\">H</text><rect class=\"gaterect\" x=\"1852\" y=\"513.0\" width=\"28\" height=\"26\"/><text dominant-baseline=\"central\" text-anchor=\"middle\" class=\"gatetext\" x=\"1866.0\" y=\"526.0\">H</text><rect class=\"gaterect\" x=\"1852\" y=\"559.0\" width=\"28\" height=\"26\"/><text dominant-baseline=\"central\" text-anchor=\"middle\" class=\"gatetext\" x=\"1866.0\" y=\"572.0\">H</text><rect class=\"gaterect\" x=\"1895\" y=\"329.0\" width=\"46\" height=\"26\"/><text dominant-baseline=\"central\" text-anchor=\"middle\" class=\"gatetext\" x=\"1918.0\" y=\"342.0\">MR</text><rect class=\"gaterect\" x=\"1895\" y=\"375.0\" width=\"46\" height=\"26\"/><text dominant-baseline=\"central\" text-anchor=\"middle\" class=\"gatetext\" x=\"1918.0\" y=\"388.0\">MR</text><rect class=\"gaterect\" x=\"1895\" y=\"421.0\" width=\"46\" height=\"26\"/><text dominant-baseline=\"central\" text-anchor=\"middle\" class=\"gatetext\" x=\"1918.0\" y=\"434.0\">MR</text><rect class=\"gaterect\" x=\"1895\" y=\"467.0\" width=\"46\" height=\"26\"/><text dominant-baseline=\"central\" text-anchor=\"middle\" class=\"gatetext\" x=\"1918.0\" y=\"480.0\">MR</text><rect class=\"gaterect\" x=\"1895\" y=\"513.0\" width=\"46\" height=\"26\"/><text dominant-baseline=\"central\" text-anchor=\"middle\" class=\"gatetext\" x=\"1918.0\" y=\"526.0\">MR</text><rect class=\"gaterect\" x=\"1895\" y=\"559.0\" width=\"46\" height=\"26\"/><text dominant-baseline=\"central\" text-anchor=\"middle\" class=\"gatetext\" x=\"1918.0\" y=\"572.0\">MR</text></svg>"
      ],
      "text/plain": [
       "<IPython.core.display.SVG object>"
      ]
     },
     "metadata": {},
     "output_type": "display_data"
    }
   ],
   "source": [
    "# Step 1\n",
    "circ = cd.construct_encoding_circuit('non_ft')\n",
    "circ.append('TICK')\n",
    "\n",
    "# Step 2\n",
    "circ.append('X', 1)\n",
    "\n",
    "# Step 3\n",
    "circ += cd.syndrome_circuit\n",
    "\n",
    "circ.draw()"
   ]
  },
  {
   "cell_type": "code",
   "execution_count": 4,
   "id": "2c8fbc97-735c-416d-9648-516df1262391",
   "metadata": {},
   "outputs": [
    {
     "name": "stdout",
     "output_type": "stream",
     "text": [
      "[0 0 0 1 1 0]\n"
     ]
    }
   ],
   "source": [
    "# we use stim to simulate this circuit\n",
    "circ.sample()"
   ]
  },
  {
   "cell_type": "markdown",
   "id": "048d1742-2aa4-4efa-a5b7-855a5c5abf32",
   "metadata": {},
   "source": [
    "As we can see, an $X$ error on the 2nd qubit leads to a the 3rd and 4th generators failing (counting from 0). The syndrome vector is the $n+2=9$th column (counting from 1) of the generator matrix, because as discussed previously it is the $Z$-type stabilizer generators that detect bit-flip errors. In this way, each of the $n$ $X$-type errors and $n$ $Z$-type errors correspond to one of the columns of the generator matrix."
   ]
  },
  {
   "cell_type": "markdown",
   "id": "d2f6e1f2-572c-4589-9d24-3569a9bfbceb",
   "metadata": {},
   "source": [
    "#### Task 1\n",
    "Determine the syndromes for each possible one qubit $X$ error and each possible one qubit $Z$ error."
   ]
  },
  {
   "cell_type": "code",
   "execution_count": 5,
   "id": "6fd74d64-b796-496e-bcb1-cb772213da30",
   "metadata": {},
   "outputs": [],
   "source": [
    "#"
   ]
  },
  {
   "cell_type": "markdown",
   "id": "76ef6963-7012-4f0f-bda1-25022a5a1cac",
   "metadata": {},
   "source": [
    "#### Task 2\n",
    "Determine the syndromes when there is a two qubit $X$ error (errors such as $X_0 X_3$). Compare the syndromes with the one-qubit error syndromes. What does this tell you about correcting two-qubit errors with the Steane code?"
   ]
  },
  {
   "cell_type": "code",
   "execution_count": 6,
   "id": "31fad7f0-9121-41fe-9714-57577247b931",
   "metadata": {},
   "outputs": [],
   "source": [
    "#"
   ]
  }
 ],
 "metadata": {
  "kernelspec": {
   "display_name": "Python 3 (ipykernel)",
   "language": "python",
   "name": "python3"
  },
  "language_info": {
   "codemirror_mode": {
    "name": "ipython",
    "version": 3
   },
   "file_extension": ".py",
   "mimetype": "text/x-python",
   "name": "python",
   "nbconvert_exporter": "python",
   "pygments_lexer": "ipython3",
   "version": "3.10.8"
  },
  "widgets": {
   "application/vnd.jupyter.widget-state+json": {
    "state": {},
    "version_major": 2,
    "version_minor": 0
   }
  }
 },
 "nbformat": 4,
 "nbformat_minor": 5
}
