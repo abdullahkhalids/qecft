{
 "cells": [
  {
   "cell_type": "markdown",
   "id": "a23fe73c",
   "metadata": {
    "tags": []
   },
   "source": [
    "# Decoding circuits for stabilizer codes"
   ]
  },
  {
   "cell_type": "markdown",
   "id": "b00286a1",
   "metadata": {
    "tags": [
     "remove-cell"
    ]
   },
   "source": [
    "<div style=\"width:100%;text-align:right;font-size:0.75em;opacity:0.2\">Latex macros</div>\n",
    "$\\newcommand{\\ket}[1]{|#1\\rangle} $\n",
    "$\\newcommand{\\bra}[1]{\\langle #1|} $\n",
    "$\\newcommand{\\iu}{{i\\mkern1mu}}$\n",
    "$\\newcommand{\\e}{\\mathrm{e}}$\n",
    "$\\newcommand{\\bigo}{\\mathcal{O}}$\n",
    "$\\newcommand{\\set}[1]{\\{#1\\}}$\n",
    "$\\newcommand{\\oper}[1]{\\mathcal{#1}}$\n",
    "$\\newcommand{\\st}[1]{\\mathcal{#1}}$\n",
    "$\\newcommand{\\vecs}[1]{\\mathcal{#1}}$\n",
    "$\\newcommand{\\group}[1]{\\mathcal{#1}}$\n",
    "$\\newcommand{\\union}{\\hspace{0.25em}\\cup\\hspace{0.25em}}$"
   ]
  },
  {
   "cell_type": "markdown",
   "id": "b4ae7890-360a-4e1b-9389-4f1b831c91e6",
   "metadata": {},
   "source": [
    "Decoding is not an important part of error correction when quantum error correction is employed to protect against noise during the execution of quantum algorithms. We do all operations - logical operations, error correction and measurement of the output of the computation - on the encoded states themselves. Therefore, decoding is not required at all.\n",
    "\n",
    "However, it's used in quantum communication protocols, so it is worth studying."
   ]
  },
  {
   "cell_type": "markdown",
   "id": "985538e4-e52b-441e-9a39-c9b16713b1a2",
   "metadata": {},
   "source": [
    "### Simple way of decoding\n",
    "The simple way of decoding is to just run the encoding circuit in reverse. This will work perfectly. We will first encode a random state and then decode it."
   ]
  },
  {
   "cell_type": "code",
   "execution_count": 1,
   "id": "1f156f15-efbe-445a-bae0-7c6bb9b80dde",
   "metadata": {},
   "outputs": [],
   "source": [
    "import stac\n",
    "cd = stac.CommonCodes.generate_code('[[7,1,3]]')\n",
    "cd.construct_encoding_circuit();"
   ]
  },
  {
   "cell_type": "code",
   "execution_count": 2,
   "id": "2f5eefc7-8a8f-445c-b995-b5d720295771",
   "metadata": {},
   "outputs": [
    {
     "data": {
      "image/svg+xml": [
       "<svg xmlns=\"http://www.w3.org/2000/svg\" width=\"1888\" height=\"322\"><style>\n",
       "            .labeltext { font-family: Bitstream Vera Sans Mono;\n",
       "                        font-size: 12px; font-weight: 400; fill: black;}\n",
       "            .qubitline { stroke: black; stroke-width: 2; }\n",
       "            .gatetext { font-family: Latin Modern Math, Cambria Math;\n",
       "                       font-size: 20px; font-weight: 400; fill: black;}\n",
       "            .gaterect { fill: white; stroke: black; stroke-width: 2 }\n",
       "            .control1 { fill: black; stroke: black; stroke-width: 1 }\n",
       "            .controlline { stroke: black; stroke-width: 2}\n",
       "            .tickline { stroke: black; stroke-width: 0.75; stroke-dasharray: 6,3}\n",
       "            .tp_highlight1 { fill: red; opacity: 0.2;}\n",
       "            .tp_highlight2 { fill: blue; opacity: 0.2;}\n",
       "                </style><line class=\"qubitline\" x1=\"104\" y1=\"20\" x2=\"1888\" y2=\"20\"/><line class=\"qubitline\" x1=\"104\" y1=\"66\" x2=\"1888\" y2=\"66\"/><line class=\"qubitline\" x1=\"104\" y1=\"112\" x2=\"1888\" y2=\"112\"/><line class=\"qubitline\" x1=\"104\" y1=\"158\" x2=\"1888\" y2=\"158\"/><line class=\"qubitline\" x1=\"104\" y1=\"204\" x2=\"1888\" y2=\"204\"/><line class=\"qubitline\" x1=\"104\" y1=\"250\" x2=\"1888\" y2=\"250\"/><line class=\"qubitline\" x1=\"104\" y1=\"296\" x2=\"1888\" y2=\"296\"/><text dominant-baseline=\"central\" class=\"labeltext\" x=\"0\" y=\"20\">(0, 0, 0) : 0</text><text dominant-baseline=\"central\" class=\"labeltext\" x=\"0\" y=\"66\">(0, 0, 1) : 1</text><text dominant-baseline=\"central\" class=\"labeltext\" x=\"0\" y=\"112\">(0, 0, 2) : 2</text><text dominant-baseline=\"central\" class=\"labeltext\" x=\"0\" y=\"158\">(0, 0, 3) : 3</text><text dominant-baseline=\"central\" class=\"labeltext\" x=\"0\" y=\"204\">(0, 0, 4) : 4</text><text dominant-baseline=\"central\" class=\"labeltext\" x=\"0\" y=\"250\">(0, 0, 5) : 5</text><text dominant-baseline=\"central\" class=\"labeltext\" x=\"0\" y=\"296\">(0, 0, 6) : 6</text><rect class=\"gaterect\" x=\"119\" y=\"283.0\" width=\"46\" height=\"26\"/><text dominant-baseline=\"central\" text-anchor=\"middle\" class=\"gatetext\" x=\"142.0\" y=\"296.0\">RX</text><rect class=\"gaterect\" x=\"180\" y=\"283.0\" width=\"46\" height=\"26\"/><text dominant-baseline=\"central\" text-anchor=\"middle\" class=\"gatetext\" x=\"203.0\" y=\"296.0\">RZ</text><rect class=\"gaterect\" x=\"241\" y=\"283.0\" width=\"46\" height=\"26\"/><text dominant-baseline=\"central\" text-anchor=\"middle\" class=\"gatetext\" x=\"264.0\" y=\"296.0\">RX</text><line class=\"tickline\" x1=\"294.5\" y1=\"0\" x2=\"294.5\" y2=\"316\"/><circle class=\"control1\" cx=\"316.0\" cy=\"296\" r=\"3\"/><line class=\"controlline\" x1=\"316.0\" y1=\"299\" x2=\"316.0\" y2=\"191.0\"/><rect class=\"gaterect\" x=\"302\" y=\"191.0\" width=\"28\" height=\"26\"/><text dominant-baseline=\"central\" text-anchor=\"middle\" class=\"gatetext\" x=\"316.0\" y=\"204.0\">X</text><circle class=\"control1\" cx=\"377.0\" cy=\"296\" r=\"3\"/><line class=\"controlline\" x1=\"377.0\" y1=\"299\" x2=\"377.0\" y2=\"237.0\"/><rect class=\"gaterect\" x=\"363\" y=\"237.0\" width=\"28\" height=\"26\"/><text dominant-baseline=\"central\" text-anchor=\"middle\" class=\"gatetext\" x=\"377.0\" y=\"250.0\">X</text><rect class=\"gaterect\" x=\"363\" y=\"7.0\" width=\"28\" height=\"26\"/><text dominant-baseline=\"central\" text-anchor=\"middle\" class=\"gatetext\" x=\"377.0\" y=\"20.0\">H</text><circle class=\"control1\" cx=\"438.0\" cy=\"20\" r=\"3\"/><line class=\"controlline\" x1=\"438.0\" y1=\"23\" x2=\"438.0\" y2=\"145.0\"/><rect class=\"gaterect\" x=\"424\" y=\"145.0\" width=\"28\" height=\"26\"/><text dominant-baseline=\"central\" text-anchor=\"middle\" class=\"gatetext\" x=\"438.0\" y=\"158.0\">X</text><circle class=\"control1\" cx=\"499.0\" cy=\"20\" r=\"3\"/><line class=\"controlline\" x1=\"499.0\" y1=\"23\" x2=\"499.0\" y2=\"237.0\"/><rect class=\"gaterect\" x=\"485\" y=\"237.0\" width=\"28\" height=\"26\"/><text dominant-baseline=\"central\" text-anchor=\"middle\" class=\"gatetext\" x=\"499.0\" y=\"250.0\">X</text><circle class=\"control1\" cx=\"560.0\" cy=\"20\" r=\"3\"/><line class=\"controlline\" x1=\"560.0\" y1=\"23\" x2=\"560.0\" y2=\"283.0\"/><rect class=\"gaterect\" x=\"546\" y=\"283.0\" width=\"28\" height=\"26\"/><text dominant-baseline=\"central\" text-anchor=\"middle\" class=\"gatetext\" x=\"560.0\" y=\"296.0\">X</text><rect class=\"gaterect\" x=\"607\" y=\"53.0\" width=\"28\" height=\"26\"/><text dominant-baseline=\"central\" text-anchor=\"middle\" class=\"gatetext\" x=\"621.0\" y=\"66.0\">H</text><circle class=\"control1\" cx=\"682.0\" cy=\"66\" r=\"3\"/><line class=\"controlline\" x1=\"682.0\" y1=\"69\" x2=\"682.0\" y2=\"145.0\"/><rect class=\"gaterect\" x=\"668\" y=\"145.0\" width=\"28\" height=\"26\"/><text dominant-baseline=\"central\" text-anchor=\"middle\" class=\"gatetext\" x=\"682.0\" y=\"158.0\">X</text><circle class=\"control1\" cx=\"743.0\" cy=\"66\" r=\"3\"/><line class=\"controlline\" x1=\"743.0\" y1=\"69\" x2=\"743.0\" y2=\"191.0\"/><rect class=\"gaterect\" x=\"729\" y=\"191.0\" width=\"28\" height=\"26\"/><text dominant-baseline=\"central\" text-anchor=\"middle\" class=\"gatetext\" x=\"743.0\" y=\"204.0\">X</text><circle class=\"control1\" cx=\"804.0\" cy=\"66\" r=\"3\"/><line class=\"controlline\" x1=\"804.0\" y1=\"69\" x2=\"804.0\" y2=\"283.0\"/><rect class=\"gaterect\" x=\"790\" y=\"283.0\" width=\"28\" height=\"26\"/><text dominant-baseline=\"central\" text-anchor=\"middle\" class=\"gatetext\" x=\"804.0\" y=\"296.0\">X</text><rect class=\"gaterect\" x=\"851\" y=\"99.0\" width=\"28\" height=\"26\"/><text dominant-baseline=\"central\" text-anchor=\"middle\" class=\"gatetext\" x=\"865.0\" y=\"112.0\">H</text><circle class=\"control1\" cx=\"926.0\" cy=\"112\" r=\"3\"/><line class=\"controlline\" x1=\"926.0\" y1=\"115\" x2=\"926.0\" y2=\"145.0\"/><rect class=\"gaterect\" x=\"912\" y=\"145.0\" width=\"28\" height=\"26\"/><text dominant-baseline=\"central\" text-anchor=\"middle\" class=\"gatetext\" x=\"926.0\" y=\"158.0\">X</text><circle class=\"control1\" cx=\"987.0\" cy=\"112\" r=\"3\"/><line class=\"controlline\" x1=\"987.0\" y1=\"115\" x2=\"987.0\" y2=\"191.0\"/><rect class=\"gaterect\" x=\"973\" y=\"191.0\" width=\"28\" height=\"26\"/><text dominant-baseline=\"central\" text-anchor=\"middle\" class=\"gatetext\" x=\"987.0\" y=\"204.0\">X</text><circle class=\"control1\" cx=\"1048.0\" cy=\"112\" r=\"3\"/><line class=\"controlline\" x1=\"1048.0\" y1=\"115\" x2=\"1048.0\" y2=\"237.0\"/><rect class=\"gaterect\" x=\"1034\" y=\"237.0\" width=\"28\" height=\"26\"/><text dominant-baseline=\"central\" text-anchor=\"middle\" class=\"gatetext\" x=\"1048.0\" y=\"250.0\">X</text><line class=\"tickline\" x1=\"1087.5\" y1=\"0\" x2=\"1087.5\" y2=\"316\"/><circle class=\"control1\" cx=\"1109.0\" cy=\"112\" r=\"3\"/><line class=\"controlline\" x1=\"1109.0\" y1=\"115\" x2=\"1109.0\" y2=\"237.0\"/><rect class=\"gaterect\" x=\"1095\" y=\"237.0\" width=\"28\" height=\"26\"/><text dominant-baseline=\"central\" text-anchor=\"middle\" class=\"gatetext\" x=\"1109.0\" y=\"250.0\">X</text><circle class=\"control1\" cx=\"1170.0\" cy=\"112\" r=\"3\"/><line class=\"controlline\" x1=\"1170.0\" y1=\"115\" x2=\"1170.0\" y2=\"191.0\"/><rect class=\"gaterect\" x=\"1156\" y=\"191.0\" width=\"28\" height=\"26\"/><text dominant-baseline=\"central\" text-anchor=\"middle\" class=\"gatetext\" x=\"1170.0\" y=\"204.0\">X</text><circle class=\"control1\" cx=\"1231.0\" cy=\"112\" r=\"3\"/><line class=\"controlline\" x1=\"1231.0\" y1=\"115\" x2=\"1231.0\" y2=\"145.0\"/><rect class=\"gaterect\" x=\"1217\" y=\"145.0\" width=\"28\" height=\"26\"/><text dominant-baseline=\"central\" text-anchor=\"middle\" class=\"gatetext\" x=\"1231.0\" y=\"158.0\">X</text><rect class=\"gaterect\" x=\"1278\" y=\"99.0\" width=\"28\" height=\"26\"/><text dominant-baseline=\"central\" text-anchor=\"middle\" class=\"gatetext\" x=\"1292.0\" y=\"112.0\">H</text><circle class=\"control1\" cx=\"1353.0\" cy=\"66\" r=\"3\"/><line class=\"controlline\" x1=\"1353.0\" y1=\"69\" x2=\"1353.0\" y2=\"283.0\"/><rect class=\"gaterect\" x=\"1339\" y=\"283.0\" width=\"28\" height=\"26\"/><text dominant-baseline=\"central\" text-anchor=\"middle\" class=\"gatetext\" x=\"1353.0\" y=\"296.0\">X</text><circle class=\"control1\" cx=\"1414.0\" cy=\"66\" r=\"3\"/><line class=\"controlline\" x1=\"1414.0\" y1=\"69\" x2=\"1414.0\" y2=\"191.0\"/><rect class=\"gaterect\" x=\"1400\" y=\"191.0\" width=\"28\" height=\"26\"/><text dominant-baseline=\"central\" text-anchor=\"middle\" class=\"gatetext\" x=\"1414.0\" y=\"204.0\">X</text><circle class=\"control1\" cx=\"1475.0\" cy=\"66\" r=\"3\"/><line class=\"controlline\" x1=\"1475.0\" y1=\"69\" x2=\"1475.0\" y2=\"145.0\"/><rect class=\"gaterect\" x=\"1461\" y=\"145.0\" width=\"28\" height=\"26\"/><text dominant-baseline=\"central\" text-anchor=\"middle\" class=\"gatetext\" x=\"1475.0\" y=\"158.0\">X</text><rect class=\"gaterect\" x=\"1522\" y=\"53.0\" width=\"28\" height=\"26\"/><text dominant-baseline=\"central\" text-anchor=\"middle\" class=\"gatetext\" x=\"1536.0\" y=\"66.0\">H</text><circle class=\"control1\" cx=\"1597.0\" cy=\"20\" r=\"3\"/><line class=\"controlline\" x1=\"1597.0\" y1=\"23\" x2=\"1597.0\" y2=\"283.0\"/><rect class=\"gaterect\" x=\"1583\" y=\"283.0\" width=\"28\" height=\"26\"/><text dominant-baseline=\"central\" text-anchor=\"middle\" class=\"gatetext\" x=\"1597.0\" y=\"296.0\">X</text><circle class=\"control1\" cx=\"1658.0\" cy=\"20\" r=\"3\"/><line class=\"controlline\" x1=\"1658.0\" y1=\"23\" x2=\"1658.0\" y2=\"237.0\"/><rect class=\"gaterect\" x=\"1644\" y=\"237.0\" width=\"28\" height=\"26\"/><text dominant-baseline=\"central\" text-anchor=\"middle\" class=\"gatetext\" x=\"1658.0\" y=\"250.0\">X</text><circle class=\"control1\" cx=\"1719.0\" cy=\"20\" r=\"3\"/><line class=\"controlline\" x1=\"1719.0\" y1=\"23\" x2=\"1719.0\" y2=\"145.0\"/><rect class=\"gaterect\" x=\"1705\" y=\"145.0\" width=\"28\" height=\"26\"/><text dominant-baseline=\"central\" text-anchor=\"middle\" class=\"gatetext\" x=\"1719.0\" y=\"158.0\">X</text><rect class=\"gaterect\" x=\"1766\" y=\"7.0\" width=\"28\" height=\"26\"/><text dominant-baseline=\"central\" text-anchor=\"middle\" class=\"gatetext\" x=\"1780.0\" y=\"20.0\">H</text><circle class=\"control1\" cx=\"1780.0\" cy=\"296\" r=\"3\"/><line class=\"controlline\" x1=\"1780.0\" y1=\"299\" x2=\"1780.0\" y2=\"237.0\"/><rect class=\"gaterect\" x=\"1766\" y=\"237.0\" width=\"28\" height=\"26\"/><text dominant-baseline=\"central\" text-anchor=\"middle\" class=\"gatetext\" x=\"1780.0\" y=\"250.0\">X</text><circle class=\"control1\" cx=\"1841.0\" cy=\"296\" r=\"3\"/><line class=\"controlline\" x1=\"1841.0\" y1=\"299\" x2=\"1841.0\" y2=\"191.0\"/><rect class=\"gaterect\" x=\"1827\" y=\"191.0\" width=\"28\" height=\"26\"/><text dominant-baseline=\"central\" text-anchor=\"middle\" class=\"gatetext\" x=\"1841.0\" y=\"204.0\">X</text></svg>"
      ],
      "text/plain": [
       "<IPython.core.display.SVG object>"
      ]
     },
     "metadata": {},
     "output_type": "display_data"
    },
    {
     "name": "stdout",
     "output_type": "stream",
     "text": [
      "  basis  input state    enc state      dec state\n",
      "-------  -------------  -------------  -------------\n",
      "0000000   0.214-0.355j   0.076-0.125j   0.214-0.355j\n",
      "1111000                  0.076-0.125j\n",
      "0110100                  0.210-0.244j\n",
      "1001100                  0.210-0.244j\n",
      "1010010                  0.210-0.244j\n",
      "0101010                  0.210-0.244j\n",
      "1100110                  0.076-0.125j\n",
      "0011110                  0.076-0.125j\n",
      "0000001   0.593-0.690j                  0.593-0.690j\n",
      "1100001                  0.210-0.244j\n",
      "0011001                  0.210-0.244j\n",
      "1010101                  0.076-0.125j\n",
      "0101101                  0.076-0.125j\n",
      "0110011                  0.076-0.125j\n",
      "1001011                  0.076-0.125j\n",
      "0000111                  0.210-0.244j\n",
      "1111111                  0.210-0.244j\n"
     ]
    }
   ],
   "source": [
    "from random import random\n",
    "from math import pi\n",
    "circ = stac.Circuit.simple(7)\n",
    "circ.append('rx', 6, random()*pi)\n",
    "circ.append('rz', 6, random()*pi)\n",
    "circ.append('rx', 6, random()*pi)\n",
    "\n",
    "# TICK annotations will allow us to simulate \n",
    "# the circuit up to every TICK\n",
    "# In the table below the second column has the\n",
    "# state upto this TICK\n",
    "circ.append('TICK')\n",
    "\n",
    "# then encode it.\n",
    "circ += cd.encoding_circuit\n",
    "# In the table below, the third column has the\n",
    "# state upto this TICK\n",
    "circ.append('TICK')\n",
    "\n",
    "# then decode\n",
    "rev_enc_circ = cd.encoding_circuit.reverse()\n",
    "circ += rev_enc_circ\n",
    "# # The fourth column shows the state at this\n",
    "# # final point\n",
    "\n",
    "# draw it\n",
    "circ.draw()\n",
    "\n",
    "# then simulate it\n",
    "circ.simulate(head=['basis', 'input state','enc state', 'dec state'], incremental=True)"
   ]
  },
  {
   "cell_type": "markdown",
   "id": "ea70a471-2ba5-47a0-a212-e81b0bb20ca6",
   "metadata": {},
   "source": [
    "You can see that, as expected, the state decodes correctly. Run this cell a few times to convince yourself."
   ]
  },
  {
   "cell_type": "markdown",
   "id": "2dd7e6e6-91d4-4d52-b875-88b2582f0c4b",
   "metadata": {},
   "source": [
    "### Gottesman's decoding algorithm\n",
    "Gottesman's decoding algorithm is quite simple, and again employs the standard form of the stabilizer generator matrix that we computed last time. Instead of decoding in place, we will add $k$ (number of logical qubits) ancilla to our circuit and put the decoded state there. The steps are\n",
    "\n",
    "1. Compute the standard form of the generator matrix.\n",
    "2. Determine the logical $\\bar{X}$ and logical $\\bar{Z}$ operations.\n",
    "3. Use the following algorithm to determine the decoding circuit.\n",
    "\n",
    "```\n",
    "decoding_circuit = []\n",
    "\n",
    "for i in range(len(logical_zs)):\n",
    "    for j in range(n):\n",
    "        if logical_zs[i, n+j]:\n",
    "            decoding_circuit.append([\"cx\", j, n+i])\n",
    "\n",
    "for i in range(len(logical_xs)):\n",
    "    for j in range(n):\n",
    "        if logical_xs[i, j] and logical_xs[i, n+j]:\n",
    "            decoding_circuit.append([\"cz\", n+i, j])\n",
    "            decoding_circuit.append([\"cx\", n+i, j])\n",
    "        elif logical_xs[i, j]:\n",
    "            decoding_circuit.append([\"cx\", n+i, j])\n",
    "        elif logical_xs[i, n+j]:\n",
    "            decoding_circuit.append([\"cz\", n+i, j])\n",
    "```\n",
    "As you can see, this algorithm just reads off the entries of the logical operators, and applies appropriate control operations to and from the ancilla qubits.\n",
    "\n",
    "*Question:* Determine the number of operations required for Gottesman's encoding algorithm. What is the depth of the circuit? Determine the number of operations required for Gottesman's decoding algorithm. What is the depth of the circuit? \n",
    "\n",
    "Now, let's try this."
   ]
  },
  {
   "cell_type": "code",
   "execution_count": 3,
   "id": "db0b1127-a6d9-41c4-90d0-170be58a730d",
   "metadata": {},
   "outputs": [
    {
     "name": "stdout",
     "output_type": "stream",
     "text": [
      "G =\n"
     ]
    },
    {
     "data": {
      "text/latex": [
       "$\\displaystyle                 \\left(\\begin{array}{ccccccc|ccccccc}\n",
       "                       1 & 0 & 0 & 1 & 0 & 1 & 1 & 0 & 0 & 0 & 0 & 0 & 0 & 0 \\\\\n",
       "0 & 1 & 0 & 1 & 1 & 0 & 1 & 0 & 0 & 0 & 0 & 0 & 0 & 0 \\\\\n",
       "0 & 0 & 1 & 1 & 1 & 1 & 0 & 0 & 0 & 0 & 0 & 0 & 0 & 0 \\\\\n",
       "0 & 0 & 0 & 0 & 0 & 0 & 0 & 1 & 1 & 1 & 1 & 0 & 0 & 0 \\\\\n",
       "0 & 0 & 0 & 0 & 0 & 0 & 0 & 1 & 0 & 1 & 0 & 1 & 0 & 1 \\\\\n",
       "0 & 0 & 0 & 0 & 0 & 0 & 0 & 0 & 1 & 1 & 0 & 0 & 1 & 1 \\\\\n",
       "\n",
       "                       \\end{array}\\right)                    $"
      ],
      "text/plain": [
       "<IPython.core.display.Math object>"
      ]
     },
     "metadata": {},
     "output_type": "display_data"
    },
    {
     "name": "stdout",
     "output_type": "stream",
     "text": [
      "Logical X =\n"
     ]
    },
    {
     "data": {
      "text/latex": [
       "$\\displaystyle                 \\left(\\begin{array}{ccccccc|ccccccc}\n",
       "                       0 & 0 & 0 & 0 & 1 & 1 & 1 & 0 & 0 & 0 & 0 & 0 & 0 & 0 \\\\\n",
       "\n",
       "                       \\end{array}\\right)                    $"
      ],
      "text/plain": [
       "<IPython.core.display.Math object>"
      ]
     },
     "metadata": {},
     "output_type": "display_data"
    },
    {
     "name": "stdout",
     "output_type": "stream",
     "text": [
      "Logical Z =\n"
     ]
    },
    {
     "data": {
      "text/latex": [
       "$\\displaystyle                 \\left(\\begin{array}{ccccccc|ccccccc}\n",
       "                       0 & 0 & 0 & 0 & 0 & 0 & 0 & 1 & 1 & 0 & 0 & 0 & 0 & 1 \\\\\n",
       "\n",
       "                       \\end{array}\\right)                    $"
      ],
      "text/plain": [
       "<IPython.core.display.Math object>"
      ]
     },
     "metadata": {},
     "output_type": "display_data"
    },
    {
     "data": {
      "image/svg+xml": [
       "<svg xmlns=\"http://www.w3.org/2000/svg\" width=\"377\" height=\"368\"><style>\n",
       "            .labeltext { font-family: Bitstream Vera Sans Mono;\n",
       "                        font-size: 12px; font-weight: 400; fill: black;}\n",
       "            .qubitline { stroke: black; stroke-width: 2; }\n",
       "            .gatetext { font-family: Latin Modern Math, Cambria Math;\n",
       "                       font-size: 20px; font-weight: 400; fill: black;}\n",
       "            .gaterect { fill: white; stroke: black; stroke-width: 2 }\n",
       "            .control1 { fill: black; stroke: black; stroke-width: 1 }\n",
       "            .controlline { stroke: black; stroke-width: 2}\n",
       "            .tickline { stroke: black; stroke-width: 0.75; stroke-dasharray: 6,3}\n",
       "            .tp_highlight1 { fill: red; opacity: 0.2;}\n",
       "            .tp_highlight2 { fill: blue; opacity: 0.2;}\n",
       "                </style><line class=\"qubitline\" x1=\"104\" y1=\"20\" x2=\"377\" y2=\"20\"/><line class=\"qubitline\" x1=\"104\" y1=\"66\" x2=\"377\" y2=\"66\"/><line class=\"qubitline\" x1=\"104\" y1=\"112\" x2=\"377\" y2=\"112\"/><line class=\"qubitline\" x1=\"104\" y1=\"158\" x2=\"377\" y2=\"158\"/><line class=\"qubitline\" x1=\"104\" y1=\"204\" x2=\"377\" y2=\"204\"/><line class=\"qubitline\" x1=\"104\" y1=\"250\" x2=\"377\" y2=\"250\"/><line class=\"qubitline\" x1=\"104\" y1=\"296\" x2=\"377\" y2=\"296\"/><line class=\"qubitline\" x1=\"104\" y1=\"342\" x2=\"377\" y2=\"342\"/><text dominant-baseline=\"central\" class=\"labeltext\" x=\"0\" y=\"20\">(0, 0, 0) : 0</text><text dominant-baseline=\"central\" class=\"labeltext\" x=\"0\" y=\"66\">(0, 0, 1) : 1</text><text dominant-baseline=\"central\" class=\"labeltext\" x=\"0\" y=\"112\">(0, 0, 2) : 2</text><text dominant-baseline=\"central\" class=\"labeltext\" x=\"0\" y=\"158\">(0, 0, 3) : 3</text><text dominant-baseline=\"central\" class=\"labeltext\" x=\"0\" y=\"204\">(0, 0, 4) : 4</text><text dominant-baseline=\"central\" class=\"labeltext\" x=\"0\" y=\"250\">(0, 0, 5) : 5</text><text dominant-baseline=\"central\" class=\"labeltext\" x=\"0\" y=\"296\">(0, 0, 6) : 6</text><text dominant-baseline=\"central\" class=\"labeltext\" x=\"0\" y=\"342\">(0, 1, 0) : 7</text><circle class=\"control1\" cx=\"133.0\" cy=\"20\" r=\"3\"/><line class=\"controlline\" x1=\"133.0\" y1=\"23\" x2=\"133.0\" y2=\"329.0\"/><rect class=\"gaterect\" x=\"119\" y=\"329.0\" width=\"28\" height=\"26\"/><text dominant-baseline=\"central\" text-anchor=\"middle\" class=\"gatetext\" x=\"133.0\" y=\"342.0\">X</text><circle class=\"control1\" cx=\"176.0\" cy=\"66\" r=\"3\"/><line class=\"controlline\" x1=\"176.0\" y1=\"69\" x2=\"176.0\" y2=\"329.0\"/><rect class=\"gaterect\" x=\"162\" y=\"329.0\" width=\"28\" height=\"26\"/><text dominant-baseline=\"central\" text-anchor=\"middle\" class=\"gatetext\" x=\"176.0\" y=\"342.0\">X</text><circle class=\"control1\" cx=\"219.0\" cy=\"296\" r=\"3\"/><line class=\"controlline\" x1=\"219.0\" y1=\"299\" x2=\"219.0\" y2=\"329.0\"/><rect class=\"gaterect\" x=\"205\" y=\"329.0\" width=\"28\" height=\"26\"/><text dominant-baseline=\"central\" text-anchor=\"middle\" class=\"gatetext\" x=\"219.0\" y=\"342.0\">X</text><circle class=\"control1\" cx=\"262.0\" cy=\"342\" r=\"3\"/><line class=\"controlline\" x1=\"262.0\" y1=\"345\" x2=\"262.0\" y2=\"191.0\"/><rect class=\"gaterect\" x=\"248\" y=\"191.0\" width=\"28\" height=\"26\"/><text dominant-baseline=\"central\" text-anchor=\"middle\" class=\"gatetext\" x=\"262.0\" y=\"204.0\">X</text><circle class=\"control1\" cx=\"305.0\" cy=\"342\" r=\"3\"/><line class=\"controlline\" x1=\"305.0\" y1=\"345\" x2=\"305.0\" y2=\"237.0\"/><rect class=\"gaterect\" x=\"291\" y=\"237.0\" width=\"28\" height=\"26\"/><text dominant-baseline=\"central\" text-anchor=\"middle\" class=\"gatetext\" x=\"305.0\" y=\"250.0\">X</text><circle class=\"control1\" cx=\"348.0\" cy=\"342\" r=\"3\"/><line class=\"controlline\" x1=\"348.0\" y1=\"345\" x2=\"348.0\" y2=\"283.0\"/><rect class=\"gaterect\" x=\"334\" y=\"283.0\" width=\"28\" height=\"26\"/><text dominant-baseline=\"central\" text-anchor=\"middle\" class=\"gatetext\" x=\"348.0\" y=\"296.0\">X</text></svg>"
      ],
      "text/plain": [
       "<IPython.core.display.SVG object>"
      ]
     },
     "metadata": {},
     "output_type": "display_data"
    }
   ],
   "source": [
    "cd.construct_standard_form()\n",
    "print(\"G =\")\n",
    "stac.print_matrix(cd.standard_generator_matrix, augmented=True)\n",
    "cd.construct_logical_operators()\n",
    "print(\"Logical X =\")\n",
    "stac.print_matrix(cd.logical_xs, augmented=True)\n",
    "print(\"Logical Z =\")\n",
    "stac.print_matrix(cd.logical_zs, augmented=True)\n",
    "\n",
    "dec_circ = cd.construct_decoding_circuit()\n",
    "\n",
    "dec_circ.draw()"
   ]
  },
  {
   "cell_type": "markdown",
   "id": "5c765b31-a329-4850-a431-54b204ed4128",
   "metadata": {},
   "source": [
    "Does this actually work? Let's try. It will be a bit difficult to see the working of this algorithm with random states, so let's work with the basis states. First, we will see if the zero state is decoded properly."
   ]
  },
  {
   "cell_type": "code",
   "execution_count": 4,
   "id": "b24e42d5-00ec-4959-a065-51cfc245a962",
   "metadata": {},
   "outputs": [
    {
     "data": {
      "image/svg+xml": [
       "<svg xmlns=\"http://www.w3.org/2000/svg\" width=\"951\" height=\"368\"><style>\n",
       "            .labeltext { font-family: Bitstream Vera Sans Mono;\n",
       "                        font-size: 12px; font-weight: 400; fill: black;}\n",
       "            .qubitline { stroke: black; stroke-width: 2; }\n",
       "            .gatetext { font-family: Latin Modern Math, Cambria Math;\n",
       "                       font-size: 20px; font-weight: 400; fill: black;}\n",
       "            .gaterect { fill: white; stroke: black; stroke-width: 2 }\n",
       "            .control1 { fill: black; stroke: black; stroke-width: 1 }\n",
       "            .controlline { stroke: black; stroke-width: 2}\n",
       "            .tickline { stroke: black; stroke-width: 0.75; stroke-dasharray: 6,3}\n",
       "            .tp_highlight1 { fill: red; opacity: 0.2;}\n",
       "            .tp_highlight2 { fill: blue; opacity: 0.2;}\n",
       "                </style><line class=\"qubitline\" x1=\"104\" y1=\"20\" x2=\"951\" y2=\"20\"/><line class=\"qubitline\" x1=\"104\" y1=\"66\" x2=\"951\" y2=\"66\"/><line class=\"qubitline\" x1=\"104\" y1=\"112\" x2=\"951\" y2=\"112\"/><line class=\"qubitline\" x1=\"104\" y1=\"158\" x2=\"951\" y2=\"158\"/><line class=\"qubitline\" x1=\"104\" y1=\"204\" x2=\"951\" y2=\"204\"/><line class=\"qubitline\" x1=\"104\" y1=\"250\" x2=\"951\" y2=\"250\"/><line class=\"qubitline\" x1=\"104\" y1=\"296\" x2=\"951\" y2=\"296\"/><line class=\"qubitline\" x1=\"104\" y1=\"342\" x2=\"951\" y2=\"342\"/><text dominant-baseline=\"central\" class=\"labeltext\" x=\"0\" y=\"20\">(0, 0, 0) : 0</text><text dominant-baseline=\"central\" class=\"labeltext\" x=\"0\" y=\"66\">(0, 0, 1) : 1</text><text dominant-baseline=\"central\" class=\"labeltext\" x=\"0\" y=\"112\">(0, 0, 2) : 2</text><text dominant-baseline=\"central\" class=\"labeltext\" x=\"0\" y=\"158\">(0, 0, 3) : 3</text><text dominant-baseline=\"central\" class=\"labeltext\" x=\"0\" y=\"204\">(0, 0, 4) : 4</text><text dominant-baseline=\"central\" class=\"labeltext\" x=\"0\" y=\"250\">(0, 0, 5) : 5</text><text dominant-baseline=\"central\" class=\"labeltext\" x=\"0\" y=\"296\">(0, 0, 6) : 6</text><text dominant-baseline=\"central\" class=\"labeltext\" x=\"0\" y=\"342\">(0, 1, 0) : 7</text><line class=\"tickline\" x1=\"126.5\" y1=\"0\" x2=\"126.5\" y2=\"362\"/><circle class=\"control1\" cx=\"148.0\" cy=\"296\" r=\"3\"/><line class=\"controlline\" x1=\"148.0\" y1=\"299\" x2=\"148.0\" y2=\"191.0\"/><rect class=\"gaterect\" x=\"134\" y=\"191.0\" width=\"28\" height=\"26\"/><text dominant-baseline=\"central\" text-anchor=\"middle\" class=\"gatetext\" x=\"148.0\" y=\"204.0\">X</text><circle class=\"control1\" cx=\"191.0\" cy=\"296\" r=\"3\"/><line class=\"controlline\" x1=\"191.0\" y1=\"299\" x2=\"191.0\" y2=\"237.0\"/><rect class=\"gaterect\" x=\"177\" y=\"237.0\" width=\"28\" height=\"26\"/><text dominant-baseline=\"central\" text-anchor=\"middle\" class=\"gatetext\" x=\"191.0\" y=\"250.0\">X</text><rect class=\"gaterect\" x=\"177\" y=\"7.0\" width=\"28\" height=\"26\"/><text dominant-baseline=\"central\" text-anchor=\"middle\" class=\"gatetext\" x=\"191.0\" y=\"20.0\">H</text><circle class=\"control1\" cx=\"234.0\" cy=\"20\" r=\"3\"/><line class=\"controlline\" x1=\"234.0\" y1=\"23\" x2=\"234.0\" y2=\"145.0\"/><rect class=\"gaterect\" x=\"220\" y=\"145.0\" width=\"28\" height=\"26\"/><text dominant-baseline=\"central\" text-anchor=\"middle\" class=\"gatetext\" x=\"234.0\" y=\"158.0\">X</text><circle class=\"control1\" cx=\"277.0\" cy=\"20\" r=\"3\"/><line class=\"controlline\" x1=\"277.0\" y1=\"23\" x2=\"277.0\" y2=\"237.0\"/><rect class=\"gaterect\" x=\"263\" y=\"237.0\" width=\"28\" height=\"26\"/><text dominant-baseline=\"central\" text-anchor=\"middle\" class=\"gatetext\" x=\"277.0\" y=\"250.0\">X</text><circle class=\"control1\" cx=\"320.0\" cy=\"20\" r=\"3\"/><line class=\"controlline\" x1=\"320.0\" y1=\"23\" x2=\"320.0\" y2=\"283.0\"/><rect class=\"gaterect\" x=\"306\" y=\"283.0\" width=\"28\" height=\"26\"/><text dominant-baseline=\"central\" text-anchor=\"middle\" class=\"gatetext\" x=\"320.0\" y=\"296.0\">X</text><rect class=\"gaterect\" x=\"349\" y=\"53.0\" width=\"28\" height=\"26\"/><text dominant-baseline=\"central\" text-anchor=\"middle\" class=\"gatetext\" x=\"363.0\" y=\"66.0\">H</text><circle class=\"control1\" cx=\"406.0\" cy=\"66\" r=\"3\"/><line class=\"controlline\" x1=\"406.0\" y1=\"69\" x2=\"406.0\" y2=\"145.0\"/><rect class=\"gaterect\" x=\"392\" y=\"145.0\" width=\"28\" height=\"26\"/><text dominant-baseline=\"central\" text-anchor=\"middle\" class=\"gatetext\" x=\"406.0\" y=\"158.0\">X</text><circle class=\"control1\" cx=\"449.0\" cy=\"66\" r=\"3\"/><line class=\"controlline\" x1=\"449.0\" y1=\"69\" x2=\"449.0\" y2=\"191.0\"/><rect class=\"gaterect\" x=\"435\" y=\"191.0\" width=\"28\" height=\"26\"/><text dominant-baseline=\"central\" text-anchor=\"middle\" class=\"gatetext\" x=\"449.0\" y=\"204.0\">X</text><circle class=\"control1\" cx=\"492.0\" cy=\"66\" r=\"3\"/><line class=\"controlline\" x1=\"492.0\" y1=\"69\" x2=\"492.0\" y2=\"283.0\"/><rect class=\"gaterect\" x=\"478\" y=\"283.0\" width=\"28\" height=\"26\"/><text dominant-baseline=\"central\" text-anchor=\"middle\" class=\"gatetext\" x=\"492.0\" y=\"296.0\">X</text><rect class=\"gaterect\" x=\"521\" y=\"99.0\" width=\"28\" height=\"26\"/><text dominant-baseline=\"central\" text-anchor=\"middle\" class=\"gatetext\" x=\"535.0\" y=\"112.0\">H</text><circle class=\"control1\" cx=\"578.0\" cy=\"112\" r=\"3\"/><line class=\"controlline\" x1=\"578.0\" y1=\"115\" x2=\"578.0\" y2=\"145.0\"/><rect class=\"gaterect\" x=\"564\" y=\"145.0\" width=\"28\" height=\"26\"/><text dominant-baseline=\"central\" text-anchor=\"middle\" class=\"gatetext\" x=\"578.0\" y=\"158.0\">X</text><circle class=\"control1\" cx=\"621.0\" cy=\"112\" r=\"3\"/><line class=\"controlline\" x1=\"621.0\" y1=\"115\" x2=\"621.0\" y2=\"191.0\"/><rect class=\"gaterect\" x=\"607\" y=\"191.0\" width=\"28\" height=\"26\"/><text dominant-baseline=\"central\" text-anchor=\"middle\" class=\"gatetext\" x=\"621.0\" y=\"204.0\">X</text><circle class=\"control1\" cx=\"664.0\" cy=\"112\" r=\"3\"/><line class=\"controlline\" x1=\"664.0\" y1=\"115\" x2=\"664.0\" y2=\"237.0\"/><rect class=\"gaterect\" x=\"650\" y=\"237.0\" width=\"28\" height=\"26\"/><text dominant-baseline=\"central\" text-anchor=\"middle\" class=\"gatetext\" x=\"664.0\" y=\"250.0\">X</text><line class=\"tickline\" x1=\"685.5\" y1=\"0\" x2=\"685.5\" y2=\"362\"/><circle class=\"control1\" cx=\"707.0\" cy=\"20\" r=\"3\"/><line class=\"controlline\" x1=\"707.0\" y1=\"23\" x2=\"707.0\" y2=\"329.0\"/><rect class=\"gaterect\" x=\"693\" y=\"329.0\" width=\"28\" height=\"26\"/><text dominant-baseline=\"central\" text-anchor=\"middle\" class=\"gatetext\" x=\"707.0\" y=\"342.0\">X</text><circle class=\"control1\" cx=\"750.0\" cy=\"66\" r=\"3\"/><line class=\"controlline\" x1=\"750.0\" y1=\"69\" x2=\"750.0\" y2=\"329.0\"/><rect class=\"gaterect\" x=\"736\" y=\"329.0\" width=\"28\" height=\"26\"/><text dominant-baseline=\"central\" text-anchor=\"middle\" class=\"gatetext\" x=\"750.0\" y=\"342.0\">X</text><circle class=\"control1\" cx=\"793.0\" cy=\"296\" r=\"3\"/><line class=\"controlline\" x1=\"793.0\" y1=\"299\" x2=\"793.0\" y2=\"329.0\"/><rect class=\"gaterect\" x=\"779\" y=\"329.0\" width=\"28\" height=\"26\"/><text dominant-baseline=\"central\" text-anchor=\"middle\" class=\"gatetext\" x=\"793.0\" y=\"342.0\">X</text><circle class=\"control1\" cx=\"836.0\" cy=\"342\" r=\"3\"/><line class=\"controlline\" x1=\"836.0\" y1=\"345\" x2=\"836.0\" y2=\"191.0\"/><rect class=\"gaterect\" x=\"822\" y=\"191.0\" width=\"28\" height=\"26\"/><text dominant-baseline=\"central\" text-anchor=\"middle\" class=\"gatetext\" x=\"836.0\" y=\"204.0\">X</text><circle class=\"control1\" cx=\"879.0\" cy=\"342\" r=\"3\"/><line class=\"controlline\" x1=\"879.0\" y1=\"345\" x2=\"879.0\" y2=\"237.0\"/><rect class=\"gaterect\" x=\"865\" y=\"237.0\" width=\"28\" height=\"26\"/><text dominant-baseline=\"central\" text-anchor=\"middle\" class=\"gatetext\" x=\"879.0\" y=\"250.0\">X</text><circle class=\"control1\" cx=\"922.0\" cy=\"342\" r=\"3\"/><line class=\"controlline\" x1=\"922.0\" y1=\"345\" x2=\"922.0\" y2=\"283.0\"/><rect class=\"gaterect\" x=\"908\" y=\"283.0\" width=\"28\" height=\"26\"/><text dominant-baseline=\"central\" text-anchor=\"middle\" class=\"gatetext\" x=\"922.0\" y=\"296.0\">X</text></svg>"
      ],
      "text/plain": [
       "<IPython.core.display.SVG object>"
      ]
     },
     "metadata": {},
     "output_type": "display_data"
    },
    {
     "name": "stdout",
     "output_type": "stream",
     "text": [
      "   basis  input state      enc state    dec state\n",
      "--------  -------------  -----------  -----------\n",
      "00000000   1.000               0.354        0.354\n",
      "11110000                       0.354        0.354\n",
      "11001100                       0.354        0.354\n",
      "00111100                       0.354        0.354\n",
      "10101010                       0.354        0.354\n",
      "01011010                       0.354        0.354\n",
      "01100110                       0.354        0.354\n",
      "10010110                       0.354        0.354\n"
     ]
    }
   ],
   "source": [
    "cd.construct_encoding_circuit()\n",
    "\n",
    "# first create the zero state\n",
    "circ = stac.Circuit.simple(cd.num_physical_qubits)\n",
    "circ.append_register(stac.QubitRegister('a', 0, cd.num_logical_qubits))\n",
    "circ.append('TICK')\n",
    "\n",
    "# then encode it.\n",
    "circ += cd.encoding_circuit\n",
    "circ.append('TICK')\n",
    "\n",
    "# then decode\n",
    "circ += cd.decoding_circuit\n",
    "\n",
    "circ.draw()\n",
    "circ.simulate(head=['basis', 'input state','enc state', 'dec state'], incremental=True)"
   ]
  },
  {
   "cell_type": "markdown",
   "id": "37e6728f-9644-4c43-a930-537f0e6638eb",
   "metadata": {},
   "source": [
    "The input state here is the $7$th qubit counting from the left, out of the $8$ qubits. The first $6$ qubits are the encoding ancilla, and the last qubit is the decoding ancilla.\n",
    "\n",
    "You can see that the input state is $\\ket{0000000}\\ket{0}$. Then, we apply the encoding operation to get the encoded $\\ket{\\bar 0}$ state. After decoding, note that the state of the $8$th qubit is still $0$. This is not very interesting now. But, let's try with the one state."
   ]
  },
  {
   "cell_type": "code",
   "execution_count": 5,
   "id": "e7227bec-bbfd-4e4f-a710-6c5a57771cc8",
   "metadata": {},
   "outputs": [
    {
     "data": {
      "image/svg+xml": [
       "<svg xmlns=\"http://www.w3.org/2000/svg\" width=\"979\" height=\"368\"><style>\n",
       "            .labeltext { font-family: Bitstream Vera Sans Mono;\n",
       "                        font-size: 12px; font-weight: 400; fill: black;}\n",
       "            .qubitline { stroke: black; stroke-width: 2; }\n",
       "            .gatetext { font-family: Latin Modern Math, Cambria Math;\n",
       "                       font-size: 20px; font-weight: 400; fill: black;}\n",
       "            .gaterect { fill: white; stroke: black; stroke-width: 2 }\n",
       "            .control1 { fill: black; stroke: black; stroke-width: 1 }\n",
       "            .controlline { stroke: black; stroke-width: 2}\n",
       "            .tickline { stroke: black; stroke-width: 0.75; stroke-dasharray: 6,3}\n",
       "            .tp_highlight1 { fill: red; opacity: 0.2;}\n",
       "            .tp_highlight2 { fill: blue; opacity: 0.2;}\n",
       "                </style><line class=\"qubitline\" x1=\"104\" y1=\"20\" x2=\"979\" y2=\"20\"/><line class=\"qubitline\" x1=\"104\" y1=\"66\" x2=\"979\" y2=\"66\"/><line class=\"qubitline\" x1=\"104\" y1=\"112\" x2=\"979\" y2=\"112\"/><line class=\"qubitline\" x1=\"104\" y1=\"158\" x2=\"979\" y2=\"158\"/><line class=\"qubitline\" x1=\"104\" y1=\"204\" x2=\"979\" y2=\"204\"/><line class=\"qubitline\" x1=\"104\" y1=\"250\" x2=\"979\" y2=\"250\"/><line class=\"qubitline\" x1=\"104\" y1=\"296\" x2=\"979\" y2=\"296\"/><line class=\"qubitline\" x1=\"104\" y1=\"342\" x2=\"979\" y2=\"342\"/><text dominant-baseline=\"central\" class=\"labeltext\" x=\"0\" y=\"20\">(0, 0, 0) : 0</text><text dominant-baseline=\"central\" class=\"labeltext\" x=\"0\" y=\"66\">(0, 0, 1) : 1</text><text dominant-baseline=\"central\" class=\"labeltext\" x=\"0\" y=\"112\">(0, 0, 2) : 2</text><text dominant-baseline=\"central\" class=\"labeltext\" x=\"0\" y=\"158\">(0, 0, 3) : 3</text><text dominant-baseline=\"central\" class=\"labeltext\" x=\"0\" y=\"204\">(0, 0, 4) : 4</text><text dominant-baseline=\"central\" class=\"labeltext\" x=\"0\" y=\"250\">(0, 0, 5) : 5</text><text dominant-baseline=\"central\" class=\"labeltext\" x=\"0\" y=\"296\">(0, 0, 6) : 6</text><text dominant-baseline=\"central\" class=\"labeltext\" x=\"0\" y=\"342\">(0, 1, 0) : 7</text><rect class=\"gaterect\" x=\"119\" y=\"283.0\" width=\"28\" height=\"26\"/><text dominant-baseline=\"central\" text-anchor=\"middle\" class=\"gatetext\" x=\"133.0\" y=\"296.0\">X</text><line class=\"tickline\" x1=\"154.5\" y1=\"0\" x2=\"154.5\" y2=\"362\"/><circle class=\"control1\" cx=\"176.0\" cy=\"296\" r=\"3\"/><line class=\"controlline\" x1=\"176.0\" y1=\"299\" x2=\"176.0\" y2=\"191.0\"/><rect class=\"gaterect\" x=\"162\" y=\"191.0\" width=\"28\" height=\"26\"/><text dominant-baseline=\"central\" text-anchor=\"middle\" class=\"gatetext\" x=\"176.0\" y=\"204.0\">X</text><circle class=\"control1\" cx=\"219.0\" cy=\"296\" r=\"3\"/><line class=\"controlline\" x1=\"219.0\" y1=\"299\" x2=\"219.0\" y2=\"237.0\"/><rect class=\"gaterect\" x=\"205\" y=\"237.0\" width=\"28\" height=\"26\"/><text dominant-baseline=\"central\" text-anchor=\"middle\" class=\"gatetext\" x=\"219.0\" y=\"250.0\">X</text><rect class=\"gaterect\" x=\"205\" y=\"7.0\" width=\"28\" height=\"26\"/><text dominant-baseline=\"central\" text-anchor=\"middle\" class=\"gatetext\" x=\"219.0\" y=\"20.0\">H</text><circle class=\"control1\" cx=\"262.0\" cy=\"20\" r=\"3\"/><line class=\"controlline\" x1=\"262.0\" y1=\"23\" x2=\"262.0\" y2=\"145.0\"/><rect class=\"gaterect\" x=\"248\" y=\"145.0\" width=\"28\" height=\"26\"/><text dominant-baseline=\"central\" text-anchor=\"middle\" class=\"gatetext\" x=\"262.0\" y=\"158.0\">X</text><circle class=\"control1\" cx=\"305.0\" cy=\"20\" r=\"3\"/><line class=\"controlline\" x1=\"305.0\" y1=\"23\" x2=\"305.0\" y2=\"237.0\"/><rect class=\"gaterect\" x=\"291\" y=\"237.0\" width=\"28\" height=\"26\"/><text dominant-baseline=\"central\" text-anchor=\"middle\" class=\"gatetext\" x=\"305.0\" y=\"250.0\">X</text><circle class=\"control1\" cx=\"348.0\" cy=\"20\" r=\"3\"/><line class=\"controlline\" x1=\"348.0\" y1=\"23\" x2=\"348.0\" y2=\"283.0\"/><rect class=\"gaterect\" x=\"334\" y=\"283.0\" width=\"28\" height=\"26\"/><text dominant-baseline=\"central\" text-anchor=\"middle\" class=\"gatetext\" x=\"348.0\" y=\"296.0\">X</text><rect class=\"gaterect\" x=\"377\" y=\"53.0\" width=\"28\" height=\"26\"/><text dominant-baseline=\"central\" text-anchor=\"middle\" class=\"gatetext\" x=\"391.0\" y=\"66.0\">H</text><circle class=\"control1\" cx=\"434.0\" cy=\"66\" r=\"3\"/><line class=\"controlline\" x1=\"434.0\" y1=\"69\" x2=\"434.0\" y2=\"145.0\"/><rect class=\"gaterect\" x=\"420\" y=\"145.0\" width=\"28\" height=\"26\"/><text dominant-baseline=\"central\" text-anchor=\"middle\" class=\"gatetext\" x=\"434.0\" y=\"158.0\">X</text><circle class=\"control1\" cx=\"477.0\" cy=\"66\" r=\"3\"/><line class=\"controlline\" x1=\"477.0\" y1=\"69\" x2=\"477.0\" y2=\"191.0\"/><rect class=\"gaterect\" x=\"463\" y=\"191.0\" width=\"28\" height=\"26\"/><text dominant-baseline=\"central\" text-anchor=\"middle\" class=\"gatetext\" x=\"477.0\" y=\"204.0\">X</text><circle class=\"control1\" cx=\"520.0\" cy=\"66\" r=\"3\"/><line class=\"controlline\" x1=\"520.0\" y1=\"69\" x2=\"520.0\" y2=\"283.0\"/><rect class=\"gaterect\" x=\"506\" y=\"283.0\" width=\"28\" height=\"26\"/><text dominant-baseline=\"central\" text-anchor=\"middle\" class=\"gatetext\" x=\"520.0\" y=\"296.0\">X</text><rect class=\"gaterect\" x=\"549\" y=\"99.0\" width=\"28\" height=\"26\"/><text dominant-baseline=\"central\" text-anchor=\"middle\" class=\"gatetext\" x=\"563.0\" y=\"112.0\">H</text><circle class=\"control1\" cx=\"606.0\" cy=\"112\" r=\"3\"/><line class=\"controlline\" x1=\"606.0\" y1=\"115\" x2=\"606.0\" y2=\"145.0\"/><rect class=\"gaterect\" x=\"592\" y=\"145.0\" width=\"28\" height=\"26\"/><text dominant-baseline=\"central\" text-anchor=\"middle\" class=\"gatetext\" x=\"606.0\" y=\"158.0\">X</text><circle class=\"control1\" cx=\"649.0\" cy=\"112\" r=\"3\"/><line class=\"controlline\" x1=\"649.0\" y1=\"115\" x2=\"649.0\" y2=\"191.0\"/><rect class=\"gaterect\" x=\"635\" y=\"191.0\" width=\"28\" height=\"26\"/><text dominant-baseline=\"central\" text-anchor=\"middle\" class=\"gatetext\" x=\"649.0\" y=\"204.0\">X</text><circle class=\"control1\" cx=\"692.0\" cy=\"112\" r=\"3\"/><line class=\"controlline\" x1=\"692.0\" y1=\"115\" x2=\"692.0\" y2=\"237.0\"/><rect class=\"gaterect\" x=\"678\" y=\"237.0\" width=\"28\" height=\"26\"/><text dominant-baseline=\"central\" text-anchor=\"middle\" class=\"gatetext\" x=\"692.0\" y=\"250.0\">X</text><line class=\"tickline\" x1=\"713.5\" y1=\"0\" x2=\"713.5\" y2=\"362\"/><circle class=\"control1\" cx=\"735.0\" cy=\"20\" r=\"3\"/><line class=\"controlline\" x1=\"735.0\" y1=\"23\" x2=\"735.0\" y2=\"329.0\"/><rect class=\"gaterect\" x=\"721\" y=\"329.0\" width=\"28\" height=\"26\"/><text dominant-baseline=\"central\" text-anchor=\"middle\" class=\"gatetext\" x=\"735.0\" y=\"342.0\">X</text><circle class=\"control1\" cx=\"778.0\" cy=\"66\" r=\"3\"/><line class=\"controlline\" x1=\"778.0\" y1=\"69\" x2=\"778.0\" y2=\"329.0\"/><rect class=\"gaterect\" x=\"764\" y=\"329.0\" width=\"28\" height=\"26\"/><text dominant-baseline=\"central\" text-anchor=\"middle\" class=\"gatetext\" x=\"778.0\" y=\"342.0\">X</text><circle class=\"control1\" cx=\"821.0\" cy=\"296\" r=\"3\"/><line class=\"controlline\" x1=\"821.0\" y1=\"299\" x2=\"821.0\" y2=\"329.0\"/><rect class=\"gaterect\" x=\"807\" y=\"329.0\" width=\"28\" height=\"26\"/><text dominant-baseline=\"central\" text-anchor=\"middle\" class=\"gatetext\" x=\"821.0\" y=\"342.0\">X</text><circle class=\"control1\" cx=\"864.0\" cy=\"342\" r=\"3\"/><line class=\"controlline\" x1=\"864.0\" y1=\"345\" x2=\"864.0\" y2=\"191.0\"/><rect class=\"gaterect\" x=\"850\" y=\"191.0\" width=\"28\" height=\"26\"/><text dominant-baseline=\"central\" text-anchor=\"middle\" class=\"gatetext\" x=\"864.0\" y=\"204.0\">X</text><circle class=\"control1\" cx=\"907.0\" cy=\"342\" r=\"3\"/><line class=\"controlline\" x1=\"907.0\" y1=\"345\" x2=\"907.0\" y2=\"237.0\"/><rect class=\"gaterect\" x=\"893\" y=\"237.0\" width=\"28\" height=\"26\"/><text dominant-baseline=\"central\" text-anchor=\"middle\" class=\"gatetext\" x=\"907.0\" y=\"250.0\">X</text><circle class=\"control1\" cx=\"950.0\" cy=\"342\" r=\"3\"/><line class=\"controlline\" x1=\"950.0\" y1=\"345\" x2=\"950.0\" y2=\"283.0\"/><rect class=\"gaterect\" x=\"936\" y=\"283.0\" width=\"28\" height=\"26\"/><text dominant-baseline=\"central\" text-anchor=\"middle\" class=\"gatetext\" x=\"950.0\" y=\"296.0\">X</text></svg>"
      ],
      "text/plain": [
       "<IPython.core.display.SVG object>"
      ]
     },
     "metadata": {},
     "output_type": "display_data"
    },
    {
     "name": "stdout",
     "output_type": "stream",
     "text": [
      "   basis  input state    enc state    dec state\n",
      "--------  -------------  -----------  -----------\n",
      "01101000                  0.354\n",
      "10011000                  0.354\n",
      "10100100                  0.354\n",
      "01010100                  0.354\n",
      "00000010   1.000\n",
      "11000010                  0.354\n",
      "00110010                  0.354\n",
      "00001110                  0.354\n",
      "11111110                  0.354\n",
      "00000001                               0.354\n",
      "11110001                               0.354\n",
      "11001101                               0.354\n",
      "00111101                               0.354\n",
      "10101011                               0.354\n",
      "01011011                               0.354\n",
      "01100111                               0.354\n",
      "10010111                               0.354\n"
     ]
    }
   ],
   "source": [
    "# first create the one state\n",
    "circ = stac.Circuit.simple(cd.num_physical_qubits)\n",
    "circ.append_register(stac.QubitRegister('a', 0, cd.num_logical_qubits))\n",
    "circ.append('X',6)\n",
    "circ.append('TICK')\n",
    "\n",
    "# then encode it.\n",
    "circ += cd.encoding_circuit\n",
    "circ.append('TICK')\n",
    "\n",
    "# then decode\n",
    "circ += cd.decoding_circuit\n",
    "\n",
    "circ.draw()\n",
    "circ.simulate(head=['basis', 'input state','enc state', 'dec state'], incremental=True)"
   ]
  },
  {
   "cell_type": "markdown",
   "id": "e7176f46-6b12-4461-8208-db88159f508f",
   "metadata": {},
   "source": [
    "And voila, you see that in the final state, the $8$th qubit is in the state $\\ket{1}$, hence unentangled from the remaining qubits. Also, note that the state of the first $7$ qubits has changed into something outside the logical code space (none of the kets that appear in the logical zero and one states are here). This ensures that the first $7$ qubits no longer contain any information about an arbitrary logical qubit, hence, respecting the no-cloning theorem."
   ]
  },
  {
   "cell_type": "markdown",
   "id": "14cd4750-58e7-438b-becd-e02a2b5e5c22",
   "metadata": {},
   "source": [
    "#### Task 1\n",
    "Decode the zero and one state for the $[[5,1,3]]$ code, and make sure you get the right answer."
   ]
  },
  {
   "cell_type": "code",
   "execution_count": null,
   "id": "0943987e-13d0-4abf-940b-249aed864265",
   "metadata": {},
   "outputs": [],
   "source": []
  }
 ],
 "metadata": {
  "kernelspec": {
   "display_name": "Python 3 (ipykernel)",
   "language": "python",
   "name": "python3"
  },
  "language_info": {
   "codemirror_mode": {
    "name": "ipython",
    "version": 3
   },
   "file_extension": ".py",
   "mimetype": "text/x-python",
   "name": "python",
   "nbconvert_exporter": "python",
   "pygments_lexer": "ipython3",
   "version": "3.10.8"
  },
  "widgets": {
   "application/vnd.jupyter.widget-state+json": {
    "state": {},
    "version_major": 2,
    "version_minor": 0
   }
  }
 },
 "nbformat": 4,
 "nbformat_minor": 5
}
