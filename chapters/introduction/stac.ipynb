{
 "cells": [
  {
   "cell_type": "markdown",
   "id": "0b6d7610",
   "metadata": {},
   "source": [
    "# Stac installation, and a short guide"
   ]
  },
  {
   "cell_type": "markdown",
   "id": "f39c1978",
   "metadata": {},
   "source": [
    "Stac is a python package. It has a number of dependencies, the most important of which are\n",
    "\n",
    "* qiskit\n",
    "* stim\n",
    "* a working latex installation [if you want pretty latex figures]\n",
    "\n",
    "To install stac, please run the following cell"
   ]
  },
  {
   "cell_type": "code",
   "execution_count": null,
   "id": "e1c0b94a",
   "metadata": {},
   "outputs": [],
   "source": [
    "!pip install git+https://github.com/abdullahkhalids/stac"
   ]
  },
  {
   "cell_type": "markdown",
   "id": "c0de3c7e",
   "metadata": {},
   "source": [
    "If you don't have git installed, you can also just download the repository directly, and run `!pip install /path/to/repo/dir`."
   ]
  },
  {
   "cell_type": "markdown",
   "id": "3b0d3a87",
   "metadata": {},
   "source": [
    "# Testing the installation\n",
    "\n",
    "The following commands show you how to create a quantum code. You will understand what they mean as you read the book. Right now, just make sure the commands work."
   ]
  },
  {
   "cell_type": "code",
   "execution_count": 1,
   "id": "99ef987d",
   "metadata": {},
   "outputs": [
    {
     "data": {
      "text/plain": [
       "array([[1, 1, 1, 1, 0, 0, 0, 0, 0, 0, 0, 0, 0, 0],\n",
       "       [1, 1, 0, 0, 1, 1, 0, 0, 0, 0, 0, 0, 0, 0],\n",
       "       [1, 0, 1, 0, 1, 0, 1, 0, 0, 0, 0, 0, 0, 0],\n",
       "       [0, 0, 0, 0, 0, 0, 0, 1, 1, 1, 1, 0, 0, 0],\n",
       "       [0, 0, 0, 0, 0, 0, 0, 1, 1, 0, 0, 1, 1, 0],\n",
       "       [0, 0, 0, 0, 0, 0, 0, 1, 0, 1, 0, 1, 0, 1]])"
      ]
     },
     "execution_count": 1,
     "metadata": {},
     "output_type": "execute_result"
    }
   ],
   "source": [
    "import stac\n",
    "cd = stac.CommonCodes.generate_code(\"[[7,1,3]]\")\n",
    "cd.generator_matrix"
   ]
  },
  {
   "cell_type": "code",
   "execution_count": 2,
   "id": "afe7812c",
   "metadata": {},
   "outputs": [
    {
     "data": {
      "image/svg+xml": [
       "<svg xmlns=\"http://www.w3.org/2000/svg\" width=\"1354\" height=\"598\"><style>\n",
       "            .labeltext { font-family: Bitstream Vera Sans Mono;\n",
       "                        font-size: 12px; font-weight: 400; fill: black;}\n",
       "            .qubitline { stroke: black; stroke-width: 2; }\n",
       "            .gatetext { font-family: Latin Modern Math, Cambria Math;\n",
       "                       font-size: 20px; font-weight: 400; fill: black;}\n",
       "            .gaterect { fill: white; stroke: black; stroke-width: 2 }\n",
       "            .control1 { fill: black; stroke: black; stroke-width: 1 }\n",
       "            .controlline { stroke: black; stroke-width: 2}\n",
       "            .tickline { stroke: black; stroke-width: 0.75; stroke-dasharray: 6,3}\n",
       "            .tp_highlight1 { fill: red; opacity: 0.2;}\n",
       "            .tp_highlight2 { fill: blue; opacity: 0.2;}\n",
       "                </style><line class=\"qubitline\" x1=\"160\" y1=\"20\" x2=\"1354\" y2=\"20\"/><line class=\"qubitline\" x1=\"160\" y1=\"66\" x2=\"1354\" y2=\"66\"/><line class=\"qubitline\" x1=\"160\" y1=\"112\" x2=\"1354\" y2=\"112\"/><line class=\"qubitline\" x1=\"160\" y1=\"158\" x2=\"1354\" y2=\"158\"/><line class=\"qubitline\" x1=\"160\" y1=\"204\" x2=\"1354\" y2=\"204\"/><line class=\"qubitline\" x1=\"160\" y1=\"250\" x2=\"1354\" y2=\"250\"/><line class=\"qubitline\" x1=\"160\" y1=\"296\" x2=\"1354\" y2=\"296\"/><line class=\"qubitline\" x1=\"160\" y1=\"342\" x2=\"1354\" y2=\"342\"/><line class=\"qubitline\" x1=\"160\" y1=\"388\" x2=\"1354\" y2=\"388\"/><line class=\"qubitline\" x1=\"160\" y1=\"434\" x2=\"1354\" y2=\"434\"/><line class=\"qubitline\" x1=\"160\" y1=\"480\" x2=\"1354\" y2=\"480\"/><line class=\"qubitline\" x1=\"160\" y1=\"526\" x2=\"1354\" y2=\"526\"/><line class=\"qubitline\" x1=\"160\" y1=\"572\" x2=\"1354\" y2=\"572\"/><text dominant-baseline=\"central\" class=\"labeltext\" x=\"0\" y=\"20\">(0, 0, 0, 0)    :  0</text><text dominant-baseline=\"central\" class=\"labeltext\" x=\"0\" y=\"66\">(0, 0, 0, 1)    :  1</text><text dominant-baseline=\"central\" class=\"labeltext\" x=\"0\" y=\"112\">(0, 0, 0, 2)    :  2</text><text dominant-baseline=\"central\" class=\"labeltext\" x=\"0\" y=\"158\">(0, 0, 0, 3)    :  3</text><text dominant-baseline=\"central\" class=\"labeltext\" x=\"0\" y=\"204\">(0, 0, 0, 4)    :  4</text><text dominant-baseline=\"central\" class=\"labeltext\" x=\"0\" y=\"250\">(0, 0, 0, 5)    :  5</text><text dominant-baseline=\"central\" class=\"labeltext\" x=\"0\" y=\"296\">(0, 0, 0, 6)    :  6</text><text dominant-baseline=\"central\" class=\"labeltext\" x=\"0\" y=\"342\">(0, 0, 1, 0, 0) :  7</text><text dominant-baseline=\"central\" class=\"labeltext\" x=\"0\" y=\"388\">(0, 0, 1, 1, 0) :  8</text><text dominant-baseline=\"central\" class=\"labeltext\" x=\"0\" y=\"434\">(0, 0, 1, 2, 0) :  9</text><text dominant-baseline=\"central\" class=\"labeltext\" x=\"0\" y=\"480\">(0, 0, 1, 3, 0) : 10</text><text dominant-baseline=\"central\" class=\"labeltext\" x=\"0\" y=\"526\">(0, 0, 1, 4, 0) : 11</text><text dominant-baseline=\"central\" class=\"labeltext\" x=\"0\" y=\"572\">(0, 0, 1, 5, 0) : 12</text><rect class=\"gaterect\" x=\"175\" y=\"329.0\" width=\"28\" height=\"26\"/><text dominant-baseline=\"central\" text-anchor=\"middle\" class=\"gatetext\" x=\"189.0\" y=\"342.0\">H</text><rect class=\"gaterect\" x=\"175\" y=\"375.0\" width=\"28\" height=\"26\"/><text dominant-baseline=\"central\" text-anchor=\"middle\" class=\"gatetext\" x=\"189.0\" y=\"388.0\">H</text><rect class=\"gaterect\" x=\"175\" y=\"421.0\" width=\"28\" height=\"26\"/><text dominant-baseline=\"central\" text-anchor=\"middle\" class=\"gatetext\" x=\"189.0\" y=\"434.0\">H</text><rect class=\"gaterect\" x=\"175\" y=\"467.0\" width=\"28\" height=\"26\"/><text dominant-baseline=\"central\" text-anchor=\"middle\" class=\"gatetext\" x=\"189.0\" y=\"480.0\">H</text><rect class=\"gaterect\" x=\"175\" y=\"513.0\" width=\"28\" height=\"26\"/><text dominant-baseline=\"central\" text-anchor=\"middle\" class=\"gatetext\" x=\"189.0\" y=\"526.0\">H</text><rect class=\"gaterect\" x=\"175\" y=\"559.0\" width=\"28\" height=\"26\"/><text dominant-baseline=\"central\" text-anchor=\"middle\" class=\"gatetext\" x=\"189.0\" y=\"572.0\">H</text><circle class=\"control1\" cx=\"232.0\" cy=\"342\" r=\"3\"/><line class=\"controlline\" x1=\"232.0\" y1=\"345\" x2=\"232.0\" y2=\"7.0\"/><rect class=\"gaterect\" x=\"218\" y=\"7.0\" width=\"28\" height=\"26\"/><text dominant-baseline=\"central\" text-anchor=\"middle\" class=\"gatetext\" x=\"232.0\" y=\"20.0\">X</text><circle class=\"control1\" cx=\"275.0\" cy=\"342\" r=\"3\"/><line class=\"controlline\" x1=\"275.0\" y1=\"345\" x2=\"275.0\" y2=\"53.0\"/><rect class=\"gaterect\" x=\"261\" y=\"53.0\" width=\"28\" height=\"26\"/><text dominant-baseline=\"central\" text-anchor=\"middle\" class=\"gatetext\" x=\"275.0\" y=\"66.0\">X</text><circle class=\"control1\" cx=\"318.0\" cy=\"342\" r=\"3\"/><line class=\"controlline\" x1=\"318.0\" y1=\"345\" x2=\"318.0\" y2=\"99.0\"/><rect class=\"gaterect\" x=\"304\" y=\"99.0\" width=\"28\" height=\"26\"/><text dominant-baseline=\"central\" text-anchor=\"middle\" class=\"gatetext\" x=\"318.0\" y=\"112.0\">X</text><circle class=\"control1\" cx=\"361.0\" cy=\"342\" r=\"3\"/><line class=\"controlline\" x1=\"361.0\" y1=\"345\" x2=\"361.0\" y2=\"145.0\"/><rect class=\"gaterect\" x=\"347\" y=\"145.0\" width=\"28\" height=\"26\"/><text dominant-baseline=\"central\" text-anchor=\"middle\" class=\"gatetext\" x=\"361.0\" y=\"158.0\">X</text><circle class=\"control1\" cx=\"404.0\" cy=\"388\" r=\"3\"/><line class=\"controlline\" x1=\"404.0\" y1=\"391\" x2=\"404.0\" y2=\"7.0\"/><rect class=\"gaterect\" x=\"390\" y=\"7.0\" width=\"28\" height=\"26\"/><text dominant-baseline=\"central\" text-anchor=\"middle\" class=\"gatetext\" x=\"404.0\" y=\"20.0\">X</text><circle class=\"control1\" cx=\"447.0\" cy=\"388\" r=\"3\"/><line class=\"controlline\" x1=\"447.0\" y1=\"391\" x2=\"447.0\" y2=\"53.0\"/><rect class=\"gaterect\" x=\"433\" y=\"53.0\" width=\"28\" height=\"26\"/><text dominant-baseline=\"central\" text-anchor=\"middle\" class=\"gatetext\" x=\"447.0\" y=\"66.0\">X</text><circle class=\"control1\" cx=\"490.0\" cy=\"388\" r=\"3\"/><line class=\"controlline\" x1=\"490.0\" y1=\"391\" x2=\"490.0\" y2=\"191.0\"/><rect class=\"gaterect\" x=\"476\" y=\"191.0\" width=\"28\" height=\"26\"/><text dominant-baseline=\"central\" text-anchor=\"middle\" class=\"gatetext\" x=\"490.0\" y=\"204.0\">X</text><circle class=\"control1\" cx=\"533.0\" cy=\"388\" r=\"3\"/><line class=\"controlline\" x1=\"533.0\" y1=\"391\" x2=\"533.0\" y2=\"237.0\"/><rect class=\"gaterect\" x=\"519\" y=\"237.0\" width=\"28\" height=\"26\"/><text dominant-baseline=\"central\" text-anchor=\"middle\" class=\"gatetext\" x=\"533.0\" y=\"250.0\">X</text><circle class=\"control1\" cx=\"576.0\" cy=\"434\" r=\"3\"/><line class=\"controlline\" x1=\"576.0\" y1=\"437\" x2=\"576.0\" y2=\"7.0\"/><rect class=\"gaterect\" x=\"562\" y=\"7.0\" width=\"28\" height=\"26\"/><text dominant-baseline=\"central\" text-anchor=\"middle\" class=\"gatetext\" x=\"576.0\" y=\"20.0\">X</text><circle class=\"control1\" cx=\"619.0\" cy=\"434\" r=\"3\"/><line class=\"controlline\" x1=\"619.0\" y1=\"437\" x2=\"619.0\" y2=\"99.0\"/><rect class=\"gaterect\" x=\"605\" y=\"99.0\" width=\"28\" height=\"26\"/><text dominant-baseline=\"central\" text-anchor=\"middle\" class=\"gatetext\" x=\"619.0\" y=\"112.0\">X</text><circle class=\"control1\" cx=\"662.0\" cy=\"434\" r=\"3\"/><line class=\"controlline\" x1=\"662.0\" y1=\"437\" x2=\"662.0\" y2=\"191.0\"/><rect class=\"gaterect\" x=\"648\" y=\"191.0\" width=\"28\" height=\"26\"/><text dominant-baseline=\"central\" text-anchor=\"middle\" class=\"gatetext\" x=\"662.0\" y=\"204.0\">X</text><circle class=\"control1\" cx=\"705.0\" cy=\"434\" r=\"3\"/><line class=\"controlline\" x1=\"705.0\" y1=\"437\" x2=\"705.0\" y2=\"283.0\"/><rect class=\"gaterect\" x=\"691\" y=\"283.0\" width=\"28\" height=\"26\"/><text dominant-baseline=\"central\" text-anchor=\"middle\" class=\"gatetext\" x=\"705.0\" y=\"296.0\">X</text><circle class=\"control1\" cx=\"748.0\" cy=\"480\" r=\"3\"/><line class=\"controlline\" x1=\"748.0\" y1=\"483\" x2=\"748.0\" y2=\"7.0\"/><rect class=\"gaterect\" x=\"734\" y=\"7.0\" width=\"28\" height=\"26\"/><text dominant-baseline=\"central\" text-anchor=\"middle\" class=\"gatetext\" x=\"748.0\" y=\"20.0\">Z</text><circle class=\"control1\" cx=\"791.0\" cy=\"480\" r=\"3\"/><line class=\"controlline\" x1=\"791.0\" y1=\"483\" x2=\"791.0\" y2=\"53.0\"/><rect class=\"gaterect\" x=\"777\" y=\"53.0\" width=\"28\" height=\"26\"/><text dominant-baseline=\"central\" text-anchor=\"middle\" class=\"gatetext\" x=\"791.0\" y=\"66.0\">Z</text><circle class=\"control1\" cx=\"834.0\" cy=\"480\" r=\"3\"/><line class=\"controlline\" x1=\"834.0\" y1=\"483\" x2=\"834.0\" y2=\"99.0\"/><rect class=\"gaterect\" x=\"820\" y=\"99.0\" width=\"28\" height=\"26\"/><text dominant-baseline=\"central\" text-anchor=\"middle\" class=\"gatetext\" x=\"834.0\" y=\"112.0\">Z</text><circle class=\"control1\" cx=\"877.0\" cy=\"480\" r=\"3\"/><line class=\"controlline\" x1=\"877.0\" y1=\"483\" x2=\"877.0\" y2=\"145.0\"/><rect class=\"gaterect\" x=\"863\" y=\"145.0\" width=\"28\" height=\"26\"/><text dominant-baseline=\"central\" text-anchor=\"middle\" class=\"gatetext\" x=\"877.0\" y=\"158.0\">Z</text><circle class=\"control1\" cx=\"920.0\" cy=\"526\" r=\"3\"/><line class=\"controlline\" x1=\"920.0\" y1=\"529\" x2=\"920.0\" y2=\"7.0\"/><rect class=\"gaterect\" x=\"906\" y=\"7.0\" width=\"28\" height=\"26\"/><text dominant-baseline=\"central\" text-anchor=\"middle\" class=\"gatetext\" x=\"920.0\" y=\"20.0\">Z</text><circle class=\"control1\" cx=\"963.0\" cy=\"526\" r=\"3\"/><line class=\"controlline\" x1=\"963.0\" y1=\"529\" x2=\"963.0\" y2=\"53.0\"/><rect class=\"gaterect\" x=\"949\" y=\"53.0\" width=\"28\" height=\"26\"/><text dominant-baseline=\"central\" text-anchor=\"middle\" class=\"gatetext\" x=\"963.0\" y=\"66.0\">Z</text><circle class=\"control1\" cx=\"1006.0\" cy=\"526\" r=\"3\"/><line class=\"controlline\" x1=\"1006.0\" y1=\"529\" x2=\"1006.0\" y2=\"191.0\"/><rect class=\"gaterect\" x=\"992\" y=\"191.0\" width=\"28\" height=\"26\"/><text dominant-baseline=\"central\" text-anchor=\"middle\" class=\"gatetext\" x=\"1006.0\" y=\"204.0\">Z</text><circle class=\"control1\" cx=\"1049.0\" cy=\"526\" r=\"3\"/><line class=\"controlline\" x1=\"1049.0\" y1=\"529\" x2=\"1049.0\" y2=\"237.0\"/><rect class=\"gaterect\" x=\"1035\" y=\"237.0\" width=\"28\" height=\"26\"/><text dominant-baseline=\"central\" text-anchor=\"middle\" class=\"gatetext\" x=\"1049.0\" y=\"250.0\">Z</text><circle class=\"control1\" cx=\"1092.0\" cy=\"572\" r=\"3\"/><line class=\"controlline\" x1=\"1092.0\" y1=\"575\" x2=\"1092.0\" y2=\"7.0\"/><rect class=\"gaterect\" x=\"1078\" y=\"7.0\" width=\"28\" height=\"26\"/><text dominant-baseline=\"central\" text-anchor=\"middle\" class=\"gatetext\" x=\"1092.0\" y=\"20.0\">Z</text><circle class=\"control1\" cx=\"1135.0\" cy=\"572\" r=\"3\"/><line class=\"controlline\" x1=\"1135.0\" y1=\"575\" x2=\"1135.0\" y2=\"99.0\"/><rect class=\"gaterect\" x=\"1121\" y=\"99.0\" width=\"28\" height=\"26\"/><text dominant-baseline=\"central\" text-anchor=\"middle\" class=\"gatetext\" x=\"1135.0\" y=\"112.0\">Z</text><circle class=\"control1\" cx=\"1178.0\" cy=\"572\" r=\"3\"/><line class=\"controlline\" x1=\"1178.0\" y1=\"575\" x2=\"1178.0\" y2=\"191.0\"/><rect class=\"gaterect\" x=\"1164\" y=\"191.0\" width=\"28\" height=\"26\"/><text dominant-baseline=\"central\" text-anchor=\"middle\" class=\"gatetext\" x=\"1178.0\" y=\"204.0\">Z</text><circle class=\"control1\" cx=\"1221.0\" cy=\"572\" r=\"3\"/><line class=\"controlline\" x1=\"1221.0\" y1=\"575\" x2=\"1221.0\" y2=\"283.0\"/><rect class=\"gaterect\" x=\"1207\" y=\"283.0\" width=\"28\" height=\"26\"/><text dominant-baseline=\"central\" text-anchor=\"middle\" class=\"gatetext\" x=\"1221.0\" y=\"296.0\">Z</text><rect class=\"gaterect\" x=\"1250\" y=\"329.0\" width=\"28\" height=\"26\"/><text dominant-baseline=\"central\" text-anchor=\"middle\" class=\"gatetext\" x=\"1264.0\" y=\"342.0\">H</text><rect class=\"gaterect\" x=\"1250\" y=\"375.0\" width=\"28\" height=\"26\"/><text dominant-baseline=\"central\" text-anchor=\"middle\" class=\"gatetext\" x=\"1264.0\" y=\"388.0\">H</text><rect class=\"gaterect\" x=\"1250\" y=\"421.0\" width=\"28\" height=\"26\"/><text dominant-baseline=\"central\" text-anchor=\"middle\" class=\"gatetext\" x=\"1264.0\" y=\"434.0\">H</text><rect class=\"gaterect\" x=\"1250\" y=\"467.0\" width=\"28\" height=\"26\"/><text dominant-baseline=\"central\" text-anchor=\"middle\" class=\"gatetext\" x=\"1264.0\" y=\"480.0\">H</text><rect class=\"gaterect\" x=\"1250\" y=\"513.0\" width=\"28\" height=\"26\"/><text dominant-baseline=\"central\" text-anchor=\"middle\" class=\"gatetext\" x=\"1264.0\" y=\"526.0\">H</text><rect class=\"gaterect\" x=\"1250\" y=\"559.0\" width=\"28\" height=\"26\"/><text dominant-baseline=\"central\" text-anchor=\"middle\" class=\"gatetext\" x=\"1264.0\" y=\"572.0\">H</text><rect class=\"gaterect\" x=\"1293\" y=\"329.0\" width=\"46\" height=\"26\"/><text dominant-baseline=\"central\" text-anchor=\"middle\" class=\"gatetext\" x=\"1316.0\" y=\"342.0\">MR</text><rect class=\"gaterect\" x=\"1293\" y=\"375.0\" width=\"46\" height=\"26\"/><text dominant-baseline=\"central\" text-anchor=\"middle\" class=\"gatetext\" x=\"1316.0\" y=\"388.0\">MR</text><rect class=\"gaterect\" x=\"1293\" y=\"421.0\" width=\"46\" height=\"26\"/><text dominant-baseline=\"central\" text-anchor=\"middle\" class=\"gatetext\" x=\"1316.0\" y=\"434.0\">MR</text><rect class=\"gaterect\" x=\"1293\" y=\"467.0\" width=\"46\" height=\"26\"/><text dominant-baseline=\"central\" text-anchor=\"middle\" class=\"gatetext\" x=\"1316.0\" y=\"480.0\">MR</text><rect class=\"gaterect\" x=\"1293\" y=\"513.0\" width=\"46\" height=\"26\"/><text dominant-baseline=\"central\" text-anchor=\"middle\" class=\"gatetext\" x=\"1316.0\" y=\"526.0\">MR</text><rect class=\"gaterect\" x=\"1293\" y=\"559.0\" width=\"46\" height=\"26\"/><text dominant-baseline=\"central\" text-anchor=\"middle\" class=\"gatetext\" x=\"1316.0\" y=\"572.0\">MR</text></svg>"
      ],
      "text/plain": [
       "<IPython.core.display.SVG object>"
      ]
     },
     "metadata": {},
     "output_type": "display_data"
    }
   ],
   "source": [
    "circ = cd.construct_syndrome_circuit()\n",
    "circ.draw()"
   ]
  },
  {
   "cell_type": "code",
   "execution_count": 3,
   "id": "affda2ef",
   "metadata": {},
   "outputs": [
    {
     "name": "stdout",
     "output_type": "stream",
     "text": [
      "        basis    amplitude\n",
      "-------------  -----------\n",
      "0000000110000        0.354\n",
      "1111000110000       -0.354\n",
      "1100110110000       -0.354\n",
      "0011110110000        0.354\n",
      "1010101110000        0.354\n",
      "0101101110000       -0.354\n",
      "0110011110000       -0.354\n",
      "1001011110000        0.354\n"
     ]
    }
   ],
   "source": [
    "# stac uses qiskit to simulate circuits\n",
    "# if this fails, qiskit is not properly installed\n",
    "circ.simulate()"
   ]
  },
  {
   "cell_type": "code",
   "execution_count": 4,
   "id": "07035155",
   "metadata": {},
   "outputs": [
    {
     "name": "stdout",
     "output_type": "stream",
     "text": [
      "[1 1 1 0 0 0]\n"
     ]
    }
   ],
   "source": [
    "# it uses stim to sample from circuits\n",
    "# if this fails, stim is not properly installed\n",
    "circ.sample()"
   ]
  },
  {
   "cell_type": "markdown",
   "id": "8d8d54ab",
   "metadata": {},
   "source": [
    "If the above commands work, then stac, and its dependencies, are properly installed on your machine."
   ]
  },
  {
   "cell_type": "markdown",
   "id": "14de9fe0",
   "metadata": {},
   "source": [
    "## A guide to stac quantum circuits\n",
    "Stac allows you to create quantum circuits. Here is a short guide on the syntax stac uses."
   ]
  },
  {
   "cell_type": "code",
   "execution_count": 5,
   "id": "4b68cec7",
   "metadata": {},
   "outputs": [
    {
     "data": {
      "image/svg+xml": [
       "<svg xmlns=\"http://www.w3.org/2000/svg\" width=\"205\" height=\"92\"><style>\n",
       "            .labeltext { font-family: Bitstream Vera Sans Mono;\n",
       "                        font-size: 12px; font-weight: 400; fill: black;}\n",
       "            .qubitline { stroke: black; stroke-width: 2; }\n",
       "            .gatetext { font-family: Latin Modern Math, Cambria Math;\n",
       "                       font-size: 20px; font-weight: 400; fill: black;}\n",
       "            .gaterect { fill: white; stroke: black; stroke-width: 2 }\n",
       "            .control1 { fill: black; stroke: black; stroke-width: 1 }\n",
       "            .controlline { stroke: black; stroke-width: 2}\n",
       "            .tickline { stroke: black; stroke-width: 0.75; stroke-dasharray: 6,3}\n",
       "            .tp_highlight1 { fill: red; opacity: 0.2;}\n",
       "            .tp_highlight2 { fill: blue; opacity: 0.2;}\n",
       "                </style><line class=\"qubitline\" x1=\"104\" y1=\"20\" x2=\"205\" y2=\"20\"/><line class=\"qubitline\" x1=\"104\" y1=\"66\" x2=\"205\" y2=\"66\"/><text dominant-baseline=\"central\" class=\"labeltext\" x=\"0\" y=\"20\">(0, 0, 0) : 0</text><text dominant-baseline=\"central\" class=\"labeltext\" x=\"0\" y=\"66\">(0, 0, 1) : 1</text><rect class=\"gaterect\" x=\"119\" y=\"7.0\" width=\"28\" height=\"26\"/><text dominant-baseline=\"central\" text-anchor=\"middle\" class=\"gatetext\" x=\"133.0\" y=\"20.0\">H</text><circle class=\"control1\" cx=\"176.0\" cy=\"20\" r=\"3\"/><line class=\"controlline\" x1=\"176.0\" y1=\"23\" x2=\"176.0\" y2=\"53.0\"/><rect class=\"gaterect\" x=\"162\" y=\"53.0\" width=\"28\" height=\"26\"/><text dominant-baseline=\"central\" text-anchor=\"middle\" class=\"gatetext\" x=\"176.0\" y=\"66.0\">X</text></svg>"
      ],
      "text/plain": [
       "<IPython.core.display.SVG object>"
      ]
     },
     "metadata": {},
     "output_type": "display_data"
    }
   ],
   "source": [
    "import stac\n",
    "# create circuit object.\n",
    "# specify the number of qubits in the circuit\n",
    "circ = stac.Circuit.simple(2)\n",
    "# operations are added with the append method\n",
    "circ.append('H', 0)\n",
    "circ.append('CX', 0, 1)\n",
    "\n",
    "# you can draw the circuit using the draw method\n",
    "circ.draw()"
   ]
  },
  {
   "cell_type": "code",
   "execution_count": 6,
   "id": "011463e7",
   "metadata": {},
   "outputs": [
    {
     "name": "stdout",
     "output_type": "stream",
     "text": [
      "  basis    amplitude\n",
      "-------  -----------\n",
      "     00        0.707\n",
      "     11        0.707\n"
     ]
    }
   ],
   "source": [
    "# you can simulate a circuit using qiskit's statevector simulator like so\n",
    "# this will present the output state in a nice readable form\n",
    "circ.simulate()"
   ]
  },
  {
   "cell_type": "code",
   "execution_count": 7,
   "id": "13380b03",
   "metadata": {},
   "outputs": [
    {
     "name": "stdout",
     "output_type": "stream",
     "text": [
      "[0 0]\n",
      "[0 0]\n",
      "[0 0]\n",
      "[1 1]\n",
      "[1 1]\n",
      "[1 1]\n",
      "[1 1]\n",
      "[1 1]\n",
      "[0 0]\n",
      "[0 0]\n"
     ]
    }
   ],
   "source": [
    "# or you can use stim https://github.com/quantumlib/Stim/\n",
    "# to sample from the circuit\n",
    "\n",
    "# first add measurements to the circuit\n",
    "circ.append('M', 0)\n",
    "circ.append('M', 1)\n",
    "# then sample 10 times\n",
    "circ.sample(10)"
   ]
  },
  {
   "cell_type": "markdown",
   "id": "7231f2a8-c6d9-4cc8-9a2c-4527828090c9",
   "metadata": {},
   "source": [
    "## Further documentation on stac\n",
    "The latest documentation on stac will be available from the [github repository](https://github.com/abdullahkhalids/stac).\n",
    "\n",
    "Currently, the main reference documentations are\n",
    "\n",
    "* [Api reference](https://github.com/abdullahkhalids/stac/blob/main/api_reference.md)\n",
    "* [Operations reference](https://github.com/abdullahkhalids/stac/blob/main/operations_reference.md)"
   ]
  },
  {
   "cell_type": "code",
   "execution_count": null,
   "id": "d6013317-28f1-43ae-b2e6-00e768fd3d40",
   "metadata": {},
   "outputs": [],
   "source": []
  }
 ],
 "metadata": {
  "kernelspec": {
   "display_name": "Python 3 (ipykernel)",
   "language": "python",
   "name": "python3"
  },
  "language_info": {
   "codemirror_mode": {
    "name": "ipython",
    "version": 3
   },
   "file_extension": ".py",
   "mimetype": "text/x-python",
   "name": "python",
   "nbconvert_exporter": "python",
   "pygments_lexer": "ipython3",
   "version": "3.10.8"
  }
 },
 "nbformat": 4,
 "nbformat_minor": 5
}
