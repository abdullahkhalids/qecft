{
 "cells": [
  {
   "cell_type": "markdown",
   "id": "a23fe73c",
   "metadata": {
    "tags": []
   },
   "source": [
    "# The Shor Code"
   ]
  },
  {
   "cell_type": "markdown",
   "id": "b00286a1",
   "metadata": {
    "tags": [
     "remove-cell"
    ]
   },
   "source": [
    "<div style=\"width:100%;text-align:right;font-size:0.75em;opacity:0.2\">Latex macros</div>\n",
    "$ \\newcommand{\\ket}[1]{|#1\\rangle} $\n",
    "$ \\newcommand{\\bra}[1]{\\langle #1|} $\n",
    "$\\newcommand{\\iu}{{i\\mkern1mu}}$\n",
    "$ \\newcommand{\\e}{\\mathrm{e}}$\n",
    "$\\newcommand{\\bigo}{\\mathcal{O}}$\n",
    "$\\newcommand{\\set}[1]{\\{#1\\}}$\n",
    "$\\newcommand{\\oper}[1]{\\mathcal{#1}}$\n",
    "$\\newcommand{\\st}[1]{\\mathcal{#1}}$\n",
    "$\\newcommand{\\vecs}[1]{\\mathcal{#1}}$\n",
    "$\\newcommand{\\group}[1]{\\mathcal{#1}}$\n",
    "$\\newcommand{\\union}{\\hspace{0.25em}\\cup\\hspace{0.25em}}$"
   ]
  },
  {
   "cell_type": "markdown",
   "id": "8322accd-289e-45e9-a4c4-a80bfdc8da84",
   "metadata": {},
   "source": [
    "It is now time to construct a code that correct more than one type of error. This will also give us the opportunity to show off a code construction technique called code concatenation.\n",
    "\n",
    "In code concatenation, we first encode the logical qubit using a particular code into $n$ data qubits. Then, we encode each of then $n$ data qubits individually using the same or another code. To illustrate this, recall that, in the phase-flip code the logical basis states are encoded as\n",
    "\\begin{align}\n",
    "  \\ket{0} \\to \\ket{\\bar{0}} = \\ket{+++}, \\\\\n",
    "  \\ket{1} \\to \\ket{\\bar{1}} = \\ket{---}. \n",
    "\\end{align}\n",
    "Now, we are going to take each of the three data qubits and encode them using the bit-flip repetition code. Recall that in the bit-flip repetition code, the plus and minus states encode as\n",
    "\\begin{align}\n",
    "  \\ket{+} &= \\frac{\\ket{0} + \\ket{1}}{\\sqrt{2}} \\to \\ket{\\bar{+}} = \\frac{\\ket{000} + \\ket{111}}{\\sqrt{2}}, \\\\\n",
    "  \\ket{-} &= \\frac{\\ket{0} - \\ket{1}}{\\sqrt{2}} \\to \\ket{\\bar{-}} = \\frac{\\ket{000} - \\ket{111}}{\\sqrt{2}}.\n",
    "\\end{align}\n",
    "When we apply this encoding to each of the three qubits in the phase-flip encoding, we obtain\n",
    "\\begin{align}\n",
    "  \\ket{+++} \\to \\ket{\\bar{\\bar{0}}} = \\frac{(\\ket{000} + \\ket{111})(\\ket{000} + \\ket{111})(\\ket{000} + \\ket{111})}{2\\sqrt{2}}, \\\\\n",
    "  \\ket{---} \\to \\ket{\\bar{\\bar{1}}} = \\frac{(\\ket{000} - \\ket{111})(\\ket{000} - \\ket{111})(\\ket{000} - \\ket{111})}{2\\sqrt{2}}.\n",
    "\\end{align}\n",
    "Visually, we can draw a tree diagram to show how one qubit is first encoded into three via the phase-flip code and then each of the three qubits is encoded into three more via the bit-flip code.\n",
    "\n",
    "![Shor code concatenation](../../images/shorcodeconcatenation.png)\n",
    "\n",
    "\n",
    "Here we refer to the phase-flip code as the *outer* code (level 1) and the bit-flip code as the *inner* code (level 2). "
   ]
  },
  {
   "cell_type": "markdown",
   "id": "6386dc93-f7cc-4b8e-bf9e-905d9c70d9b1",
   "metadata": {},
   "source": [
    "### Encoding\n",
    "This combined action that maps one logical qubit to the state of nine qubits as\n",
    "\\begin{align}\n",
    "  \\ket{0} \\to \\ket{\\bar{\\bar{0}}} = \\frac{(\\ket{000} + \\ket{111})(\\ket{000} + \\ket{111})(\\ket{000} + \\ket{111})}{2\\sqrt{2}}, \\\\\n",
    "  \\ket{1} \\to \\ket{\\bar{\\bar{1}}} = \\frac{(\\ket{000} - \\ket{111})(\\ket{000} - \\ket{111})(\\ket{000} - \\ket{111})}{2\\sqrt{2}},\n",
    "\\end{align}\n",
    "defines the encoding for the Shor code."
   ]
  },
  {
   "cell_type": "markdown",
   "id": "374d09c8-b8b5-4c42-8a6b-d90bb54de3f2",
   "metadata": {},
   "source": [
    "#### Task 1\n",
    "Create the encoding circuit for the Shor code. You will use nine qubits.\n",
    "\n",
    "1. Apply the phase-flip repetition code's encoding circuit to qubits 0, 3, 6.\n",
    "2. Apply the bit-flip repetition code's encoding circuit to \n",
    "    * qubits 0,1,2\n",
    "    * qubits 3,4,5\n",
    "    * qubits 6,7,8\n",
    "\n",
    "Then use the `circ.simulate()` method to check if you get the correct output."
   ]
  },
  {
   "cell_type": "code",
   "execution_count": 1,
   "id": "a0300cb0-146f-474f-91c7-29f630d07065",
   "metadata": {},
   "outputs": [],
   "source": [
    "import stac\n",
    "enc_circ = stac.Circuit.simple(9)\n"
   ]
  },
  {
   "cell_type": "markdown",
   "id": "5f53a37f-7d46-486e-9d33-3f488d888127",
   "metadata": {},
   "source": [
    "*Question:* Construct the basis states of a nine-qubit code with the bit-flip code as the outer code and the phase-flip code as the inner code."
   ]
  },
  {
   "cell_type": "markdown",
   "id": "392d27fb-d085-43ce-b72e-a71e39ac04f9",
   "metadata": {},
   "source": [
    "### Errors and decoding\n",
    "We will now show that this code can correct every possible single-qubit error. Let's first show that it can correct bit-flip and phase-flip errors on any of the nine data qubits."
   ]
  },
  {
   "cell_type": "markdown",
   "id": "b8087a90-3af1-4a24-8f2d-affbe4453d17",
   "metadata": {},
   "source": [
    "#### $X$-errors\n",
    "Suppose a single-qubit $X$ error occurs, on say the fourth qubit.\n",
    "\\begin{align}\n",
    "  X_4\\ket{\\bar{\\bar{0}}} = \\frac{(\\ket{000} + \\ket{111})(\\ket{010} + \\ket{101})(\\ket{000} + \\ket{111})}{2\\sqrt{2}}, \\\\\n",
    "  X_4\\ket{\\bar{\\bar{1}}} = \\frac{(\\ket{000} - \\ket{111})(\\ket{010} - \\ket{101})(\\ket{000} - \\ket{111})}{2\\sqrt{2}},\n",
    "\\end{align}\n",
    "How can one detect that this occur occured? We will do the following syndrome measurements, in the style of the bit-flip code.\n",
    "\n",
    "* Compare the values of qubits 0,1,2\n",
    "* Compare the values of qubits 3,4,5\n",
    "* Compare the values of qubits 6,7,8\n",
    "\n",
    "In this example, comparing the value of the 3rd qubit with the 4th, and the 4th with the 5th will show that the 3rd qubit has a different value. The error can be fixed as before."
   ]
  },
  {
   "cell_type": "markdown",
   "id": "cad1bac7-ffc9-49da-9276-1a90e2720765",
   "metadata": {},
   "source": [
    "#### Task 2\n",
    "Create the syndrome measurement circuit for detecting $X$ errors in the Shor code."
   ]
  },
  {
   "cell_type": "code",
   "execution_count": null,
   "id": "42a4395f-edac-4381-8ecc-29560b826590",
   "metadata": {},
   "outputs": [],
   "source": [
    "# specify how many qubits you will need\n",
    "sync_circ_x = stac.Circuit.simple()\n"
   ]
  },
  {
   "cell_type": "markdown",
   "id": "5e625df3-9e60-4e3d-99a1-dda16b525823",
   "metadata": {},
   "source": [
    "#### $Z$-errors\n",
    "The case for a single-qubit $Z$ errors is slightly more difficult to see. Note, for instance, that if a $Z$ error occurs on any one of the first three qubits, the sign in the first block will change. For $i = 0,1,2$,\n",
    "\\begin{align}\n",
    "  Z_i\\ket{\\bar{\\bar{0}}} = \\frac{(\\ket{000} - \\ket{111})(\\ket{000} + \\ket{111})(\\ket{000} + \\ket{111})}{2\\sqrt{2}}, \\\\\n",
    "  Z_i\\ket{\\bar{\\bar{1}}} = \\frac{(\\ket{000} + \\ket{111})(\\ket{000} - \\ket{111})(\\ket{000} - \\ket{111})}{2\\sqrt{2}}.\n",
    "\\end{align}\n",
    "A different way of seeing it is at the outer code level, where the encoding is\n",
    "\\begin{align}\n",
    "  \\ket{\\bar{\\bar{0}}} = \\ket{\\bar{+}}\\ket{\\bar{+}}\\ket{\\bar{+}}, \\\\\n",
    "  \\ket{\\bar{\\bar{1}}} = \\ket{\\bar{-}}\\ket{\\bar{-}}\\ket{\\bar{-}}.\n",
    "\\end{align}\n",
    "Then the action of $Z_i$ for $i=0,1,2$ is\n",
    "\\begin{align}\n",
    "  Z_i\\ket{\\bar{\\bar{0}}} = \\ket{\\bar{-}}\\ket{\\bar{+}}\\ket{\\bar{+}}, \\\\\n",
    "  Z_i\\ket{\\bar{\\bar{1}}} = \\ket{\\bar{+}}\\ket{\\bar{-}}\\ket{\\bar{-}}.\n",
    "\\end{align}\n",
    "At this level, it is quite easy to see the error-detecting strategy. Apply the phase-flip code's error-detection procedure to the three encoded qubits (at the outer level). We will discuss how one can do this later."
   ]
  },
  {
   "cell_type": "markdown",
   "id": "cf4edd63-222e-49fb-a5d3-30754639c1d5",
   "metadata": {},
   "source": [
    "#### $Y$-errors\n",
    "Right now, we want to show that the Shor code can detect and correct errors beyond just $X$ and $Z$ errors. One such error is the $Y$ error, which is just $Y = \\iu ZX$, i.e. a combined bit-flip and phase-flip error. For instance, $Y_4$ will result in the corrupted basis states\n",
    "\\begin{align}\n",
    "  Y_4\\ket{\\bar{\\bar{0}}} = \\iu \\frac{(\\ket{000} + \\ket{111})(\\ket{010} - \\ket{101})(\\ket{000} + \\ket{111})}{2\\sqrt{2}}, \\\\\n",
    "  Y_4\\ket{\\bar{\\bar{1}}} = \\iu \\frac{(\\ket{000} - \\ket{111})(\\ket{010} + \\ket{101})(\\ket{000} - \\ket{111})}{2\\sqrt{2}},\n",
    "\\end{align}\n",
    "\n",
    "\n",
    "This error is detected at both the $X$ detection stage, and the $Z$ detection stage, and corrected at both as well. First, we detect $X$ errors, find that the fourth is flipped and fix it. Then we detect $Z$ errors and determine that the middle block has experienced an error and fix it.\n",
    "\n",
    "\n",
    "Hence, we have shown up till now that the Shor code can correct all errors in the set,\n",
    "\\begin{equation}\n",
    "  \\st{E} = I \\union \\set{X_i}_i \\union \\set{Y_i}_i \\union \\set{Z_i}_i, \\quad i = 0,\\dots,8.\n",
    "\\end{equation}"
   ]
  },
  {
   "cell_type": "markdown",
   "id": "8b78b2d0-c40a-4227-b610-797bf0ec2d6c",
   "metadata": {},
   "source": [
    "#### More general errors\n",
    "We showed before that the bit-flip code could also correct for $X$ rotation errors. By the same arguments of linearity and collapse, the Shor code (and most quantum codes we will encounter) can correct any error which is of the form,\n",
    "\\begin{equation}\n",
    "  E_i = e_0 I + e_1X_i + e_2 Y_i + e_3Z_i.\n",
    "\\end{equation}"
   ]
  },
  {
   "cell_type": "markdown",
   "id": "5473ae6f-2929-4064-b7da-64aaaed2054d",
   "metadata": {},
   "source": [
    "#### Task 3 (On paper)\n",
    "Apply $E_i$ to $\\ket{\\bar\\psi}$ and then show that the error-detection circuit will collapse the state to just one of the possible errors."
   ]
  },
  {
   "cell_type": "markdown",
   "id": "4e595511-3ec1-43d8-b727-8bcac57cfd27",
   "metadata": {},
   "source": [
    "*Question:* Suppose the state $\\ket{\\bar\\psi}$ encoded by the Shor code undergoes the two-qubit error $Z_1Z_2$. What is the impact of this error? This is a phenomena not seen in classical codes.\n",
    "\n",
    "*Question:* The Shor can correct some (but not all) two-qubit errors as well. Characterize all these errors. Is there any three-qubit error that the Shor code can handle?"
   ]
  },
  {
   "cell_type": "code",
   "execution_count": null,
   "id": "45189efb-af41-4043-9716-d439517ca880",
   "metadata": {},
   "outputs": [],
   "source": []
  }
 ],
 "metadata": {
  "kernelspec": {
   "display_name": "Python 3 (ipykernel)",
   "language": "python",
   "name": "python3"
  },
  "language_info": {
   "codemirror_mode": {
    "name": "ipython",
    "version": 3
   },
   "file_extension": ".py",
   "mimetype": "text/x-python",
   "name": "python",
   "nbconvert_exporter": "python",
   "pygments_lexer": "ipython3",
   "version": "3.10.8"
  },
  "widgets": {
   "application/vnd.jupyter.widget-state+json": {
    "state": {},
    "version_major": 2,
    "version_minor": 0
   }
  }
 },
 "nbformat": 4,
 "nbformat_minor": 5
}
