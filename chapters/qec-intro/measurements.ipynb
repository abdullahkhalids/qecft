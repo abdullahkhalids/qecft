{
 "cells": [
  {
   "cell_type": "markdown",
   "id": "a23fe73c",
   "metadata": {
    "tags": []
   },
   "source": [
    "# Syndrome measurements, an alternate view"
   ]
  },
  {
   "cell_type": "markdown",
   "id": "b00286a1",
   "metadata": {
    "tags": [
     "remove-cell"
    ]
   },
   "source": [
    "<div style=\"width:100%;text-align:right;font-size:0.75em;opacity:0.2\">Latex macros</div>\n",
    "$ \\newcommand{\\ket}[1]{|#1\\rangle} $\n",
    "$ \\newcommand{\\bra}[1]{\\langle #1|} $\n",
    "$\\newcommand{\\iu}{{i\\mkern1mu}}$\n",
    "$ \\newcommand{\\e}{\\mathrm{e}}$\n",
    "$\\newcommand{\\bigo}{\\mathcal{O}}$\n",
    "$\\newcommand{\\set}[1]{\\{#1\\}}$\n",
    "$\\newcommand{\\oper}[1]{\\mathcal{#1}}$\n",
    "$\\newcommand{\\st}[1]{\\mathcal{#1}}$\n",
    "$\\newcommand{\\vecs}[1]{\\mathcal{#1}}$\n",
    "$\\newcommand{\\group}[1]{\\mathcal{#1}}$\n",
    "$\\newcommand{\\union}{\\hspace{0.25em}\\cup\\hspace{0.25em}}$"
   ]
  },
  {
   "cell_type": "markdown",
   "id": "5fdeb4f4-ee22-48ed-824a-c1217dca8cd0",
   "metadata": {},
   "source": [
    "In this notebook, we will further explore a technique to measure qubits, that we used before for the repetition and Shor codes. Recall, that there our goal was not to perform a destructive measurement of the entire state, but only a partial measurement that determined whether an error had occured on the state or not. Let's see if we can generalize this.\n",
    "\n",
    "Suppose you have a qubit in some unknown state $\\ket{\\psi}$, and you want to measure operator $M$ on it. We will assume for simplicity $M$ has eigenvalues $\\pm 1$, which is true for all Pauli operators.\n",
    "\n",
    "To make our measurement, we are going to use an ancilla to store the results of our measurement. This is achieved with the following simple circuit.\n",
    "\n",
    "![Non-destructive measurement](../../images/NonDestructiveMeasurement.png)\n",
    "\n",
    "To see how this works, let's first look at an example."
   ]
  },
  {
   "cell_type": "markdown",
   "id": "ef172613-8143-4e02-ae70-c8454fb693e4",
   "metadata": {},
   "source": [
    "### Non-destructive measurement of $Z$\n",
    "\n",
    "Let $\\ket{\\psi}= \\alpha\\ket{0} + \\beta\\ket{1}$, and let $M=Z$ be the operator we want to measure. What is the expected result?\n",
    "\n",
    "|measurement outcome|probability |post-measure state of qubit 0|\n",
    "|:-----------------:|:----------:|:---------------------------:|\n",
    "|       0           |$\\lvert \\alpha \\rvert^2$|          $\\ket{0}$          |\n",
    "|       1           |$\\lvert \\beta\\rvert^2$ |          $\\ket{1}$          |\n",
    "\n",
    "\n",
    "Now, to do this measurement, we append an ancilla to the state and execute the following circuit, where the $0$th qubit is the one being measured, and the $1$st qubit is the ancilla."
   ]
  },
  {
   "cell_type": "code",
   "execution_count": 1,
   "id": "0672e346-79e1-411d-afd0-0b681676b453",
   "metadata": {},
   "outputs": [
    {
     "data": {
      "image/svg+xml": [
       "<svg xmlns=\"http://www.w3.org/2000/svg\" width=\"309\" height=\"92\"><style>\n",
       "            .labeltext { font-family: Bitstream Vera Sans Mono;\n",
       "                        font-size: 12px; font-weight: 400; fill: black;}\n",
       "            .qubitline { stroke: black; stroke-width: 2; }\n",
       "            .gatetext { font-family: Latin Modern Math, Cambria Math;\n",
       "                       font-size: 20px; font-weight: 400; fill: black;}\n",
       "            .gaterect { fill: white; stroke: black; stroke-width: 2 }\n",
       "            .control1 { fill: black; stroke: black; stroke-width: 1 }\n",
       "            .controlline { stroke: black; stroke-width: 2}\n",
       "            .tickline { stroke: black; stroke-width: 0.75; stroke-dasharray: 6,3}\n",
       "            .tp_highlight1 { fill: red; opacity: 0.2;}\n",
       "            .tp_highlight2 { fill: blue; opacity: 0.2;}\n",
       "                </style><line class=\"qubitline\" x1=\"104\" y1=\"20\" x2=\"309\" y2=\"20\"/><line class=\"qubitline\" x1=\"104\" y1=\"66\" x2=\"309\" y2=\"66\"/><text dominant-baseline=\"central\" class=\"labeltext\" x=\"0\" y=\"20\">(0, 0, 0) : 0</text><text dominant-baseline=\"central\" class=\"labeltext\" x=\"0\" y=\"66\">(0, 0, 1) : 1</text><rect class=\"gaterect\" x=\"119\" y=\"53.0\" width=\"28\" height=\"26\"/><text dominant-baseline=\"central\" text-anchor=\"middle\" class=\"gatetext\" x=\"133.0\" y=\"66.0\">H</text><circle class=\"control1\" cx=\"176.0\" cy=\"66\" r=\"3\"/><line class=\"controlline\" x1=\"176.0\" y1=\"69\" x2=\"176.0\" y2=\"7.0\"/><rect class=\"gaterect\" x=\"162\" y=\"7.0\" width=\"28\" height=\"26\"/><text dominant-baseline=\"central\" text-anchor=\"middle\" class=\"gatetext\" x=\"176.0\" y=\"20.0\">Z</text><rect class=\"gaterect\" x=\"205\" y=\"53.0\" width=\"28\" height=\"26\"/><text dominant-baseline=\"central\" text-anchor=\"middle\" class=\"gatetext\" x=\"219.0\" y=\"66.0\">H</text><rect class=\"gaterect\" x=\"248\" y=\"53.0\" width=\"46\" height=\"26\"/><text dominant-baseline=\"central\" text-anchor=\"middle\" class=\"gatetext\" x=\"271.0\" y=\"66.0\">MR</text></svg>"
      ],
      "text/plain": [
       "<IPython.core.display.SVG object>"
      ]
     },
     "metadata": {},
     "output_type": "display_data"
    }
   ],
   "source": [
    "import stac\n",
    "circ = stac.Circuit.simple(2)\n",
    "circ.append('H', 1)\n",
    "circ.append('CZ', 1, 0)\n",
    "circ.append('H', 1)\n",
    "circ.append('MR', 1)\n",
    "circ.draw()"
   ]
  },
  {
   "cell_type": "markdown",
   "id": "63140cbe-163b-434a-a408-18afea47aba5",
   "metadata": {},
   "source": [
    "Let's work our way through this circuit (ignoring any normalization factors). First, \n",
    "\\begin{align}\n",
    " \\ket{\\psi}\\ket{0} &\\stackrel{H}{\\to} \\ket{\\psi}\\ket{0} + \\ket{\\psi}\\ket{1}, \\\\\n",
    "                   &\\stackrel{CZ_{10}}{\\to} \\ket{\\psi}\\ket{0} + (Z\\ket{\\psi})\\ket{1}, \\\\\n",
    "                   &\\stackrel{H}{\\to} \\ket{\\psi}(\\ket{0}+\\ket{1}) + (Z\\ket{\\psi})(\\ket{0}-\\ket{1}),\\\\\n",
    "                   &= (\\ket{\\psi} + Z\\ket{\\psi})\\ket{0} + (\\ket{\\psi} - Z\\ket{\\psi})\\ket{1}, \\\\\n",
    "                   &= (\\alpha\\ket{0} + \\beta\\ket{1} + \\alpha\\ket{0} - \\beta\\ket{1})\\ket{0} + (\\alpha\\ket{0} + \\beta\\ket{1} - \\alpha\\ket{0} + \\beta\\ket{1})\\ket{1}, \\\\\n",
    "                   &= \\alpha\\ket{00} + \\beta\\ket{11}\n",
    "\\end{align}\n",
    "\n",
    "At this point, if we measure the ancilla, then the outcomes are\n",
    "\n",
    "|measurement outcome|probability |post-measure state of qubit 0|\n",
    "|:-----------------:|:----------:|:---------------------------:|\n",
    "|       0           |$\\lvert \\alpha\\rvert ^2$|          $\\ket{0}$          |\n",
    "|       1           |$\\lvert \\beta\\rvert^2$ |          $\\ket{1}$          |\n",
    "\n",
    "As we can see, this is exactly what we wanted.\n",
    "\n",
    "*Question:* Insert the normalization factors into the circuit above and ensure the state remains normalized."
   ]
  },
  {
   "cell_type": "markdown",
   "id": "de4cd4a0-b2fd-4b1c-93ee-fcdeb2bdf3f5",
   "metadata": {},
   "source": [
    "## Non-destructive measurements of $M$\n",
    "\n",
    "### Case 1: $M$ is a one-qubit operator\n",
    "\n",
    "In general, how does the mathematics work out. We have the circuit\n",
    "\n",
    "![Non-destructive measurement](../../images/NonDestructiveMeasurement.png)\n",
    "\n",
    "The state at the end of the circuit will be\n",
    "\\begin{align}\n",
    "(\\ket{\\psi} + M\\ket{\\psi})\\ket{0} + (\\ket{\\psi} - M\\ket{\\psi})\\ket{1}\n",
    "\\end{align}\n",
    "\n",
    "Let $M$ have an eigenbasis $\\{\\ket{e_0}, \\ket{e_1}\\}$, i.e.\n",
    "\\begin{align}\n",
    " M\\ket{e_0} &= \\ket{e_0}, \\\\\n",
    " M\\ket{e_1} &= -\\ket{e_1}. \n",
    "\\end{align}\n",
    "\n",
    "Then, if we expand $\\ket{\\psi} = \\alpha\\ket{e_0} + \\beta\\ket{e_1}$, the algebra is the same, \n",
    "\\begin{align}\n",
    "(\\ket{\\psi} + M\\ket{\\psi})\\ket{0} + (\\ket{\\psi} - M\\ket{\\psi})\\ket{1} &= (\\alpha\\ket{e_0} + \\beta\\ket{e_1} + \\alpha\\ket{e_0} - \\beta\\ket{e_1})\\ket{0} + (\\alpha\\ket{e_0} + \\beta\\ket{e_1} - \\alpha\\ket{e_0} + \\beta\\ket{e_1})\\ket{1}, \\\\\n",
    " &= \\alpha\\ket{e_00} + \\beta\\ket{e_11}.\n",
    "\\end{align}\n",
    "Now, if we measure the ancilla, then outcomes are\n",
    "\n",
    "|measurement outcome|probability |post-measure state of qubit 0  |\n",
    "|:-----------------:|:----------:|:-----------------------------:|\n",
    "|       0           |$\\lvert \\alpha\\rvert^2$|          $\\ket{e_0}$          |\n",
    "|       1           |$\\lvert \\beta\\rvert^2$ |          $\\ket{e_1}$          |\n",
    "\n",
    "In other words, measuring the ancilla in the computational basis has measured qubit 0 in the $M$ basis."
   ]
  },
  {
   "cell_type": "markdown",
   "id": "30835eba-fd60-4dc7-99c7-b68538c387a3",
   "metadata": {},
   "source": [
    "### Case 2: $M$ is a multi-qubit operator\n",
    "\n",
    "Does this process work if we want to measure a multi-qubit state, using a multi-qubit Pauli operator? As an example, let $\\ket{\\psi}$ be a three-qubit state, and let $M = M_1\\otimes M_2 \\otimes M_3$. Again, we assume that each $M_i$ has eigenvalues $\\pm 1$. Then, the circuit will be as follows.\n",
    "\n",
    "![Non-destructive measurement-multi](../../images/NonDestructiveMeasurement-multi.png)\n",
    "\n",
    "The condition on the eigenvalues of $M_i$ means that $M$ will also only have eigenvalues $\\pm 1$. Hence, the mathematics will continue to hold (check if you are unconvinced) and measuring the syndrome qubits in the computational basis will be equivalent to measuring the data qubits in $M$ basis.\n",
    "\n",
    "So, to measure, say $X_0Z_1$, we would implement the circuit below."
   ]
  },
  {
   "cell_type": "code",
   "execution_count": 2,
   "id": "d467cd44-541e-4309-a38a-ee0e21b53f2c",
   "metadata": {},
   "outputs": [
    {
     "data": {
      "image/svg+xml": [
       "<svg xmlns=\"http://www.w3.org/2000/svg\" width=\"310\" height=\"138\"><style>\n",
       "            .labeltext { font-family: Bitstream Vera Sans Mono;\n",
       "                        font-size: 12px; font-weight: 400; fill: black;}\n",
       "            .qubitline { stroke: black; stroke-width: 2; }\n",
       "            .gatetext { font-family: Latin Modern Math, Cambria Math;\n",
       "                       font-size: 20px; font-weight: 400; fill: black;}\n",
       "            .gaterect { fill: white; stroke: black; stroke-width: 2 }\n",
       "            .control1 { fill: black; stroke: black; stroke-width: 1 }\n",
       "            .controlline { stroke: black; stroke-width: 2}\n",
       "            .tp_highlight1 { fill: red; opacity: 0.2;}\n",
       "            .tp_highlight2 { fill: blue; opacity: 0.2;}\n",
       "                </style><line class=\"qubitline\" x1=\"104\" y1=\"20\" x2=\"310\" y2=\"20\"/><line class=\"qubitline\" x1=\"104\" y1=\"66\" x2=\"310\" y2=\"66\"/><line class=\"qubitline\" x1=\"104\" y1=\"112\" x2=\"310\" y2=\"112\"/><text dominant-baseline=\"central\" class=\"labeltext\" x=\"0\" y=\"20\">(0, 0, 0) : 0</text><text dominant-baseline=\"central\" class=\"labeltext\" x=\"0\" y=\"66\">(0, 0, 1) : 1</text><text dominant-baseline=\"central\" class=\"labeltext\" x=\"0\" y=\"112\">(0, 0, 2) : 2</text><rect class=\"gaterect\" x=\"112\" y=\"99.0\" width=\"28\" height=\"26\"/><text dominant-baseline=\"central\" text-anchor=\"middle\" class=\"gatetext\" x=\"126.0\" y=\"112.0\">H</text><circle class=\"control1\" cx=\"162.0\" cy=\"112\" r=\"3\"/><line class=\"controlline\" x1=\"162.0\" y1=\"115\" x2=\"162.0\" y2=\"7.0\"/><rect class=\"gaterect\" x=\"148\" y=\"7.0\" width=\"28\" height=\"26\"/><text dominant-baseline=\"central\" text-anchor=\"middle\" class=\"gatetext\" x=\"162.0\" y=\"20.0\">X</text><circle class=\"control1\" cx=\"198.0\" cy=\"112\" r=\"3\"/><line class=\"controlline\" x1=\"198.0\" y1=\"115\" x2=\"198.0\" y2=\"53.0\"/><rect class=\"gaterect\" x=\"184\" y=\"53.0\" width=\"28\" height=\"26\"/><text dominant-baseline=\"central\" text-anchor=\"middle\" class=\"gatetext\" x=\"198.0\" y=\"66.0\">Z</text><rect class=\"gaterect\" x=\"220\" y=\"99.0\" width=\"28\" height=\"26\"/><text dominant-baseline=\"central\" text-anchor=\"middle\" class=\"gatetext\" x=\"234.0\" y=\"112.0\">H</text><rect class=\"gaterect\" x=\"256\" y=\"99.0\" width=\"46\" height=\"26\"/><text dominant-baseline=\"central\" text-anchor=\"middle\" class=\"gatetext\" x=\"279.0\" y=\"112.0\">MR</text></svg>"
      ],
      "text/plain": [
       "<IPython.core.display.SVG object>"
      ]
     },
     "metadata": {},
     "output_type": "display_data"
    }
   ],
   "source": [
    "circ = stac.Circuit.simple(3)\n",
    "circ.append('H', 2)\n",
    "circ.append('CX', 2, 0)\n",
    "circ.append('CZ', 2, 1)\n",
    "circ.append('H', 2)\n",
    "circ.append('MR', 2)\n",
    "circ.draw()"
   ]
  },
  {
   "cell_type": "markdown",
   "id": "6cb741d7-b5b3-47b2-a5ec-fa801b3195b1",
   "metadata": {},
   "source": [
    "## Measurement of eigenstates\n",
    "One of the features of the measurement process described is that measuring an arbitrary operator on a state will destroy the superposition of the state (as governed by the rules of quantum mechanics). However, if the data qubits are in state $\\ket{\\psi}$. which is an eigenstate of the operator $M$, then there is no destruction.\n",
    "\n",
    "Let's examine two possibilities for the state at the end of the circuit, but before measurement.\n",
    "\\begin{align}\n",
    "\\ket{\\Phi} = (\\ket{\\psi} + M\\ket{\\psi})\\ket{0} + (\\ket{\\psi} - M\\ket{\\psi})\\ket{1},\n",
    "\\end{align}\n",
    "where $\\ket{\\psi}$ is an $n$-qubit state and $M$ is any $n$-qubit Pauli operator.\n",
    "\n",
    "### Case 1: +1 eigenstate.\n",
    "If $M\\ket{\\psi} = \\ket{\\psi}$, then\n",
    "\\begin{equation}\n",
    " \\ket{\\Phi} = \\ket{\\psi}\\ket{0}\n",
    "\\end{equation}\n",
    "Then, the outcome of the measurement will be deterministically 0 and the state of the data qubits will be unchanged.\n",
    "\n",
    "### Case 1: -1 eigenstate.\n",
    "If $M\\ket{\\psi} = -\\ket{\\psi}$, then\n",
    "\\begin{equation}\n",
    " \\ket{\\Phi} = \\ket{\\psi}\\ket{1}\n",
    "\\end{equation}\n",
    "Then, the outcome of the measurement will be deterministically 1 and the state of the data qubits will be unchanged.\n",
    "\n",
    "This analysis will be useful when we construct stabilizer quantum error-correction codes because the encoded state will always be an eigenstate of certain operators.\n"
   ]
  },
  {
   "cell_type": "markdown",
   "id": "c62ae99c-c0cb-4629-be5f-8b8c1a8e8e7e",
   "metadata": {},
   "source": [
    "## The special case of $X$ and $Z$ operators\n",
    "The circuit \n",
    "\n",
    "![Non-destructive measurement](../../images/NonDestructiveMeasurement.png)\n",
    "\n",
    "doesn't look like anything we saw before. But if $M$ is $X$ or $Z$ then it can be transformed into a different circuit.\n",
    "\n",
    "\n",
    "Recall the circuit identities:\n",
    "\n",
    "1. $X$ conjugation by $H$\n",
    "   \n",
    "   ![X-conjugation](../../images/Xconjugation.png)\n",
    "   \n",
    "2. $Z$ conjugation by $H$\n",
    "   \n",
    "   ![Z-conjugation](../../images/Zconjugation.png)\n",
    "   \n",
    "3. $CX$ conjugation by $H$\n",
    "   \n",
    "   ![CX-conjugation](../../images/CXidentity.png)\n",
    "   \n",
    "   Here, if we apply identity 1 to the first qubit, we obtain\n",
    "   \n",
    "   ![CX-conjugation](../../images/CXidentity1.png)"
   ]
  },
  {
   "cell_type": "markdown",
   "id": "9a3e39fd-3e14-4b2f-8137-89e23fc751b1",
   "metadata": {},
   "source": [
    "### Repetition code for bit-flips\n",
    "\n",
    "Recall that the syndrome circuit for the bit-flip repetition code was \n",
    "\n",
    "![repetition code syndrome](../../images/repetitioncodesyndrome.png)\n",
    "\n",
    "Using the third identity above, we can see that it transforms to\n",
    "\n",
    "![repetition code syndrome](../../images/repetitioncodesyndrome1.png)\n",
    "\n",
    "Then, we use $HH = I$ to get \n",
    "\n",
    "![repetition code syndrome](../../images/repetitioncodesyndrome2.png)\n",
    "\n",
    "Hence, we can see that in the repetition code, we are actually doing measurements of $Z \\otimes Z \\otimes I$ and $I \\otimes Z \\otimes Z$."
   ]
  },
  {
   "cell_type": "markdown",
   "id": "d4b64a49-3b63-4f20-8a1e-dc3dcdedc4e3",
   "metadata": {},
   "source": [
    "#### Task 1 (On paper)\n",
    "What operators are being measured in the repetition code for phase-flips?"
   ]
  },
  {
   "cell_type": "code",
   "execution_count": null,
   "id": "9c8c1106-b315-41d3-839e-a7a7db9c5cec",
   "metadata": {},
   "outputs": [],
   "source": []
  }
 ],
 "metadata": {
  "kernelspec": {
   "display_name": "Python 3 (ipykernel)",
   "language": "python",
   "name": "python3"
  },
  "language_info": {
   "codemirror_mode": {
    "name": "ipython",
    "version": 3
   },
   "file_extension": ".py",
   "mimetype": "text/x-python",
   "name": "python",
   "nbconvert_exporter": "python",
   "pygments_lexer": "ipython3",
   "version": "3.10.8"
  },
  "widgets": {
   "application/vnd.jupyter.widget-state+json": {
    "state": {},
    "version_major": 2,
    "version_minor": 0
   }
  }
 },
 "nbformat": 4,
 "nbformat_minor": 5
}
