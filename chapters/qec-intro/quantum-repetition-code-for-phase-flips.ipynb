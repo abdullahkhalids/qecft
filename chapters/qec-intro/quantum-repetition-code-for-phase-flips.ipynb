{
 "cells": [
  {
   "cell_type": "markdown",
   "id": "a23fe73c",
   "metadata": {
    "tags": []
   },
   "source": [
    "# Quantum repetition code for phase-flips"
   ]
  },
  {
   "cell_type": "markdown",
   "id": "b00286a1",
   "metadata": {
    "tags": [
     "remove-cell"
    ]
   },
   "source": [
    "<div style=\"width:100%;text-align:right;font-size:0.75em;opacity:0.2\">Latex macros</div>\n",
    "$ \\newcommand{\\ket}[1]{|#1\\rangle} $\n",
    "$ \\newcommand{\\bra}[1]{\\langle #1|} $\n",
    "$\\newcommand{\\iu}{{i\\mkern1mu}}$\n",
    "$ \\newcommand{\\e}{\\mathrm{e}}$\n",
    "$\\newcommand{\\bigo}{\\mathcal{O}}$\n",
    "$\\newcommand{\\set}[1]{\\{#1\\}}$\n",
    "$\\newcommand{\\oper}[1]{\\mathcal{#1}}$\n",
    "$\\newcommand{\\st}[1]{\\mathcal{#1}}$\n",
    "$\\newcommand{\\vecs}[1]{\\mathcal{#1}}$\n",
    "$\\newcommand{\\group}[1]{\\mathcal{#1}}$\n",
    "$\\newcommand{\\union}{\\hspace{0.25em}\\cup\\hspace{0.25em}}$"
   ]
  },
  {
   "cell_type": "markdown",
   "id": "b14940e8-e612-4778-ad85-7ec3e84fd514",
   "metadata": {},
   "source": [
    "The code presented in the previous notebook could only correct for $X$ errors. Now, we present a code that can only correct for $Z$ errors. In the next notebook, we will combine these codes together to correct for both $X$ and $Z$ errors and more."
   ]
  },
  {
   "cell_type": "markdown",
   "id": "9a6e65bf-4653-4808-ad55-3c9fcfb58423",
   "metadata": {},
   "source": [
    "## Setup\n",
    "Alice wants to send a one-qubit state $\\ket{\\psi}$ to Bob, but via a channel that applies the $Z$ operator to qubits with probability $p$. If the error occurs then the state is distorted as,\n",
    "\\begin{equation}\n",
    "  \\ket{\\tilde\\psi} = Z\\ket{\\psi} = Z(\\alpha\\ket{0} + \\beta\\ket{1}) = \\alpha\\ket{0} - \\beta\\ket{1}.\n",
    "\\end{equation}\n",
    "Bob cannot tell if an error has occurred, so with probability $p$ he will receive the wrong message.\n",
    "\n",
    "Alice and Bob therefore use an error-correcting procedure.\n",
    "\n",
    "![Quantum error correction model](../../images/quantumerrorcorrectionmodel.png)\n",
    "\n",
    "Here we assume that on each qubit, $Z_i$ occurs with probability $p$.\n"
   ]
  },
  {
   "cell_type": "markdown",
   "id": "47615345-a6d4-4306-a127-4409725c333a",
   "metadata": {},
   "source": [
    "### Encoding\n",
    "To protect against such type of errors, we will employ a repetition code, but with a different basis. Now,\n",
    "\\begin{align}\n",
    "  \\ket{0} \\to \\ket{\\bar{0}} = \\ket{+++}, \\\\\n",
    "  \\ket{1} \\to \\ket{\\bar{1}} = \\ket{---}.\n",
    "\\end{align}\n",
    "For this code basis, a qubit in state $\\ket{\\psi}$ is encoded as\n",
    "\\begin{equation}\n",
    "  \\ket{\\psi}\\ket{00} = (\\alpha\\ket{0} + \\beta\\ket{1})\\ket{00} \\to \\ket{\\bar\\psi} = \\alpha\\ket{+++} + \\beta\\ket{---}. \n",
    "\\end{equation}\n",
    "This is done via the following circuit."
   ]
  },
  {
   "cell_type": "code",
   "execution_count": 1,
   "id": "abad8a67-9c42-4446-8966-b63f7e8fbd8b",
   "metadata": {},
   "outputs": [
    {
     "data": {
      "image/svg+xml": [
       "<svg xmlns=\"http://www.w3.org/2000/svg\" width=\"248\" height=\"138\"><style>\n",
       "            .labeltext { font-family: Bitstream Vera Sans Mono;\n",
       "                        font-size: 12px; font-weight: 400; fill: black;}\n",
       "            .qubitline { stroke: black; stroke-width: 2; }\n",
       "            .gatetext { font-family: Latin Modern Math, Cambria Math;\n",
       "                       font-size: 20px; font-weight: 400; fill: black;}\n",
       "            .gaterect { fill: white; stroke: black; stroke-width: 2 }\n",
       "            .control1 { fill: black; stroke: black; stroke-width: 1 }\n",
       "            .controlline { stroke: black; stroke-width: 2}\n",
       "            .tickline { stroke: black; stroke-width: 0.75; stroke-dasharray: 6,3}\n",
       "            .tp_highlight1 { fill: red; opacity: 0.2;}\n",
       "            .tp_highlight2 { fill: blue; opacity: 0.2;}\n",
       "                </style><line class=\"qubitline\" x1=\"104\" y1=\"20\" x2=\"248\" y2=\"20\"/><line class=\"qubitline\" x1=\"104\" y1=\"66\" x2=\"248\" y2=\"66\"/><line class=\"qubitline\" x1=\"104\" y1=\"112\" x2=\"248\" y2=\"112\"/><text dominant-baseline=\"central\" class=\"labeltext\" x=\"0\" y=\"20\">(0, 0, 0) : 0</text><text dominant-baseline=\"central\" class=\"labeltext\" x=\"0\" y=\"66\">(0, 0, 1) : 1</text><text dominant-baseline=\"central\" class=\"labeltext\" x=\"0\" y=\"112\">(0, 0, 2) : 2</text><circle class=\"control1\" cx=\"133.0\" cy=\"20\" r=\"3\"/><line class=\"controlline\" x1=\"133.0\" y1=\"23\" x2=\"133.0\" y2=\"53.0\"/><rect class=\"gaterect\" x=\"119\" y=\"53.0\" width=\"28\" height=\"26\"/><text dominant-baseline=\"central\" text-anchor=\"middle\" class=\"gatetext\" x=\"133.0\" y=\"66.0\">X</text><circle class=\"control1\" cx=\"176.0\" cy=\"20\" r=\"3\"/><line class=\"controlline\" x1=\"176.0\" y1=\"23\" x2=\"176.0\" y2=\"99.0\"/><rect class=\"gaterect\" x=\"162\" y=\"99.0\" width=\"28\" height=\"26\"/><text dominant-baseline=\"central\" text-anchor=\"middle\" class=\"gatetext\" x=\"176.0\" y=\"112.0\">X</text><rect class=\"gaterect\" x=\"205\" y=\"7.0\" width=\"28\" height=\"26\"/><text dominant-baseline=\"central\" text-anchor=\"middle\" class=\"gatetext\" x=\"219.0\" y=\"20.0\">H</text><rect class=\"gaterect\" x=\"205\" y=\"53.0\" width=\"28\" height=\"26\"/><text dominant-baseline=\"central\" text-anchor=\"middle\" class=\"gatetext\" x=\"219.0\" y=\"66.0\">H</text><rect class=\"gaterect\" x=\"205\" y=\"99.0\" width=\"28\" height=\"26\"/><text dominant-baseline=\"central\" text-anchor=\"middle\" class=\"gatetext\" x=\"219.0\" y=\"112.0\">H</text></svg>"
      ],
      "text/plain": [
       "<IPython.core.display.SVG object>"
      ]
     },
     "metadata": {},
     "output_type": "display_data"
    }
   ],
   "source": [
    "import stac\n",
    "enc_circ = stac.Circuit.simple(3)\n",
    "enc_circ.append('CX', 0, 1)\n",
    "enc_circ.append('CX', 0, 2)\n",
    "for i in range(3):\n",
    "    enc_circ.append('H', i)\n",
    "enc_circ.draw()"
   ]
  },
  {
   "cell_type": "markdown",
   "id": "19754c18-ebb8-4e2b-a794-9ad457f3f57c",
   "metadata": {},
   "source": [
    "#### Task 1 (On paper)\n",
    "Determine logical gate operations $\\bar{X}$ and $\\bar{Z}$ for the three-qubit repetition code for phase-flips. These are operations that act on the logical basis $\\set{\\ket{\\bar{0}}, \\ket{\\bar{1}}}$, in the normal way, i.e.\n",
    "  \\begin{align}\n",
    "    \\bar{X}\\ket{\\bar{0}} &= \\ket{\\bar{1}}, \\quad \\bar{X}\\ket{\\bar{1}} = \\ket{\\bar{0}}, \\\\\n",
    "    \\bar{Z}\\ket{\\bar{0}} &= \\ket{\\bar{0}}, \\quad \\bar{Z}\\ket{\\bar{1}} = -\\ket{\\bar{1}}.\n",
    "  \\end{align}\n",
    "  They can be constructed by some combination of operations on the three physical qubits. You will discover that there are possibly multiple ways of doing so."
   ]
  },
  {
   "cell_type": "markdown",
   "id": "3741cf9b-1b0a-45be-98c0-8a44cb5c4702",
   "metadata": {},
   "source": [
    "### Errors\n",
    "The possible errors on the encoded state are given as follows.\n",
    "\n",
    "| Error       | Probability |\n",
    "|:-----------:|:-----------:|\n",
    "| $I$         | $(1-p)^3$   |\n",
    "| $Z_0$       | $p(1-p)^2$  |\n",
    "| $Z_1$       | $p(1-p)^2$  |\n",
    "| $Z_2$       | $p(1-p)^2$  |\n",
    "| $Z_0Z_1$    | $p^2(1-p)$  |\n",
    "| $Z_0Z_2$    | $p^2(1-p)$  |\n",
    "| $Z_1Z_2$    | $p^2(1-p)$  |\n",
    "| $Z_0Z_1Z_2$ | $p^3$       |"
   ]
  },
  {
   "cell_type": "markdown",
   "id": "df379787-d67a-4218-bab2-aa973d4f5bc6",
   "metadata": {},
   "source": [
    "#### Task 2 (On paper)\n",
    "Determine the impact of each error on the input basis states.\n",
    "\n",
    "Let input state be $\\ket{+++}$\n",
    "\n",
    "|  Error       | Output state | \n",
    "|:------------:|:------------:|\n",
    "|  $I$         | $\\ket{+++}$  |\n",
    "|  $Z_0$       | $\\ket{-++}$  |\n",
    "|  $Z_1$       | $?$          |\n",
    "|  $Z_2$       | $?$          |\n",
    "|  $Z_0Z_1$    | $?$          |\n",
    "|  $Z_0Z_2$    | $?$          |\n",
    "|  $Z_1Z_2$    | $?$          |\n",
    "|  $Z_0Z_1Z_2$ | $?$          |\n",
    "\n",
    "Let input state be $\\ket{---}$\n",
    "\n",
    "|  Error       | Output state | \n",
    "|:------------:|:------------:|\n",
    "|  $I$         | $\\ket{---}$  |\n",
    "|  $Z_0$       | $\\ket{+--}$  |\n",
    "|  $Z_1$       | $?$          |\n",
    "|  $Z_2$       | $?$          |\n",
    "|  $Z_0Z_1$    | $?$          |\n",
    "|  $Z_0Z_2$    | $?$          |\n",
    "|  $Z_1Z_2$    | $?$          |\n",
    "|  $Z_0Z_1Z_2$ | $?$          |\n",
    "\n",
    "Do different errors result in the same output state?"
   ]
  },
  {
   "cell_type": "markdown",
   "id": "f1ec1f51-ea21-4769-9073-e0abe383732f",
   "metadata": {},
   "source": [
    "As before, we will assume that $p$ is small, so we will only attempt to correct the errors $\\set{I,Z_0,Z_1,Z_2}$. The effect of the $Z$ errors is to flip the state between plus and minus. So, for instance,\n",
    "\\begin{equation}\n",
    "  Z_0\\ket{\\bar{\\psi}} = \\alpha Z_0\\ket{+++} + \\beta Z_0\\ket{---} = \\alpha\\ket{-++} + \\beta\\ket{+--}.\n",
    "\\end{equation}"
   ]
  },
  {
   "cell_type": "markdown",
   "id": "f27e06dc-5f93-4d61-b745-968b4ef38dac",
   "metadata": {},
   "source": [
    "### Decoding\n",
    "The error detection strategy is the same as before. Bob employs a circuit that compares the value of two pairs of qubits, but in the plus/minus basis. This is accomplished using the following circuit."
   ]
  },
  {
   "cell_type": "code",
   "execution_count": 2,
   "id": "8f6b9335-05ce-424e-afd7-5207067be833",
   "metadata": {},
   "outputs": [
    {
     "data": {
      "image/svg+xml": [
       "<svg xmlns=\"http://www.w3.org/2000/svg\" width=\"678\" height=\"230\"><style>\n",
       "            .labeltext { font-family: Bitstream Vera Sans Mono;\n",
       "                        font-size: 12px; font-weight: 400; fill: black;}\n",
       "            .qubitline { stroke: black; stroke-width: 2; }\n",
       "            .gatetext { font-family: Latin Modern Math, Cambria Math;\n",
       "                       font-size: 20px; font-weight: 400; fill: black;}\n",
       "            .gaterect { fill: white; stroke: black; stroke-width: 2 }\n",
       "            .control1 { fill: black; stroke: black; stroke-width: 1 }\n",
       "            .controlline { stroke: black; stroke-width: 2}\n",
       "            .tickline { stroke: black; stroke-width: 0.75; stroke-dasharray: 6,3}\n",
       "            .tp_highlight1 { fill: red; opacity: 0.2;}\n",
       "            .tp_highlight2 { fill: blue; opacity: 0.2;}\n",
       "                </style><line class=\"qubitline\" x1=\"104\" y1=\"20\" x2=\"678\" y2=\"20\"/><line class=\"qubitline\" x1=\"104\" y1=\"66\" x2=\"678\" y2=\"66\"/><line class=\"qubitline\" x1=\"104\" y1=\"112\" x2=\"678\" y2=\"112\"/><line class=\"qubitline\" x1=\"104\" y1=\"158\" x2=\"678\" y2=\"158\"/><line class=\"qubitline\" x1=\"104\" y1=\"204\" x2=\"678\" y2=\"204\"/><text dominant-baseline=\"central\" class=\"labeltext\" x=\"0\" y=\"20\">(0, 0, 0) : 0</text><text dominant-baseline=\"central\" class=\"labeltext\" x=\"0\" y=\"66\">(0, 0, 1) : 1</text><text dominant-baseline=\"central\" class=\"labeltext\" x=\"0\" y=\"112\">(0, 0, 2) : 2</text><text dominant-baseline=\"central\" class=\"labeltext\" x=\"0\" y=\"158\">(0, 0, 3) : 3</text><text dominant-baseline=\"central\" class=\"labeltext\" x=\"0\" y=\"204\">(0, 0, 4) : 4</text><rect class=\"gaterect\" x=\"119\" y=\"7.0\" width=\"28\" height=\"26\"/><text dominant-baseline=\"central\" text-anchor=\"middle\" class=\"gatetext\" x=\"133.0\" y=\"20.0\">H</text><circle class=\"control1\" cx=\"176.0\" cy=\"20\" r=\"3\"/><line class=\"controlline\" x1=\"176.0\" y1=\"23\" x2=\"176.0\" y2=\"145.0\"/><rect class=\"gaterect\" x=\"162\" y=\"145.0\" width=\"28\" height=\"26\"/><text dominant-baseline=\"central\" text-anchor=\"middle\" class=\"gatetext\" x=\"176.0\" y=\"158.0\">X</text><rect class=\"gaterect\" x=\"205\" y=\"7.0\" width=\"28\" height=\"26\"/><text dominant-baseline=\"central\" text-anchor=\"middle\" class=\"gatetext\" x=\"219.0\" y=\"20.0\">H</text><line class=\"tickline\" x1=\"240.5\" y1=\"0\" x2=\"240.5\" y2=\"224\"/><rect class=\"gaterect\" x=\"248\" y=\"53.0\" width=\"28\" height=\"26\"/><text dominant-baseline=\"central\" text-anchor=\"middle\" class=\"gatetext\" x=\"262.0\" y=\"66.0\">H</text><circle class=\"control1\" cx=\"305.0\" cy=\"66\" r=\"3\"/><line class=\"controlline\" x1=\"305.0\" y1=\"69\" x2=\"305.0\" y2=\"145.0\"/><rect class=\"gaterect\" x=\"291\" y=\"145.0\" width=\"28\" height=\"26\"/><text dominant-baseline=\"central\" text-anchor=\"middle\" class=\"gatetext\" x=\"305.0\" y=\"158.0\">X</text><rect class=\"gaterect\" x=\"334\" y=\"53.0\" width=\"28\" height=\"26\"/><text dominant-baseline=\"central\" text-anchor=\"middle\" class=\"gatetext\" x=\"348.0\" y=\"66.0\">H</text><line class=\"tickline\" x1=\"369.5\" y1=\"0\" x2=\"369.5\" y2=\"224\"/><rect class=\"gaterect\" x=\"377\" y=\"53.0\" width=\"28\" height=\"26\"/><text dominant-baseline=\"central\" text-anchor=\"middle\" class=\"gatetext\" x=\"391.0\" y=\"66.0\">H</text><circle class=\"control1\" cx=\"434.0\" cy=\"66\" r=\"3\"/><line class=\"controlline\" x1=\"434.0\" y1=\"69\" x2=\"434.0\" y2=\"191.0\"/><rect class=\"gaterect\" x=\"420\" y=\"191.0\" width=\"28\" height=\"26\"/><text dominant-baseline=\"central\" text-anchor=\"middle\" class=\"gatetext\" x=\"434.0\" y=\"204.0\">X</text><rect class=\"gaterect\" x=\"463\" y=\"53.0\" width=\"28\" height=\"26\"/><text dominant-baseline=\"central\" text-anchor=\"middle\" class=\"gatetext\" x=\"477.0\" y=\"66.0\">H</text><line class=\"tickline\" x1=\"498.5\" y1=\"0\" x2=\"498.5\" y2=\"224\"/><rect class=\"gaterect\" x=\"506\" y=\"99.0\" width=\"28\" height=\"26\"/><text dominant-baseline=\"central\" text-anchor=\"middle\" class=\"gatetext\" x=\"520.0\" y=\"112.0\">H</text><circle class=\"control1\" cx=\"563.0\" cy=\"112\" r=\"3\"/><line class=\"controlline\" x1=\"563.0\" y1=\"115\" x2=\"563.0\" y2=\"191.0\"/><rect class=\"gaterect\" x=\"549\" y=\"191.0\" width=\"28\" height=\"26\"/><text dominant-baseline=\"central\" text-anchor=\"middle\" class=\"gatetext\" x=\"563.0\" y=\"204.0\">X</text><rect class=\"gaterect\" x=\"592\" y=\"99.0\" width=\"28\" height=\"26\"/><text dominant-baseline=\"central\" text-anchor=\"middle\" class=\"gatetext\" x=\"606.0\" y=\"112.0\">H</text><line class=\"tickline\" x1=\"627.5\" y1=\"0\" x2=\"627.5\" y2=\"224\"/><rect class=\"gaterect\" x=\"635\" y=\"145.0\" width=\"28\" height=\"26\"/><text dominant-baseline=\"central\" text-anchor=\"middle\" class=\"gatetext\" x=\"649.0\" y=\"158.0\">M</text><rect class=\"gaterect\" x=\"635\" y=\"191.0\" width=\"28\" height=\"26\"/><text dominant-baseline=\"central\" text-anchor=\"middle\" class=\"gatetext\" x=\"649.0\" y=\"204.0\">M</text></svg>"
      ],
      "text/plain": [
       "<IPython.core.display.SVG object>"
      ]
     },
     "metadata": {},
     "output_type": "display_data"
    }
   ],
   "source": [
    "synd_circ_expanded = stac.Circuit.simple(5)\n",
    "synd_circ_expanded.append('H', 0)\n",
    "synd_circ_expanded.append('CX', 0, 3)\n",
    "synd_circ_expanded.append('H', 0)\n",
    "synd_circ_expanded.append('TICK')\n",
    "\n",
    "synd_circ_expanded.append('H', 1)\n",
    "synd_circ_expanded.append('CX', 1, 3)\n",
    "synd_circ_expanded.append('H', 1)\n",
    "synd_circ_expanded.append('TICK')\n",
    "\n",
    "\n",
    "synd_circ_expanded.append('H', 1)\n",
    "synd_circ_expanded.append('CX', 1, 4)\n",
    "synd_circ_expanded.append('H', 1)\n",
    "synd_circ_expanded.append('TICK')\n",
    "\n",
    "\n",
    "synd_circ_expanded.append('H', 2)\n",
    "synd_circ_expanded.append('CX', 2, 4)\n",
    "synd_circ_expanded.append('H', 2)\n",
    "\n",
    "synd_circ_expanded.append('TICK')\n",
    "synd_circ_expanded.append('M', 3)\n",
    "synd_circ_expanded.append('M', 4)\n",
    "\n",
    "synd_circ_expanded.draw()"
   ]
  },
  {
   "cell_type": "markdown",
   "id": "ccfc8b30-d550-425a-9c62-5c9c0d558e1a",
   "metadata": {},
   "source": [
    "Here in each block, first we use the Hadamard gate to switch to the computational basis, then transfer the value of the qubit to the ancilla qubit using the $CX$ gate. Finally, we convert back to the plus/minus basis using the Hadamard gate. We can simplify this circuit as follows, using the fact that $H^2 = I$."
   ]
  },
  {
   "cell_type": "code",
   "execution_count": 3,
   "id": "1ee8ee1f-a090-49b4-a7a6-cfce74ceea07",
   "metadata": {},
   "outputs": [
    {
     "data": {
      "image/svg+xml": [
       "<svg xmlns=\"http://www.w3.org/2000/svg\" width=\"420\" height=\"230\"><style>\n",
       "            .labeltext { font-family: Bitstream Vera Sans Mono;\n",
       "                        font-size: 12px; font-weight: 400; fill: black;}\n",
       "            .qubitline { stroke: black; stroke-width: 2; }\n",
       "            .gatetext { font-family: Latin Modern Math, Cambria Math;\n",
       "                       font-size: 20px; font-weight: 400; fill: black;}\n",
       "            .gaterect { fill: white; stroke: black; stroke-width: 2 }\n",
       "            .control1 { fill: black; stroke: black; stroke-width: 1 }\n",
       "            .controlline { stroke: black; stroke-width: 2}\n",
       "            .tickline { stroke: black; stroke-width: 0.75; stroke-dasharray: 6,3}\n",
       "            .tp_highlight1 { fill: red; opacity: 0.2;}\n",
       "            .tp_highlight2 { fill: blue; opacity: 0.2;}\n",
       "                </style><line class=\"qubitline\" x1=\"104\" y1=\"20\" x2=\"420\" y2=\"20\"/><line class=\"qubitline\" x1=\"104\" y1=\"66\" x2=\"420\" y2=\"66\"/><line class=\"qubitline\" x1=\"104\" y1=\"112\" x2=\"420\" y2=\"112\"/><line class=\"qubitline\" x1=\"104\" y1=\"158\" x2=\"420\" y2=\"158\"/><line class=\"qubitline\" x1=\"104\" y1=\"204\" x2=\"420\" y2=\"204\"/><text dominant-baseline=\"central\" class=\"labeltext\" x=\"0\" y=\"20\">(0, 0, 0) : 0</text><text dominant-baseline=\"central\" class=\"labeltext\" x=\"0\" y=\"66\">(0, 0, 1) : 1</text><text dominant-baseline=\"central\" class=\"labeltext\" x=\"0\" y=\"112\">(0, 0, 2) : 2</text><text dominant-baseline=\"central\" class=\"labeltext\" x=\"0\" y=\"158\">(0, 0, 3) : 3</text><text dominant-baseline=\"central\" class=\"labeltext\" x=\"0\" y=\"204\">(0, 0, 4) : 4</text><rect class=\"gaterect\" x=\"119\" y=\"7.0\" width=\"28\" height=\"26\"/><text dominant-baseline=\"central\" text-anchor=\"middle\" class=\"gatetext\" x=\"133.0\" y=\"20.0\">H</text><rect class=\"gaterect\" x=\"119\" y=\"53.0\" width=\"28\" height=\"26\"/><text dominant-baseline=\"central\" text-anchor=\"middle\" class=\"gatetext\" x=\"133.0\" y=\"66.0\">H</text><rect class=\"gaterect\" x=\"119\" y=\"99.0\" width=\"28\" height=\"26\"/><text dominant-baseline=\"central\" text-anchor=\"middle\" class=\"gatetext\" x=\"133.0\" y=\"112.0\">H</text><line class=\"tickline\" x1=\"154.5\" y1=\"0\" x2=\"154.5\" y2=\"224\"/><circle class=\"control1\" cx=\"176.0\" cy=\"20\" r=\"3\"/><line class=\"controlline\" x1=\"176.0\" y1=\"23\" x2=\"176.0\" y2=\"145.0\"/><rect class=\"gaterect\" x=\"162\" y=\"145.0\" width=\"28\" height=\"26\"/><text dominant-baseline=\"central\" text-anchor=\"middle\" class=\"gatetext\" x=\"176.0\" y=\"158.0\">X</text><circle class=\"control1\" cx=\"219.0\" cy=\"66\" r=\"3\"/><line class=\"controlline\" x1=\"219.0\" y1=\"69\" x2=\"219.0\" y2=\"145.0\"/><rect class=\"gaterect\" x=\"205\" y=\"145.0\" width=\"28\" height=\"26\"/><text dominant-baseline=\"central\" text-anchor=\"middle\" class=\"gatetext\" x=\"219.0\" y=\"158.0\">X</text><circle class=\"control1\" cx=\"262.0\" cy=\"66\" r=\"3\"/><line class=\"controlline\" x1=\"262.0\" y1=\"69\" x2=\"262.0\" y2=\"191.0\"/><rect class=\"gaterect\" x=\"248\" y=\"191.0\" width=\"28\" height=\"26\"/><text dominant-baseline=\"central\" text-anchor=\"middle\" class=\"gatetext\" x=\"262.0\" y=\"204.0\">X</text><circle class=\"control1\" cx=\"305.0\" cy=\"112\" r=\"3\"/><line class=\"controlline\" x1=\"305.0\" y1=\"115\" x2=\"305.0\" y2=\"191.0\"/><rect class=\"gaterect\" x=\"291\" y=\"191.0\" width=\"28\" height=\"26\"/><text dominant-baseline=\"central\" text-anchor=\"middle\" class=\"gatetext\" x=\"305.0\" y=\"204.0\">X</text><line class=\"tickline\" x1=\"326.5\" y1=\"0\" x2=\"326.5\" y2=\"224\"/><rect class=\"gaterect\" x=\"334\" y=\"7.0\" width=\"28\" height=\"26\"/><text dominant-baseline=\"central\" text-anchor=\"middle\" class=\"gatetext\" x=\"348.0\" y=\"20.0\">H</text><rect class=\"gaterect\" x=\"334\" y=\"53.0\" width=\"28\" height=\"26\"/><text dominant-baseline=\"central\" text-anchor=\"middle\" class=\"gatetext\" x=\"348.0\" y=\"66.0\">H</text><rect class=\"gaterect\" x=\"334\" y=\"99.0\" width=\"28\" height=\"26\"/><text dominant-baseline=\"central\" text-anchor=\"middle\" class=\"gatetext\" x=\"348.0\" y=\"112.0\">H</text><line class=\"tickline\" x1=\"369.5\" y1=\"0\" x2=\"369.5\" y2=\"224\"/><rect class=\"gaterect\" x=\"377\" y=\"145.0\" width=\"28\" height=\"26\"/><text dominant-baseline=\"central\" text-anchor=\"middle\" class=\"gatetext\" x=\"391.0\" y=\"158.0\">M</text><rect class=\"gaterect\" x=\"377\" y=\"191.0\" width=\"28\" height=\"26\"/><text dominant-baseline=\"central\" text-anchor=\"middle\" class=\"gatetext\" x=\"391.0\" y=\"204.0\">M</text></svg>"
      ],
      "text/plain": [
       "<IPython.core.display.SVG object>"
      ]
     },
     "metadata": {},
     "output_type": "display_data"
    }
   ],
   "source": [
    "synd_circ = stac.Circuit.simple(5)\n",
    "for i in range(3):\n",
    "    synd_circ.append('H', i)\n",
    "synd_circ.append('TICK')\n",
    "synd_circ.append('CX', 0, 3)\n",
    "synd_circ.append('CX', 1, 3)\n",
    "synd_circ.append('CX', 1, 4)\n",
    "synd_circ.append('CX', 2, 4)\n",
    "synd_circ.append('TICK')\n",
    "\n",
    "for i in range(3):\n",
    "    synd_circ.append('H', i)\n",
    "synd_circ.append('TICK')\n",
    "\n",
    "synd_circ.append('M', 3)\n",
    "synd_circ.append('M', 4)\n",
    "synd_circ.draw()"
   ]
  },
  {
   "cell_type": "markdown",
   "id": "0f9db541-650e-4e7c-9c74-9616c013d948",
   "metadata": {},
   "source": [
    "To determine the syndromes, we can do the following"
   ]
  },
  {
   "cell_type": "code",
   "execution_count": 4,
   "id": "c0c249ec-e2ec-4df8-9087-cb0074b6f74c",
   "metadata": {},
   "outputs": [
    {
     "data": {
      "image/svg+xml": [
       "<svg xmlns=\"http://www.w3.org/2000/svg\" width=\"592\" height=\"230\"><style>\n",
       "            .labeltext { font-family: Bitstream Vera Sans Mono;\n",
       "                        font-size: 12px; font-weight: 400; fill: black;}\n",
       "            .qubitline { stroke: black; stroke-width: 2; }\n",
       "            .gatetext { font-family: Latin Modern Math, Cambria Math;\n",
       "                       font-size: 20px; font-weight: 400; fill: black;}\n",
       "            .gaterect { fill: white; stroke: black; stroke-width: 2 }\n",
       "            .control1 { fill: black; stroke: black; stroke-width: 1 }\n",
       "            .controlline { stroke: black; stroke-width: 2}\n",
       "            .tickline { stroke: black; stroke-width: 0.75; stroke-dasharray: 6,3}\n",
       "            .tp_highlight1 { fill: red; opacity: 0.2;}\n",
       "            .tp_highlight2 { fill: blue; opacity: 0.2;}\n",
       "                </style><line class=\"qubitline\" x1=\"104\" y1=\"20\" x2=\"592\" y2=\"20\"/><line class=\"qubitline\" x1=\"104\" y1=\"66\" x2=\"592\" y2=\"66\"/><line class=\"qubitline\" x1=\"104\" y1=\"112\" x2=\"592\" y2=\"112\"/><line class=\"qubitline\" x1=\"104\" y1=\"158\" x2=\"592\" y2=\"158\"/><line class=\"qubitline\" x1=\"104\" y1=\"204\" x2=\"592\" y2=\"204\"/><text dominant-baseline=\"central\" class=\"labeltext\" x=\"0\" y=\"20\">(0, 0, 0) : 0</text><text dominant-baseline=\"central\" class=\"labeltext\" x=\"0\" y=\"66\">(0, 0, 1) : 1</text><text dominant-baseline=\"central\" class=\"labeltext\" x=\"0\" y=\"112\">(0, 0, 2) : 2</text><text dominant-baseline=\"central\" class=\"labeltext\" x=\"0\" y=\"158\">(0, 0, 3) : 3</text><text dominant-baseline=\"central\" class=\"labeltext\" x=\"0\" y=\"204\">(0, 0, 4) : 4</text><circle class=\"control1\" cx=\"133.0\" cy=\"20\" r=\"3\"/><line class=\"controlline\" x1=\"133.0\" y1=\"23\" x2=\"133.0\" y2=\"53.0\"/><rect class=\"gaterect\" x=\"119\" y=\"53.0\" width=\"28\" height=\"26\"/><text dominant-baseline=\"central\" text-anchor=\"middle\" class=\"gatetext\" x=\"133.0\" y=\"66.0\">X</text><circle class=\"control1\" cx=\"176.0\" cy=\"20\" r=\"3\"/><line class=\"controlline\" x1=\"176.0\" y1=\"23\" x2=\"176.0\" y2=\"99.0\"/><rect class=\"gaterect\" x=\"162\" y=\"99.0\" width=\"28\" height=\"26\"/><text dominant-baseline=\"central\" text-anchor=\"middle\" class=\"gatetext\" x=\"176.0\" y=\"112.0\">X</text><line class=\"tickline\" x1=\"197.5\" y1=\"0\" x2=\"197.5\" y2=\"224\"/><rect class=\"gaterect\" x=\"205\" y=\"7.0\" width=\"28\" height=\"26\"/><text dominant-baseline=\"central\" text-anchor=\"middle\" class=\"gatetext\" x=\"219.0\" y=\"20.0\">H</text><rect class=\"gaterect\" x=\"205\" y=\"53.0\" width=\"28\" height=\"26\"/><text dominant-baseline=\"central\" text-anchor=\"middle\" class=\"gatetext\" x=\"219.0\" y=\"66.0\">H</text><rect class=\"gaterect\" x=\"205\" y=\"99.0\" width=\"28\" height=\"26\"/><text dominant-baseline=\"central\" text-anchor=\"middle\" class=\"gatetext\" x=\"219.0\" y=\"112.0\">H</text><line class=\"tickline\" x1=\"240.5\" y1=\"0\" x2=\"240.5\" y2=\"224\"/><rect class=\"gaterect\" x=\"248\" y=\"7.0\" width=\"28\" height=\"26\"/><text dominant-baseline=\"central\" text-anchor=\"middle\" class=\"gatetext\" x=\"262.0\" y=\"20.0\">Z</text><line class=\"tickline\" x1=\"283.5\" y1=\"0\" x2=\"283.5\" y2=\"224\"/><rect class=\"gaterect\" x=\"291\" y=\"7.0\" width=\"28\" height=\"26\"/><text dominant-baseline=\"central\" text-anchor=\"middle\" class=\"gatetext\" x=\"305.0\" y=\"20.0\">H</text><rect class=\"gaterect\" x=\"291\" y=\"53.0\" width=\"28\" height=\"26\"/><text dominant-baseline=\"central\" text-anchor=\"middle\" class=\"gatetext\" x=\"305.0\" y=\"66.0\">H</text><rect class=\"gaterect\" x=\"291\" y=\"99.0\" width=\"28\" height=\"26\"/><text dominant-baseline=\"central\" text-anchor=\"middle\" class=\"gatetext\" x=\"305.0\" y=\"112.0\">H</text><line class=\"tickline\" x1=\"326.5\" y1=\"0\" x2=\"326.5\" y2=\"224\"/><circle class=\"control1\" cx=\"348.0\" cy=\"20\" r=\"3\"/><line class=\"controlline\" x1=\"348.0\" y1=\"23\" x2=\"348.0\" y2=\"145.0\"/><rect class=\"gaterect\" x=\"334\" y=\"145.0\" width=\"28\" height=\"26\"/><text dominant-baseline=\"central\" text-anchor=\"middle\" class=\"gatetext\" x=\"348.0\" y=\"158.0\">X</text><circle class=\"control1\" cx=\"391.0\" cy=\"66\" r=\"3\"/><line class=\"controlline\" x1=\"391.0\" y1=\"69\" x2=\"391.0\" y2=\"145.0\"/><rect class=\"gaterect\" x=\"377\" y=\"145.0\" width=\"28\" height=\"26\"/><text dominant-baseline=\"central\" text-anchor=\"middle\" class=\"gatetext\" x=\"391.0\" y=\"158.0\">X</text><circle class=\"control1\" cx=\"434.0\" cy=\"66\" r=\"3\"/><line class=\"controlline\" x1=\"434.0\" y1=\"69\" x2=\"434.0\" y2=\"191.0\"/><rect class=\"gaterect\" x=\"420\" y=\"191.0\" width=\"28\" height=\"26\"/><text dominant-baseline=\"central\" text-anchor=\"middle\" class=\"gatetext\" x=\"434.0\" y=\"204.0\">X</text><circle class=\"control1\" cx=\"477.0\" cy=\"112\" r=\"3\"/><line class=\"controlline\" x1=\"477.0\" y1=\"115\" x2=\"477.0\" y2=\"191.0\"/><rect class=\"gaterect\" x=\"463\" y=\"191.0\" width=\"28\" height=\"26\"/><text dominant-baseline=\"central\" text-anchor=\"middle\" class=\"gatetext\" x=\"477.0\" y=\"204.0\">X</text><line class=\"tickline\" x1=\"498.5\" y1=\"0\" x2=\"498.5\" y2=\"224\"/><rect class=\"gaterect\" x=\"506\" y=\"7.0\" width=\"28\" height=\"26\"/><text dominant-baseline=\"central\" text-anchor=\"middle\" class=\"gatetext\" x=\"520.0\" y=\"20.0\">H</text><rect class=\"gaterect\" x=\"506\" y=\"53.0\" width=\"28\" height=\"26\"/><text dominant-baseline=\"central\" text-anchor=\"middle\" class=\"gatetext\" x=\"520.0\" y=\"66.0\">H</text><rect class=\"gaterect\" x=\"506\" y=\"99.0\" width=\"28\" height=\"26\"/><text dominant-baseline=\"central\" text-anchor=\"middle\" class=\"gatetext\" x=\"520.0\" y=\"112.0\">H</text><line class=\"tickline\" x1=\"541.5\" y1=\"0\" x2=\"541.5\" y2=\"224\"/><rect class=\"gaterect\" x=\"549\" y=\"145.0\" width=\"28\" height=\"26\"/><text dominant-baseline=\"central\" text-anchor=\"middle\" class=\"gatetext\" x=\"563.0\" y=\"158.0\">M</text><rect class=\"gaterect\" x=\"549\" y=\"191.0\" width=\"28\" height=\"26\"/><text dominant-baseline=\"central\" text-anchor=\"middle\" class=\"gatetext\" x=\"563.0\" y=\"204.0\">M</text></svg>"
      ],
      "text/plain": [
       "<IPython.core.display.SVG object>"
      ]
     },
     "metadata": {},
     "output_type": "display_data"
    },
    {
     "name": "stdout",
     "output_type": "stream",
     "text": [
      "[1 0]\n",
      "[1 0]\n",
      "[1 0]\n",
      "[1 0]\n",
      "[1 0]\n",
      "[1 0]\n",
      "[1 0]\n",
      "[1 0]\n",
      "[1 0]\n",
      "[1 0]\n"
     ]
    }
   ],
   "source": [
    "circ = stac.Circuit.simple(5)\n",
    "# encode the 0 state\n",
    "circ += enc_circ\n",
    "\n",
    "# # add an error\n",
    "circ.append('TICK')\n",
    "circ.append('Z', 0)\n",
    "circ.append('TICK')\n",
    "\n",
    "# # do a syndrome measurement\n",
    "circ += synd_circ\n",
    "\n",
    "# draw to make sure you we understand what is happening\n",
    "circ.draw()\n",
    "\n",
    "# sample the output 10 times\n",
    "circ.sample(10)"
   ]
  },
  {
   "cell_type": "markdown",
   "id": "054c0306-e483-4e2b-adf9-fd5746e2cc3e",
   "metadata": {},
   "source": [
    "#### Task 3\n",
    "Fill the following table\n",
    "\n",
    "| Syndrome | Inferred error |\n",
    "|:--------:|:--------------:|\n",
    "| $00$     | $I$            |\n",
    "| $01$     |                |\n",
    "| $10$     |                |\n",
    "| $11$     |                |"
   ]
  },
  {
   "cell_type": "markdown",
   "id": "b87ae8fe-2ffb-4cc1-a2c9-ed38d1f26c93",
   "metadata": {},
   "source": [
    "In this code, if Bob infers that errors $Z_i$ occurs, than he applies $Z_i$ to the corrupted codeword to fix it."
   ]
  },
  {
   "cell_type": "markdown",
   "id": "5fdbd9c1-0641-45f5-b46a-64802848c11b",
   "metadata": {},
   "source": [
    "### Bit-flip errors\n",
    "We won't belabor the point that this code cannot fix bit-flip errors. "
   ]
  },
  {
   "cell_type": "code",
   "execution_count": null,
   "id": "0288d01e-f1ba-41cf-9d44-06a651320e47",
   "metadata": {},
   "outputs": [],
   "source": []
  }
 ],
 "metadata": {
  "kernelspec": {
   "display_name": "Python 3 (ipykernel)",
   "language": "python",
   "name": "python3"
  },
  "language_info": {
   "codemirror_mode": {
    "name": "ipython",
    "version": 3
   },
   "file_extension": ".py",
   "mimetype": "text/x-python",
   "name": "python",
   "nbconvert_exporter": "python",
   "pygments_lexer": "ipython3",
   "version": "3.10.12"
  },
  "widgets": {
   "application/vnd.jupyter.widget-state+json": {
    "state": {},
    "version_major": 2,
    "version_minor": 0
   }
  }
 },
 "nbformat": 4,
 "nbformat_minor": 5
}
