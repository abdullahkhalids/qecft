{
 "cells": [
  {
   "cell_type": "markdown",
   "id": "a23fe73c",
   "metadata": {
    "tags": []
   },
   "source": [
    "# Distance of a code"
   ]
  },
  {
   "cell_type": "markdown",
   "id": "b00286a1",
   "metadata": {
    "tags": [
     "remove-cell"
    ]
   },
   "source": [
    "<div style=\"width:100%;text-align:right;font-size:0.75em;opacity:0.2\">Latex macros</div>\n",
    "$\\newcommand{\\vec}[1]{\\mathbf{#1}}$\n",
    "$ \\newcommand{\\ket}[1]{|#1\\rangle} $\n",
    "$ \\newcommand{\\bra}[1]{\\langle #1|} $\n",
    "$\\newcommand{\\iu}{{i\\mkern1mu}}$\n",
    "$ \\newcommand{\\e}{\\mathrm{e}}$\n",
    "$\\newcommand{\\bigo}{\\mathcal{O}}$\n",
    "$\\newcommand{\\set}[1]{\\{#1\\}}$\n",
    "$\\newcommand{\\oper}[1]{\\mathcal{#1}}$\n",
    "$\\newcommand{\\st}[1]{\\mathcal{#1}}$\n",
    "$\\newcommand{\\vecs}[1]{\\mathcal{#1}}$\n",
    "$\\newcommand{\\group}[1]{\\mathcal{#1}}$\n",
    "$\\newcommand{\\union}{\\hspace{0.25em}\\cup\\hspace{0.25em}}$"
   ]
  },
  {
   "cell_type": "markdown",
   "id": "06aac00c-3a56-428e-b72f-eb028e9ceb53",
   "metadata": {},
   "source": [
    "A crucial quantity of interest when discussing codes, is their distance. The distance determines the number of errors that can be corrected. Whenever an error occurs on a codeword $\\vec{c}$, it creates a corrupted codeword $\\vec{\\tilde{c}}$ that is at some 'distance' away from the $\\vec{c}$. If the distance is small, then it is still possible to correct the error, but if the distance is larger than some value, than the error cannot be corrected. The threshold value is called the distance of the code. We formalize it below."
   ]
  },
  {
   "cell_type": "markdown",
   "id": "c6d7faf0-ac17-422e-9853-0016e9545111",
   "metadata": {
    "tags": []
   },
   "source": [
    "## Hamming distance\n",
    "The Hamming distance (not to be confused with the Hamming code; [Hamming](https://en.wikipedia.org/wiki/Richard_Hamming) was just a very prolific scientist) is going to be used to build the notion of code distance.\n",
    "\n",
    "> The **Hamming distance** between two bit strings $\\vec{s},\\vec{t}$ is the number of places where they have different symbols. This will be denoted $d_H(s,t)$.\n",
    "\n",
    "The Hamming distance determines the number of substitutions or errors required to transform a length-$n$ $\\vec{s}$ into another length-$n$ vector $\\vec{t}$ or vice versa. Hence, it is a very natural definition for our purposes. The Hamming distance can be calculated as\n",
    "\\begin{equation}\n",
    "  d_H(\\vec{s},\\vec{t}) = \\sum_i \\vec{s}_i + \\vec{t}_i,\n",
    "\\end{equation}\n",
    "where the addition is in the binary field, but the summation is regular integer addition.\n",
    "\n",
    "For example, the distance between $1011$ and $0111$ is two. You have to flip the first two entries to go from the first to the second or vice versa."
   ]
  },
  {
   "cell_type": "markdown",
   "id": "5b4979a5-6737-4f76-bdee-17faf9386477",
   "metadata": {
    "tags": []
   },
   "source": [
    "## Distance of a code\n",
    "\n",
    "Using the above definition, we define the notion of the distance of a code.\n",
    "\n",
    "> The distance $d$ of a code is the minimum Hamming distance between any two codewords. Formally,\n",
    "\\begin{equation}\n",
    "  d = \\min_{\\vec{c}_1,\\vec{c}_2\\in \\vecs{C}} d_H(\\vec{c}_1,\\vec{c}_2).\n",
    "\\end{equation}\n",
    "\n",
    "This seems to be a tedious optimization problem. However, we can simplify the calculation in the following way. First, we define the weight of a bit string.\n",
    "\n",
    "> The *weight* of a string $\\vec{s}$, denoted $wt(\\vec{s})$, is the number of ones in the string.\n",
    "\n",
    "The weight can also be thought of as the Hamming distance of $\\vec{s}$ from the all $0$ string, i.e.\n",
    "\\begin{equation}\n",
    "wt(\\vec{s}) = d_H(\\vec{s},0^n).\n",
    "\\end{equation}\n",
    "\n",
    "Next note that the zero message, $\\vec{m} = 0^k$, maps to the zero codeword $\\vec{c} = 0^kG = 0^n$. \n",
    "\n",
    "Then, using the properties of the Hamming distance and the fact that the codespace is a vector space, and letting $\\vec{c}_1 = \\vec{x}_1G \\ne \\vec{c}_2=\\vec{x}_2G$, we have\n",
    "\\begin{align}\n",
    "  d_H(\\vec{c}_1,\\vec{c}_2) &= d_H(\\vec{x}_1G, \\vec{x}_2G), \\\\\n",
    "            &= d_H(\\vec{x}_1G + \\vec{x}_2G, 0^k), \\\\\n",
    "            &= d_H((\\vec{x}_1 + \\vec{x}_2)G, 0^k), \\\\\n",
    "            &= d_H(\\vec{c}_3, 0^k), \\\\\n",
    "            &= wt(\\vec{c}_3),\n",
    "\\end{align}\n",
    "where in the second last step we have defined $\\vec{c}_3 = (\\vec{x}_1 + \\vec{x}_2)G$, which must exist in $C$ because $\\vec{x}_1 + \\vec{x}_2$ is part of the message space, and $\\vec{c}_3 \\ne 0$. So we have discovered that the distance of a code,\n",
    "\\begin{equation}\n",
    "  d = \\min_{\\vec{c} \\in \\vecs{C}} wt(\\vec{c}),\n",
    "\\end{equation}\n",
    "is just the minimum weight string.\n",
    "\n",
    "Another theorem simplifies the calculation even more.\n",
    "\n",
    "**Theorem:** The distance $d$ of a code $\\vecs{C}$ is equal to the minimum number of linearly dependent columns of the parity check matrix $H$ of the code."
   ]
  },
  {
   "cell_type": "markdown",
   "id": "f9594844-af76-45e0-8cc3-f766e0cd6ea4",
   "metadata": {
    "tags": []
   },
   "source": [
    "## Relationship of distance and correctable errors\n",
    "\n",
    "The use of the distance of a code is given by the following theorem.\n",
    "\n",
    "**Theorem:** A code with distance $d$ can\n",
    "* Correct at most $d-1$ erasure errors,\n",
    "* Detect at most $d-1$ bit flip errors,\n",
    "* Correct at most $\\left\\lfloor \\frac{d-1}{2}\\right\\rfloor$ bit flip errors.\n",
    "\n",
    "\n",
    "Therefore, a single quantity tells us the power of a code at detecting and correcting various types of errors.\n",
    "\n",
    "*Question:* Compute the distance of the $[7,4]$ Hamming code, using both methods outlined above. Show $d = 3$.\n",
    "\n",
    "\n",
    "> If the distance $d$ of a code $\\vecs{C}$ is known, then $\\vecs{C}$ is denoted as $[n,k,d]$.\n",
    "\n",
    "\n",
    "*Question:* Determine the distance $d$ of the $[n,1,d]$ repetition code."
   ]
  }
 ],
 "metadata": {
  "kernelspec": {
   "display_name": "Python 3 (ipykernel)",
   "language": "python",
   "name": "python3"
  },
  "language_info": {
   "codemirror_mode": {
    "name": "ipython",
    "version": 3
   },
   "file_extension": ".py",
   "mimetype": "text/x-python",
   "name": "python",
   "nbconvert_exporter": "python",
   "pygments_lexer": "ipython3",
   "version": "3.10.8"
  },
  "widgets": {
   "application/vnd.jupyter.widget-state+json": {
    "state": {},
    "version_major": 2,
    "version_minor": 0
   }
  }
 },
 "nbformat": 4,
 "nbformat_minor": 5
}
