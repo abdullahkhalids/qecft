{
 "cells": [
  {
   "cell_type": "markdown",
   "id": "a23fe73c",
   "metadata": {
    "tags": []
   },
   "source": [
    "# The binary field"
   ]
  },
  {
   "cell_type": "markdown",
   "id": "b00286a1",
   "metadata": {
    "tags": [
     "remove-cell"
    ]
   },
   "source": [
    "<div style=\"width:100%;text-align:right;font-size:0.75em;opacity:0.2\">Latex macros</div>\n",
    "$\\newcommand{\\vec}[1]{\\mathbf{#1}}$\n",
    "$ \\newcommand{\\ket}[1]{|#1\\rangle} $\n",
    "$ \\newcommand{\\bra}[1]{\\langle #1|} $\n",
    "$\\newcommand{\\iu}{{i\\mkern1mu}}$\n",
    "$ \\newcommand{\\e}{\\mathrm{e}}$\n",
    "$\\newcommand{\\bigo}{\\mathcal{O}}$\n",
    "$\\newcommand{\\set}[1]{\\{#1\\}}$\n",
    "$\\newcommand{\\oper}[1]{\\mathcal{#1}}$\n",
    "$\\newcommand{\\st}[1]{\\mathcal{#1}}$\n",
    "$\\newcommand{\\vecs}[1]{\\mathcal{#1}}$\n",
    "$\\newcommand{\\group}[1]{\\mathcal{#1}}$\n",
    "$\\newcommand{\\union}{\\hspace{0.25em}\\cup\\hspace{0.25em}}$"
   ]
  },
  {
   "cell_type": "markdown",
   "id": "99956c4a-28cd-4e76-81df-97af128b1269",
   "metadata": {},
   "source": [
    "On computer systems, information is typically represented, stored and processed in the form of 0s and 1s. Which is why, when we were studying the repetition code, we assumed that the information Alice meant to send was in the form of a string of bits.\n",
    "\n",
    "At one point, we said that the corrupted codeword $\\vec{\\tilde{c}} = \\vec{m} + \\vec{e}$. What does it mean to add two strings of bits? In the following, we will discuss this in more detail, as a precursor to our study of both classical and quantum error-correcting codes. We will also figure out how to do this sort of mathematics in python."
   ]
  },
  {
   "cell_type": "markdown",
   "id": "42fdbf09-4b29-47ef-82ee-13b0daba8588",
   "metadata": {},
   "source": [
    "## What is the binary field?\n",
    "In the binary field, there are only two numbers $\\set{0,1}$. To do anything useful with them, we need to define their addition and multiplication. The rules for addition are summarized in the following table.\n",
    "\n",
    "| + | 0 | 1 |\n",
    "|---|---|---|\n",
    "| 0 | 0 | 1 |\n",
    "| 1 | 1 | 0 |\n",
    "\n",
    "Out of the four rules, the one in the bottom right corner is the most interesting one, $1+1 = 0$.\n",
    "\n",
    "Similarly, the rules of multiplication are as follows. They are pretty straightforward and not different from the rules we use to multiply real numbers or integers.\n",
    "\n",
    "| $\\times$ | 0 | 1 |\n",
    "|---|---|---|\n",
    "| 0 | 0 | 0 |\n",
    "| 1 | 0 | 1 |\n",
    "\n",
    "What is important about the two sets of rules is that they always ensure that the addition or multiplication of two numbers never yields anything besides $\\set{0,1}$.\n",
    "\n",
    "> The **binary field** is labelled $\\mathbb{F}_2$. "
   ]
  },
  {
   "cell_type": "markdown",
   "id": "49fcb38f-0ece-4a96-b69e-8cc7fd9f32f1",
   "metadata": {},
   "source": [
    "## Linear algebra over $\\mathbb{F}_2$\n",
    "Classical error-correcting codes are defined using vector fields over the binary field. This means that any vectors and matrices we will encounter will have their elements coming from the binary field. When we do any matrix algebra, we will have to apply the addition and multiplication rules of binary field. \n",
    "\n",
    "For example, let us take the two-dimensional vector space over the binary field. Define\n",
    "$$\n",
    "\\vec{v} = \\begin{pmatrix} 1 \\\\ 0 \\end{pmatrix}, \\quad \\vec{w} = \\begin{pmatrix} 1 \\\\ 1 \\end{pmatrix}.\n",
    "$$\n",
    "Then\n",
    "$$\n",
    "\\vec{v} + \\vec{w} = \\begin{pmatrix} 0 \\\\ 1 \\end{pmatrix}\n",
    "$$\n",
    "\n",
    "Now, also define\n",
    "$$\n",
    "M = \\begin{pmatrix} 1 & 0 \\\\ 1 & 1 \\end{pmatrix}.\n",
    "$$\n",
    "Then,\n",
    "$$\n",
    "M\\vec{w} = \\begin{pmatrix} 1\\times 1 + 0 \\times 1 \\\\ 1 \\times 1 + 1 \\times 1\\end{pmatrix} = \\begin{pmatrix} 1 \\\\ 0\\end{pmatrix}.\n",
    "$$\n",
    "\n",
    "Finally, we will use the following notation.\n",
    "\n",
    "> A $m$-dimensional vector space over the binary field is labelled as $\\mathbb{F}^m_2$."
   ]
  },
  {
   "cell_type": "markdown",
   "id": "65f57b56-cdfb-49dc-9cf9-3905651109a6",
   "metadata": {},
   "source": [
    "*Question:* Let $\\vec{m} = \\begin{pmatrix} 1 & 1 & 1 & 0 & 0 & 0 \\end{pmatrix}$ and $\\vec{e} = \\begin{pmatrix} 0 & 0 & 1 & 0 & 0 & 1 \\end{pmatrix}$. What is the corrupted codeword $\\vec{\\tilde{c}}$?"
   ]
  },
  {
   "cell_type": "markdown",
   "id": "2662f94f-9544-4b69-9f44-0873dc13f7d5",
   "metadata": {},
   "source": [
    "## Working with $\\mathbb{F}_2^m$ in python\n",
    "\n",
    "The following is some example code that will help you understand how to work with binary vectors and matrices in python. There are only two things you have to do.\n",
    "\n",
    "* Specify `dtype=int` for any numpy arrays you use.\n",
    "* For every operation, use modulus 2. This is done via `% 2` in python."
   ]
  },
  {
   "cell_type": "code",
   "execution_count": 2,
   "id": "0393df99-cce4-461f-aa33-36d3876528e6",
   "metadata": {},
   "outputs": [
    {
     "name": "stdout",
     "output_type": "stream",
     "text": [
      "(1 + 1) % 2 =  0\n",
      "\n",
      "M = \n",
      " [[1 0]\n",
      " [1 1]]\n",
      "\n",
      "M + M =\n",
      " [[2 0]\n",
      " [2 2]] incorrect! 2 is not part of our number system.\n",
      "\n",
      "(M + M) % 2 =\n",
      " [[0 0]\n",
      " [0 0]] correct\n",
      "\n",
      "v =  [1 1]\n",
      "M@v =  [1 2] incorrect\n",
      "M@v % 2 =  [1 0] correct\n"
     ]
    }
   ],
   "source": [
    "import numpy as np\n",
    "\n",
    "print('(1 + 1) % 2 = ', (1 + 1) % 2)\n",
    "print('')\n",
    "\n",
    "# declare your vectors and matrices as numpy.array\n",
    "# with a data-type of int, rather than the default\n",
    "# type of float\n",
    "M = np.array([[1, 0], [1,1]], dtype=int)\n",
    "v = np.array([1, 1], dtype=int)\n",
    "print('M = \\n', M)\n",
    "print('')\n",
    "\n",
    "# if you add things as\n",
    "print('M + M =\\n', M+M, 'incorrect! 2 is not part of our number system.')\n",
    "# you will get the wrong answer. '2' is not part of our number system.\n",
    "\n",
    "print('')\n",
    "# Instead mod everything 2. This is done with '% 2' in python\n",
    "print('(M + M) % 2 =\\n', (M+M) % 2, 'correct')\n",
    "# The parenthesis in (M+M) % 2 are important\n",
    "\n",
    "print('')\n",
    "print('v = ', v)\n",
    "# Remember that in numpy matrix multiplication is done using the @ symbol\n",
    "print('M@v = ', M@v, 'incorrect')\n",
    "print('M@v % 2 = ', M@v % 2, 'correct')"
   ]
  },
  {
   "cell_type": "code",
   "execution_count": null,
   "id": "55225fec",
   "metadata": {},
   "outputs": [],
   "source": []
  }
 ],
 "metadata": {
  "kernelspec": {
   "display_name": "Python 3 (ipykernel)",
   "language": "python",
   "name": "python3"
  },
  "language_info": {
   "codemirror_mode": {
    "name": "ipython",
    "version": 3
   },
   "file_extension": ".py",
   "mimetype": "text/x-python",
   "name": "python",
   "nbconvert_exporter": "python",
   "pygments_lexer": "ipython3",
   "version": "3.10.8"
  },
  "widgets": {
   "application/vnd.jupyter.widget-state+json": {
    "state": {},
    "version_major": 2,
    "version_minor": 0
   }
  }
 },
 "nbformat": 4,
 "nbformat_minor": 5
}
