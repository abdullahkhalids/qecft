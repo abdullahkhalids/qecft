{
 "cells": [
  {
   "attachments": {},
   "cell_type": "markdown",
   "id": "a23fe73c",
   "metadata": {
    "tags": []
   },
   "source": [
    "# A deeper dive into classical error correction"
   ]
  },
  {
   "attachments": {},
   "cell_type": "markdown",
   "id": "b00286a1",
   "metadata": {
    "tags": [
     "remove-cell"
    ]
   },
   "source": [
    "<div style=\"width:100%;text-align:right;font-size:0.75em;opacity:0.2\">Latex macros</div>\n",
    "$ \\newcommand{\\ket}[1]{|#1\\rangle} $\n",
    "$ \\newcommand{\\bra}[1]{\\langle #1|} $\n",
    "$\\newcommand{\\iu}{{i\\mkern1mu}}$\n",
    "$ \\newcommand{\\e}{\\mathrm{e}}$\n",
    "$\\newcommand{\\bigo}{\\mathcal{O}}$\n",
    "$\\newcommand{\\set}[1]{\\{#1\\}}$\n",
    "$\\newcommand{\\oper}[1]{\\mathcal{#1}}$\n",
    "$\\newcommand{\\st}[1]{\\mathcal{#1}}$\n",
    "$\\newcommand{\\vecs}[1]{\\mathcal{#1}}$\n",
    "$\\newcommand{\\group}[1]{\\mathcal{#1}}$\n",
    "$\\newcommand{\\union}{\\hspace{0.25em}\\cup\\hspace{0.25em}}$"
   ]
  },
  {
   "attachments": {},
   "cell_type": "markdown",
   "id": "99956c4a-28cd-4e76-81df-97af128b1269",
   "metadata": {},
   "source": [
    "##  Linear classical codes\n",
    "The previous notebook showed an example method, called *coding*, to protect information. Now we formalize these notions. In the following, the words in **bold** are the ones being defined."
   ]
  },
  {
   "attachments": {},
   "cell_type": "markdown",
   "id": "360262d6-9508-48a4-9d7f-b976ebde8c67",
   "metadata": {},
   "source": [
    "### The definition of a code \n",
    "We define the abstract notion of a code using the notions of linear algebra. The binary field is just the numbers $\\set{0,1}$, along with their addition and multiplication.\n",
    "\n",
    "| + | 0 | 1 |\n",
    "|---|---|---|\n",
    "| 0 | 0 | 1 |\n",
    "| 1 | 1 | 0 |\n",
    "\n",
    "| $\\times$ | 0 | 1 |\n",
    "|---|---|---|\n",
    "| 0 | 0 | 0 |\n",
    "| 1 | 0 | 1 |\n",
    "\n",
    "> The **binary field** is labelled $\\mathbb{F}_2$. A $m$-dimensional vector space over the binary field is labelled as $\\mathbb{F}^m_2$.\n",
    "\n",
    "The following demonstrates how to work with binary fields in python."
   ]
  },
  {
   "cell_type": "code",
   "execution_count": 34,
   "id": "0393df99-cce4-461f-aa33-36d3876528e6",
   "metadata": {},
   "outputs": [
    {
     "name": "stdout",
     "output_type": "stream",
     "text": [
      "M + M =\n",
      " [[2 0]\n",
      " [2 2]] incorrect\n",
      "M + M =\n",
      " [[0 0]\n",
      " [0 0]] correct\n",
      "Mv =  [1 2] incorrect\n",
      "Mv =  [1 0] correct\n"
     ]
    }
   ],
   "source": [
    "import numpy as np\n",
    "\n",
    "# declare your vectors and matrices as numpy.array\n",
    "# with a data-type of int, rather than the default\n",
    "# type of float\n",
    "M = np.array([[1, 0], [1,1]], dtype=int)\n",
    "v = np.array([1, 1], dtype=int)\n",
    "\n",
    "# if you add things as\n",
    "print('M + M =\\n', M+M, 'incorrect')\n",
    "# you will get the wrong answer. '2' is not part of our number system.\n",
    "\n",
    "# Instead mod everything 2. This is done with '% 2' in python\n",
    "print('M + M =\\n', (M+M) % 2, 'correct')\n",
    "# The parenthesis in (M+M) % 2 are important\n",
    "\n",
    "# Similarly,\n",
    "print('Mv = ', M@v, 'incorrect')\n",
    "print('Mv = ', M@v %2, 'correct')"
   ]
  },
  {
   "attachments": {},
   "cell_type": "markdown",
   "id": "6eacdac2-f4da-4564-bfb6-f14b3b7727c0",
   "metadata": {},
   "source": [
    "As discussed above, the information to be sent exists in the form a some long data stream. However, linear codes usually break up the stream into blocks of fixed size, and treats each block independently. In the repetition code example, the blocks were of size 1. Therefore, for our analysis, we only need to consider the blocks. We establish the following terminology. \n",
    "\n",
    "> The information to be protected is a bit string of length $k$, and each such string is called a **message**.\n",
    "\n",
    "\n",
    "> The **message space** is the vector space with all $2^k$ possible messages. This vector space is clearly defined over $\\mathbb{F}_2$. Hence, it is the space $\\mathbb{F}^k_2$.\n",
    "\n",
    "\n",
    "*Question:* What is the dimension of the message space?\n",
    "\n",
    "\n",
    "As in the repetition code, for linear codes each message is transformed into a longer bit-string before being transmitted. This longer bit-string is called a codeword, and the tranformation from message to codeword is called encoding the message.\n",
    "\n",
    "\n",
    "> A message is transformed or **encoded** to a **codeword**, which is a bit string of length $n$. \n",
    "\n",
    "\n",
    "The codewords are vectors in a larger space, defined as follows.\n",
    "\n",
    "> The **codespace** is a $n$-dimensional vector space over $\\mathbb{F}_2$, labelled $\\mathbb{F}^n_2$. We require that $n \\ge k$.\n",
    "\n",
    "Finally, we can abstractly define the notion of a code.\n",
    "\n",
    "> A **binary linear code** $\\vecs{C}$ of dimension $k$ and length $n$ is a $k$-dimensional subspace of $\\mathbb{F}^n_2$. Compactly, we can write $\\vecs{C} \\subset \\mathbb{F}^n_2$. Such a code is labeled as a $[n,k]$ code. \n",
    "\n",
    "On it's own, the above definition allows us to identify if a particular construction is a valid code. \n",
    "\n",
    "\n",
    "*Question:* Check that the repetition code described above is indeed a code. Identify the message space, the codewords, and the codespace.\n",
    "\n",
    "Other codes that you will encounter can be defined as above. However, we will need more structure in order to understand and make use of codes. "
   ]
  },
  {
   "attachments": {},
   "cell_type": "markdown",
   "id": "caaa68f7-2f40-4fa6-b635-0602b2a1bd35",
   "metadata": {},
   "source": [
    "### Encoding process\n",
    "The definition of a binary linear codes is abstract. To encode messages we need a more concrete definition that gives well-defined calculational procedures. This is done by given an explicit definition of the subspace at the heart of the linear code definition.\n",
    "\n",
    "For any code, we can identify a basis set of the subspace. For instance, for the repetition code, the basis set is $\\set{000,111}$. In general, there will be $k$ such vectors because the subspace is $k$-dimensional, and each vector will be of length $n$. We can collect these $k$ vectors into the rows of a matrix, called the *generator matrix*.\n",
    "\n",
    "> The **generator matrix**, $G$,  is a $k \\times n$ matrix whose rows are a basis of the code.\n",
    "\n",
    "Any message $m$ can be encoded into a codeword $c$ using the generator matrix. The codewords of the code are all in the row space of its generator matrix $G$, i.e. the set of codewords is\n",
    "\\begin{equation}\n",
    "  \\set{c = mG : m \\in F^k_2},\n",
    "\\end{equation}\n",
    "where $m$ is the message in the form of a row vector. Note that we are doing matrix-vector multiplication in the opposite way that we usually do.\n",
    "\n",
    "Example: For the repetition code, a generator matrix is\n",
    "\\begin{equation}\n",
    "  G = \n",
    "  \\begin{pmatrix}\n",
    "    1 & 1 & 1\n",
    "  \\end{pmatrix}.\n",
    "\\end{equation}\n",
    "Using this, we find the codewords to be\n",
    "\\begin{align}\n",
    "  \\begin{pmatrix}\n",
    "    0\n",
    "  \\end{pmatrix}\n",
    "  \\begin{pmatrix}\n",
    "    1 & 1 & 1\n",
    "  \\end{pmatrix} =\n",
    "            \\begin{pmatrix}\n",
    "              0 & 0 & 0\n",
    "            \\end{pmatrix}, \\\\\n",
    "  \\begin{pmatrix}\n",
    "    1\n",
    "  \\end{pmatrix}\n",
    "  \\begin{pmatrix}\n",
    "    1 & 1 & 1\n",
    "  \\end{pmatrix} =\n",
    "            \\begin{pmatrix}\n",
    "              1 & 1 & 1\n",
    "            \\end{pmatrix},\n",
    "\\end{align}\n",
    "which is what we had before. In this way, we have an explicit encoding process for any code.\n",
    "\n",
    "\n",
    ">  A **code** is specified entirely using a generator matrix.\n",
    "\n",
    "Because the basis for the code $C$ is not unique, there can be many possible generator matrices for the same code $C$, and as we will see, some of matrices will have more calculational utility than others. We can convert between different codes by doing row operations on the generator matrix, which will not change the row space. Among the forms of the generator matrices, there is a standard form, which is when $G = [I_k| A]$, where $I_k$ is the $k\\times k$ identity matrix and $A$ is a $k \\times (n-k)$ matrix. The standard form can be obtained via row operation from any other form."
   ]
  },
  {
   "attachments": {},
   "cell_type": "markdown",
   "id": "5e45004d-c65a-44e7-b9b4-31cd93d9cb36",
   "metadata": {},
   "source": [
    "#### Hamming codes\n",
    "One of the most interesting codes is the Hamming codes. This is actually a family of codes, but we will discuss the simplest among them. In this code, messages of length $3$ are encoded into codewords of length $7$. The convention is to call this the $[7,4]$ Hamming code.\n",
    "\n",
    "*Question:* Identify the message space and the codespace of the Hamming code.\n",
    "\n",
    "To understand the Hamming code, we need to first define the notion of *parity*.\n",
    "\n",
    "> The **parity** of a bit string is the number of ones in it. If there are even number of ones, the parity of the string is said to be even, otherwise it is odd.\n",
    "\n",
    "\n",
    "Note that $4C3 = 3$. In the $[7,4]$ Hamming code, for each combination of three of the four data bits, we calculate the parity. This is visually depicted in the diagram below where $b1-b4$ are the data bits and $p1-p3$ are parity bits.\n",
    "\n",
    "![Hamming code](../../images/hammingcode.png)\n",
    "\n",
    "We now construct the generator matrix $G$ for the Hamming code, using the description above. The first four bits have to be copied as is, so the first four columns of $G$ must be the identity matrix. The next three columns must be the various ways of summing up the data bits. Hence, we get\n",
    "\\begin{equation}\n",
    "  G =\n",
    "  \\begin{pmatrix}\n",
    "    1 & 0 & 0 & 0 & 1 & 1 & 0 \\\\\n",
    "    0 & 1 & 0 & 0 & 1 & 1 & 1 \\\\\n",
    "    0 & 0 & 1 & 0 & 1 & 0 & 1 \\\\\n",
    "    0 & 0 & 0 & 1 & 0 & 1 & 1 \\\\\n",
    "  \\end{pmatrix}.\n",
    "\\end{equation}\n",
    "This is clearly in the standard form."
   ]
  },
  {
   "cell_type": "code",
   "execution_count": null,
   "id": "5d92970f-89cf-4ae7-907c-e03abe53442a",
   "metadata": {},
   "outputs": [],
   "source": [
    "# a function to create random messages\n",
    "from random import randint\n",
    "def random_message(k):\n",
    "    return np.array([randint(0,1) for _ in range(k)], dtype=int)\n",
    "    \n",
    "random_message(4)"
   ]
  },
  {
   "attachments": {},
   "cell_type": "markdown",
   "id": "14466f3f-dfd6-4620-b52e-07925bd334b3",
   "metadata": {
    "tags": []
   },
   "source": [
    "#### Task 1\n",
    "Complete the function `hamming_encode` that when passed a bit string, encodes it according to the Hamming code.\n",
    "\n",
    "* Parameters:\n",
    "  + `message` a `numpy.array`, of shape (1,4) and `dtype=int` guaranteed to only contain 0 or 1.\n",
    "* Returns:\n",
    "  + A `numpy.array` of shape (1,7) and `dtype=int` that is the the encoded version of the `message`"
   ]
  },
  {
   "cell_type": "code",
   "execution_count": 54,
   "id": "e18acbf1-edce-441d-9d55-79d9ec60f6b7",
   "metadata": {},
   "outputs": [],
   "source": [
    "G = np.array([\n",
    "    [ 1 , 0 , 0 , 0 , 1 , 1 , 0 ],\n",
    "    [ 0 , 1 , 0 , 0 , 1 , 1 , 1 ],\n",
    "    [ 0 , 0 , 1 , 0 , 1 , 0 , 1 ],\n",
    "    [ 0 , 0 , 0 , 1 , 0 , 1 , 1 ]], dtype=int)\n",
    "\n",
    "def hamming_encode(message):\n",
    "    pass\n",
    "\n",
    "\n",
    "m = random_message(4)\n",
    "c = hamming_encode(m)\n",
    "\n",
    "print('m =', m)\n",
    "print('c =', c)"
   ]
  },
  {
   "attachments": {},
   "cell_type": "markdown",
   "id": "fb9799b1-b5e5-469d-b3ae-198ea60cea42",
   "metadata": {
    "tags": []
   },
   "source": [
    "### Identifying and correcting errors\n",
    "The previous section provided us with a way of encoding any message $m$ into a codeword $c$. Now, we discuss how to identify any errors that occur when the codeword is sent through the noisy channel.\n",
    "\n",
    "Suppose that Bob receives the block $\\tilde{c}$. This block could or could not be corrupted in some way. Every code has a certain tolerance for how many errors it can correctly identify and subsequently correct. The reason for this is that all Bob can do is try to determine the *closest* codeword $c$ to the received $\\tilde{c}$. This is the best guess under the assumption that the each bit has an independent probability of being flipped. If there are too many errors, then the closest codeword to $\\tilde{c}$ is no longer the one sent by Alice, and error correction fails.\n",
    "\n",
    "The notion of closeness of bit strings can be formalized via the Hamming distance (not to be confused with the Hamming code; [Hamming](https://en.wikipedia.org/wiki/Richard_Hamming) was just a very prolific scientist) .\n",
    "\n",
    "> The **Hamming distance** between two bit strings $s,t$ is the number of places where they have different symbols. This will be denoted $d_H(s,t)$.\n",
    "\n",
    "The Hamming distance determines the number of substitutions or errors required to transform $s$ into $t$ or vice versa. Hence, it is a very natural definition for our purposes. The Hamming distance can be calculated as\n",
    "\\begin{equation}\n",
    "  d_H(s,t) = \\sum_i (s_i \\oplus t_i)\\mod 2\n",
    "\\end{equation}\n",
    "\n",
    "The brute force method of checking if an error and which error has occured is calculating the Hamming distance between $\\tilde{c}$ and every possible codeword $\\set{c^i}$. However, there are $2^k$ codewords and we would like a more efficient process.\n",
    "\n",
    "This is done by exploiting the fact that the code has some structure in built. For instance, in the Hamming code we have recorded the parity of various subsets of the message bits. Bob should be checking if in $\\tilde{c}$ the parity bits are consistent with the information bits, and if not what is the smallest change that resolves consistency. Generically, we need a set of constraints that all codewords obey.\n",
    "\n",
    "These contraints naturally emerge when we recall that the code is a subspace of a vector space, and therefore it is the kernel of some linear transformation. This transformation, which we will call $H$, maps the codewords to zero.\n",
    "\n",
    "> The matrix $H \\in \\mathbb{F}_2^{(n-k) \\times n}$ is a **parity-check matrix** for code $C$ if $C = \\set{x \\in \\mathbb{F}_2^n: Hx^T = 0}$.\n",
    "\n",
    "As there are $n-k$ rows to this matrix, the matrix places $n-k$ constraints on the elements of the codespace, leaving behind a $n - (n-k) = k$-dimensional space.\n",
    "\n",
    "How does one obtain the parity-check matrix from the generator matrix? As the rows of the generator matrix form the basis of the code, we can use them to place sufficient constraints on the parity-check matrix.\n",
    "\n",
    "**Lemma:** For a code $C$ with generator matrix $G$ and parity-check matrix $H$, we have the constraint $HG^T = 0$. \n",
    "\n",
    "**Proof:**\n",
    "  Recall that any codeword $c = mG$, so $c^T = G^Tm$. Now, by the definition of $H$, we have $Hc^T= 0$, or $HG^Tm = 0$. But this last statement is true for all $m$, which is only possible if $HG^T=0$. \n",
    "\n",
    "Using this theorem, we give a procedure when $G$ is in standard form, using the following lemma.\n",
    "\n",
    "**Lemma:** If $G = [I_k|A]$, then $H = [A^T | I_{n-k}]$, where $I_k$ is $k \\times k$, $A$ is $k \\times (n-k)$, $A^T$ is $ (n-k) \\times k$ and $I_{n-k}$ is $(n-k) \\times (n-k)$.\n",
    "\n",
    "**Proof:**\n",
    "  We need to show that $HG^T= 0$. We can compute,\n",
    "  \\begin{equation}\n",
    "    HG^T= \\begin{pmatrix} A^T & I_{n-k} \\end{pmatrix}\n",
    "    \\begin{pmatrix}\n",
    "      I_k \\\\ A^T\n",
    "    \\end{pmatrix} = A^TI_k + I_{n-k}A^T = A^T + A^T = 0.\n",
    "  \\end{equation}\n",
    "  Hence, proved.\n",
    "The above lemma gives a very straightforward procedure for computing the parity check matrix.\n",
    "\n",
    "For the Hamming code, the parity check matrix is\n",
    "\\begin{equation}\n",
    "H=\\begin{pmatrix}\n",
    "1 & 1 & 1 & 0 & 1 & 0 & 0 \\\\\n",
    "1 & 1 & 0 & 1 & 0 & 1 & 0 \\\\\n",
    "0 & 1 & 1 & 1 & 0 & 0 & 1 \\\\\n",
    "\\end{pmatrix}.\n",
    "\\end{equation}\n",
    "\n",
    "*Question:* Verify that $HG^T = 0$ for the Hamming code."
   ]
  },
  {
   "cell_type": "code",
   "execution_count": null,
   "id": "d664ee9a-a6cb-4dec-9c58-678241ae9563",
   "metadata": {},
   "outputs": [],
   "source": [
    "H = np.array([\n",
    "    [1, 1, 1, 0, 1, 0, 0],\n",
    "    [1, 1, 0, 1, 0, 1, 0],\n",
    "    [0, 1, 1, 1, 0, 0, 1]], dtype=int)\n",
    "    "
   ]
  },
  {
   "attachments": {},
   "cell_type": "markdown",
   "id": "b1ffb260-e47b-454b-8c31-75080605086b",
   "metadata": {},
   "source": [
    "#### Error syndromes\n",
    "We have learned that the parity-check matrix can be used to determine if $\\tilde{c}$ is a codeword or not. But does it tell us more? Imagine Alice sends the codeword $c$ and it gets distorted by error $e$ to $\\tilde{c} = c + e$. Now, the effect of the parity-check matrix is,\n",
    "\\begin{equation}\n",
    "  s = H\\tilde{c}^T = Hc^T + He^T = 0 + He^T = He^T.\n",
    "\\end{equation}\n",
    "The quantity $s$ informs us of what error has occured, and is called an error syndrome. It is a vector of length $n-k$. One can precompute a look-up table for $s$ vs $e$ and use this to determine the error at runtime.\n",
    "\n"
   ]
  },
  {
   "attachments": {},
   "cell_type": "markdown",
   "id": "f2151389-dcfa-4d44-b386-42ac01b00a84",
   "metadata": {},
   "source": [
    "#### Task 2\n",
    "Complete the function `noise_channel` that with probability p, flips each element of the input.\n",
    "\n",
    "* Parameters:\n",
    "    + 'c': the transmitted codeword, a `numpy.array` of shape (1,n) and `dtype=int` guaranteed to only contain 0 or 1.\n",
    "    + 'p': the probability of error, 'float' guaranteed to be between 0 and 1 inclusive.\n",
    "* Returns:\n",
    "    + The corrupted codeword, A `numpy.arrary` of shape (1,n) and `dtype=int` guaranteed to only contain 0 or 1."
   ]
  },
  {
   "cell_type": "code",
   "execution_count": null,
   "id": "6d86eb46-6c63-40b4-bb1a-b68b7941f71f",
   "metadata": {},
   "outputs": [],
   "source": [
    "def noise_channel(c, p):\n",
    "    pass\n",
    "\n",
    "c = random_message(7)\n",
    "corrupted_c = noise_channel(m, 0.5)\n",
    "print('corrupted c =', corrupted_c)"
   ]
  },
  {
   "attachments": {},
   "cell_type": "markdown",
   "id": "92e9824f-9957-4851-96f3-a68b61f8540d",
   "metadata": {},
   "source": [
    "#### Task 3\n",
    "Complete the function `hamming_syndrome` that when passed a corrupted codeword, determines the error syndrome.\n",
    "\n",
    "* Parameters:\n",
    "  + `corrupted_c`: a `numpy.array`, of shape (1,7) and `dtype=int` guaranteed to only contain 0 or 1.\n",
    "* Returns:\n",
    "  + Error syndrome: a `numpy.array` of shape (1,3) and `dtype=int` that is the error syndrome\n"
   ]
  },
  {
   "cell_type": "code",
   "execution_count": null,
   "id": "a133b347-1f5a-479b-8943-45713bf5dec8",
   "metadata": {},
   "outputs": [],
   "source": [
    "def hamming_syndrome(corrupted_c):\n",
    "    pass"
   ]
  },
  {
   "attachments": {},
   "cell_type": "markdown",
   "id": "0e1a51e8-84d4-4048-879f-59a704b91007",
   "metadata": {},
   "source": [
    "#### Correcting the error\n",
    "Once one knows the error $e$ that has occured, to correct the codeword, one can simply note that $\\tilde{c} + e = c + e + e = c$. So the codeword is straightforwardly obtained."
   ]
  },
  {
   "attachments": {},
   "cell_type": "markdown",
   "id": "042c1957-4674-4a98-a6a1-703a91f4e1ab",
   "metadata": {},
   "source": [
    "#### Task 4\n",
    "Compute a table of all possible syndromes and their corresponding one bit errors."
   ]
  },
  {
   "cell_type": "code",
   "execution_count": null,
   "id": "a38686e2-993a-4ea4-8339-c38e35d4cb46",
   "metadata": {},
   "outputs": [],
   "source": [
    "# write your code here"
   ]
  },
  {
   "attachments": {},
   "cell_type": "markdown",
   "id": "295229dc-48dd-4305-8ed0-99f983f0382f",
   "metadata": {},
   "source": [
    "#### Task 5\n",
    "Complete the function `hamming_correct` that when passed a corrupted codeword, identifies the error syndrome, infers an error, and corrects for it.\n",
    "\n",
    "* Parameters:\\\n",
    "    'corrupted_c': a `numpy.array`, of shape (1,7) and `dtype=int` guaranteed to only contain 0 or 1.\n",
    "* Returns:\\\n",
    "    The fixed codeword, a `numpy.arrary` of shape (1,7) and `dtype=int` guaranteed to only contain 0 or 1."
   ]
  },
  {
   "cell_type": "code",
   "execution_count": 55,
   "id": "350fe9d2-7f96-4aca-86d3-3bcee70db199",
   "metadata": {},
   "outputs": [],
   "source": [
    "def hamming_correct(corrupted_c):\n",
    "    pass"
   ]
  },
  {
   "attachments": {},
   "cell_type": "markdown",
   "id": "7d37d72d-bc00-4948-bb3d-a67196ac8b1b",
   "metadata": {},
   "source": [
    "### Distance of a code\n",
    "A crucial quantity of interest when discussing codes, is their distance. The distance determines the number of errors that can be corrected. The distance is the minimum Hamming distance between any two codewords.\n",
    "\n",
    "> For code $C$ the **code distance** $d$ is\n",
    "\\begin{equation}\n",
    "  d = \\min_{c_1,c_2\\in C} d_H(c_1,c_2).\n",
    "\\end{equation}\n",
    "\n",
    "This seems to be a tedious optimization problem. However, we can simplify the calculation in the following way. First, we define the weight of a bit string.\n",
    "\n",
    "> The *weight* of a string $s$, denoted $wt(s)$, is the number of ones in the string.\n",
    "\n",
    "The weight can also be thought of as as the Hamming distance of $s$ from the all $0$ string, i.e.\n",
    "\\begin{equation}\n",
    "wt(s) = d_H(s,0^n).\n",
    "\\end{equation}\n",
    "\n",
    "Next note that the zero message, $m = 0^k$, maps to the zero codeword $c_0 = 0^kG = 0^n$. Then, using the properties of the Hamming distance and the fact that the codespace is a vector space, and letting $c_1 = x_1G \\ne c_2=x_2G$, we have\n",
    "\\begin{align}\n",
    "  d_H(c_1,c_2) &= d_H(x_1G, x_2G), \\\\\n",
    "            &= d_H(x_1G-x_2G,0^k), \\\\\n",
    "            &= d_H((x_1-x_2)G,0^k), \\\\\n",
    "            &= d_H(c_3,0^k), \\\\\n",
    "            &= wt(c_3),\n",
    "\\end{align}\n",
    "where in the second last step we have defined $c_3 = (x_1-x_2)G$, which must exist in $C$ because $x_1-x_2$ is part of the message space, and $c_3 \\ne 0$. So we have discovered that distance of a code,\n",
    "\\begin{equation}\n",
    "  d = \\min_{c \\in C} wt(c),\n",
    "\\end{equation}\n",
    "is just the minimum weight string.\n",
    "\n",
    "Another theorem simplifies the calculation even more.\n",
    "\n",
    "**Theorem:** The distance $d$ of a code $C$ is equal to the minimum number of linearly dependent columns of the parity check matrix $H$ of the code.\n",
    "\n",
    "\n",
    "The use of the distance of a code is given by the following theorem.\n",
    "\n",
    "**Theorem:** A code with distance $d$ can\n",
    "* Correct at most $d-1$ erasure errors,\n",
    "* Detect at most $d-1$ bit flip errors,\n",
    "* Correct at most $\\left\\lfloor \\frac{d-1}{2}\\right\\rfloor$ bit flip errors.\n",
    "\n",
    "\n",
    "Therefore, a single quantity tells us the power of a code at detecting and correcting various types of errors.\n",
    "\n",
    "*Question:* Compute the distance of the $[7,4]$ Hamming code, using both methods outlined above. Show $d = 3$.\n",
    "\n",
    "\n",
    "> If the distance $d$ of a code $C$ is known, then $C$ is denoted as $[n,k,d]$.\n",
    "\n",
    "\n",
    "*Question:* Determine the distance $d$ of the $[n,1,d]$ repetition code."
   ]
  },
  {
   "attachments": {},
   "cell_type": "markdown",
   "id": "c17d95d8-f18d-4060-aad9-d6d1ef7ce18b",
   "metadata": {},
   "source": [
    "#### Dual codes\n",
    "Recall that the generator matrix $G$ is a matrix whose rows form the basis of the code $C$. In other words, the only defining feature of $G$ is that it's rows are independent. Now, we also know that the rows of the parity-check matrix $H$ are also independent; otherwise, the kernel of $H$ will have dimension less than $k$ and could not be equal to the code $C$. Therefore, $H$ can also form a code, and such a code is called the dual code $C^\\perp$ of $C$.\n",
    "\n",
    "> Given code $C$ with parity-check matrix $H$, the code with generator matrix $H$ is called the **dual code** to $C$ and denoted by $C^\\perp$.\n",
    "\n",
    "Another equivalent and perhaps more intuitive definition of the dual code is given by the fact that $HG^T=0$, which leads to the fact that\n",
    "\n",
    "> The dual code $C^\\perp = \\set{x \\in \\mathbb{F}_2^n : x\\cdot c = 0, \\forall c \\in C}$. \n",
    "\n",
    "*Question:* If code $C$ is a $[n,k]$ code, then what is the type of $C^\\perp$. You can use the dimensions of the matrix $H$ to determine this.\n",
    "\n",
    "An interesting category of codes are those which are self-dual. These are codes for which $C = C^\\perp$, i.e. the generator matrix $G$ of $C$ and the parity-check matrix $H$ of $C$ are equal to each other. From the dimension of these matrices, this clearly implies that $n-k = k$ or $k = n/2$. Hence, $n$ must be even.\n",
    "\n",
    "*Question:* The extended Hamming code is a $[8,4]$ code that is equal to the Hamming code with an additional column in the parity check matrix that computes the parity of all four message bits. Show that this code is self-dual."
   ]
  },
  {
   "cell_type": "code",
   "execution_count": null,
   "id": "55225fec",
   "metadata": {},
   "outputs": [],
   "source": []
  }
 ],
 "metadata": {
  "kernelspec": {
   "display_name": "Python 3 (ipykernel)",
   "language": "python",
   "name": "python3"
  },
  "language_info": {
   "codemirror_mode": {
    "name": "ipython",
    "version": 3
   },
   "file_extension": ".py",
   "mimetype": "text/x-python",
   "name": "python",
   "nbconvert_exporter": "python",
   "pygments_lexer": "ipython3",
   "version": "3.10.8"
  },
  "widgets": {
   "application/vnd.jupyter.widget-state+json": {
    "state": {},
    "version_major": 2,
    "version_minor": 0
   }
  }
 },
 "nbformat": 4,
 "nbformat_minor": 5
}
