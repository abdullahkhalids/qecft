{
 "cells": [
  {
   "cell_type": "markdown",
   "id": "a23fe73c",
   "metadata": {
    "tags": []
   },
   "source": [
    "# Classical linear codes"
   ]
  },
  {
   "cell_type": "markdown",
   "id": "b00286a1",
   "metadata": {
    "tags": [
     "remove-cell"
    ]
   },
   "source": [
    "<div style=\"width:100%;text-align:right;font-size:0.75em;opacity:0.2\">Latex macros</div>\n",
    "$\\newcommand{\\vec}[1]{\\mathbf{#1}}$\n",
    "$ \\newcommand{\\ket}[1]{|#1\\rangle} $\n",
    "$ \\newcommand{\\bra}[1]{\\langle #1|} $\n",
    "$\\newcommand{\\iu}{{i\\mkern1mu}}$\n",
    "$ \\newcommand{\\e}{\\mathrm{e}}$\n",
    "$\\newcommand{\\bigo}{\\mathcal{O}}$\n",
    "$\\newcommand{\\set}[1]{\\{#1\\}}$\n",
    "$\\newcommand{\\oper}[1]{\\mathcal{#1}}$\n",
    "$\\newcommand{\\st}[1]{\\mathcal{#1}}$\n",
    "$\\newcommand{\\vecs}[1]{\\mathcal{#1}}$\n",
    "$\\newcommand{\\group}[1]{\\mathcal{#1}}$\n",
    "$\\newcommand{\\union}{\\hspace{0.25em}\\cup\\hspace{0.25em}}$"
   ]
  },
  {
   "cell_type": "markdown",
   "id": "99956c4a-28cd-4e76-81df-97af128b1269",
   "metadata": {},
   "source": [
    "There are many different ways of of protecting classical information from noise. The simplest and nicest such processes are built from *linear codes*. Quantum error-correcting codes are also often built from classical linear codes, which is a strong motivation to study such classical codes."
   ]
  },
  {
   "cell_type": "markdown",
   "id": "a49013bf-a513-471d-a987-a1d219fb62c1",
   "metadata": {},
   "source": [
    "## Treating information as vectors\n",
    "The classical error correcting model we discussed earlier was as follows.\n",
    "\n",
    "![Error correction model](../../images/classicalerrorcorrectionmodel.png)\n",
    "\n",
    "Information here is in the form of bit strings. In line with our discussion in [the binary field](../cec/binary-field.ipynb), we will now treat these as elements of vector fields over the binary field. Let us now define each of these vector fields.\n",
    "\n",
    "### The message space\n",
    "The first vector field is the one that contains the message. For the type of codes we will study, the length of the message is a fixed number, which we denote by $k$. If the information to be sent is longer, than we break it up into blocks of length $k$, and then treat each block as its own independent message. In the repetition code example, the blocks were of size 1.\n",
    "\n",
    "![Error correction model](../../images/messageblocks.png)\n",
    "\n",
    "\n",
    "Keeping  this in mind, we have the following definitions.\n",
    "\n",
    "> The information to be protected is a bit string of length $k$, and each such string is called a **message**.\n",
    "\n",
    "> The **message space** is the vector space with all $2^k$ possible messages. This vector space is denoted as $\\mathbb{F}_2^k$.\n",
    "\n",
    "For the repetition code, $k=1$. This means the elements of the repetition code are $\\set{0,1}$."
   ]
  },
  {
   "cell_type": "markdown",
   "id": "68cb7e5c-69c9-4762-9687-57eb2d71383b",
   "metadata": {},
   "source": [
    "### The codespace and the code\n",
    "As in the repetition code, for linear codes each message is transformed into a longer bit-string before being transmitted. This longer bit-string is called a codeword, and the transformation from message to codeword is called encoding the message.\n",
    "\n",
    "> A message is transformed or **encoded** to a **codeword**, which is a bit string of length $n$.\n",
    "\n",
    "Codewords are of length $n$. There are $2^n$ strings of length $n$, but there are only $2^k$ valid codewords - one for each possible message. Therefore, there are two vector spaces here. \n",
    "\n",
    "> The **codespace** is a $n$-dimensional vector space, labelled $\\mathbb{F}_2^n$. We require that $n \\ge k$.\n",
    "\n",
    "There is no typo here. Codespace is written without a space usually. For the repetition code, the codespace consists of all length-$n=3$ bit strings,\n",
    "$$\n",
    "\\set{000, 001, 010, 011, 100, 101, 110, 111}.\n",
    "$$\n",
    "\n",
    "The second vector space is the the subspace of the codespace that actually contains the valid codewords. For the repetition code, this is the two codewords $\\set{000, 111}$. \n",
    "\n",
    "> The **code** $\\vecs{C}$ is a $k$-dimensional subspace of $\\mathbb{F}^n_2$. Compactly, we can write $\\vecs{C} \\subset \\mathbb{F}_2^n$.\n",
    "\n",
    "So code is just the name for the vector space in which valid codewords live. The relationship between the three spaces is shown below.\n",
    "\n",
    "![Error correction model](../../images/cecspaces.png)\n",
    "\n",
    "In the repetition code, the message $\\vec{m}=0$ lives inside the message space. It is mapped to the codeword $\\vec{c}=000$, which lives inside the code $\\vecs{C}$. If $\\vec{c}$ gets distorted by noise in the channel, then it gets transformed into the corrupted codeword $\\vec{\\tilde{c}}$ which lives inside the codespace by outside $\\vecs{C}$"
   ]
  },
  {
   "cell_type": "markdown",
   "id": "70fb9da4-dd89-476f-8007-ee5ed80ed497",
   "metadata": {},
   "source": [
    "## Why error-correcting codes are called code?\n",
    "To specify an error-correcting code, we need to define the following three things.\n",
    "\n",
    "* The dimension of the message space, k.\n",
    "* The dimension of the codespace, n.\n",
    "* The code $\\vecs{C}$.\n",
    "\n",
    "Here the code $\\vecs{C}$ is the non-trivial part, so error-correcting codes are just called code. This abuse to terminology is not too bad, as it is usually clear from context whether we are talking about $\\vecs{C}$ or the entire error-correcting code. \n",
    "\n",
    "Error-correcting codes are usually labeled as $[n,k,d]$, where distance $d$ is something which will be defined later. This is an underspecification as there can be more than one code with the same $n,k,d$ but different $\\vecs{C}$. However, these parameters are usually sufficient within context to identify the code. \n",
    "\n",
    "*Question:* What is the label $[n,k,d]$ for the repetition code? It has distance $3$.\n",
    "\n"
   ]
  },
  {
   "cell_type": "markdown",
   "id": "caaa68f7-2f40-4fa6-b635-0602b2a1bd35",
   "metadata": {},
   "source": [
    "### Encoding process\n",
    "The definition of a code given above is quite abstract. To encode messages and decode corrupted codewords we need a more concrete definition that gives well-defined calculational procedures. This is done by given an explicit definition of $\\vecs{C}$.\n",
    "\n",
    "\n",
    "For any code, we can identify a basis set of $\\vecs{C}$. For instance, for the repetition code, the basis set is \n",
    "$$\n",
    "\\begin{pmatrix} 1 & 1 & 1 \\end{pmatrix},\n",
    "$$\n",
    "where we are now writing vectors as row matrices instead of bit string. In general, there will be $k$ such vectors because the subspace is $k$-dimensional, and each vector will be of length $n$. We can collect these $k$ vectors into the rows of a matrix, called the *generator matrix*.\n",
    "\n",
    "> The **generator matrix**, $G$,  is a $k \\times n$ matrix whose rows are a basis of the code $\\vec{C}$.\n",
    "\n",
    "For the repetition code, a generator matrix is\n",
    "\\begin{equation}\n",
    "  G = \n",
    "  \\begin{pmatrix}\n",
    "    1 & 1 & 1\n",
    "  \\end{pmatrix}.\n",
    "\\end{equation}\n",
    "\n",
    "Any message $\\vec{m}$ can be encoded into a codeword $\\vec{c}$ using the generator matrix. The codewords of the code are all in the row space of its generator matrix $G$, i.e. the set of codewords is\n",
    "\\begin{equation}\n",
    "  \\set{c = \\vec{m}G : \\vec{m} \\in F^k_2}.\n",
    "\\end{equation}\n",
    "\n",
    "For the repetition code, we find the codewords to be\n",
    "\\begin{align}\n",
    "  \\begin{pmatrix}\n",
    "    0\n",
    "  \\end{pmatrix}\n",
    "  \\begin{pmatrix}\n",
    "    1 & 1 & 1\n",
    "  \\end{pmatrix} =\n",
    "            \\begin{pmatrix}\n",
    "              0 & 0 & 0\n",
    "            \\end{pmatrix}, \\\\\n",
    "  \\begin{pmatrix}\n",
    "    1\n",
    "  \\end{pmatrix}\n",
    "  \\begin{pmatrix}\n",
    "    1 & 1 & 1\n",
    "  \\end{pmatrix} =\n",
    "            \\begin{pmatrix}\n",
    "              1 & 1 & 1\n",
    "            \\end{pmatrix},\n",
    "\\end{align}\n",
    "which is what we obtained before. In this way, we have an explicit encoding process for any code.\n",
    "\n",
    "\n",
    ">  A **code** is specified entirely using a generator matrix.\n",
    "\n",
    "Because the basis for the code $C$ is not unique, there can be many possible generator matrices for the same code $C$, and as we will see, some of matrices will have more calculational utility than others. We can convert between different generator matrices of the code by doing row operations on the generator matrix, which will not change the row space. Among the forms of the generator matrices, there is a standard form, which is when $G = [I_k| A]$, where $I_k$ is the $k\\times k$ identity matrix and $A$ is a $k \\times (n-k)$ matrix. The standard form can be obtained via row operation from any other form."
   ]
  },
  {
   "cell_type": "markdown",
   "id": "d31a0d5f-b888-489e-810d-1abf9364a91d",
   "metadata": {},
   "source": [
    "## Hamming codes\n",
    "The repetition code is a very simple code. To understand more concepts about error-correction, we need to a more complex code. The Hamming code, [invented by Richard Hamming](https://www.telecomarchive.com/docs/bsp-archive/BLR/28-5.pdf), serves this purpose. It is a $[7,4,3]$ code, meaning messages of length $4$ are encoded into codewords of length $7$.\n",
    "\n",
    "To define the Hamming code, we need to define the $\\vec{C}$. First we define how to construct $\\vec{c}$ from a $\\vec{m}$. The first four bits of $\\vec{c}$ are actually the same as $\\vec{m}$, i.e.\n",
    "$$\n",
    "c_1c_2c_3c_4 = m_1m_2m_3m_4.\n",
    "$$\n",
    "\n",
    "The remaining bits, $c_5c_6c_7$ are defined by using the notion of *parity*.\n",
    "\n",
    "> The **parity** of a bit string is computed from the number of 1s in it. If there are even number of 1s, the parity of the string is said to be even or 0, otherwise it is odd or 1.\n",
    "\n",
    "For example, the parity of $101$ is 0 and that of $01011$ is 1.\n",
    "\n",
    "For the Hamming code, we compute the parity of various subsets of the message bits, and store them in the codeword. If the codeword is corrupted, some of the parities change, which allows us to identify the error. There are four message bits. There are $4C3 = 4$ subsets of size three. We compute the parity of three of these subsets. This is easily seen from the following diagram.\n",
    "\n",
    "\n",
    "![Hamming code](../../images/hammingcode.png)\n",
    "\n",
    "We see that\n",
    "\n",
    "* $p_1$ is the parity of $m_1,m_2,m_4$, \n",
    "* $p_2$ is the parity of $m_1,m_3,m_4$, \n",
    "* $p_3$ is the parity of $m_2,m_3,m_4$.\n",
    "\n",
    "The parity of the fourth subset ($m_1,m_2,m_3$) is dependent on the parity of the other three, so does not need to be computed. The full codeword is\n",
    "$$\n",
    "\\vec{c} = \\begin{pmatrix} m_1 & m_2& m_3 & m_4 & p_1 & p_2 & p_3 \\end{pmatrix}.\n",
    "$$\n",
    "\n",
    "Before we dig into the mathematics, let us discuss how the protocol works. Alice creates the codeword according to the prescription above and sends it to Bob. When Bob receives the corrupted codeword he computes the three parities of the first four bits ($\\vec{\\tilde{c}}_1, \\vec{\\tilde{c}}_2, \\vec{\\tilde{c}}_3, \\vec{\\tilde{c}}_4)$) and compares them with the last three bits of the corrupted codeword ($\\vec{\\tilde{c}}_5, \\vec{\\tilde{c}}_6, \\vec{\\tilde{c}}_7$). If some of the parities are different, then that indicates an error has occurred.\n",
    "\n",
    "Suppose an error happens on $\\vec{c}_1$. We can see from the diagram that this means that $p_1$ and $p_2$ will be flipped. On the other hand, an error on $\\vec{c}_2$ will lead to $p_1$ and $p_3$ to be flipped. Similarly, if the error happens on a parity bit, then only that parity bit will be flipped. So a single parity bit differing indicates an error on it, while two or three parity bit differences indicate an error on the \"message bits\"."
   ]
  },
  {
   "cell_type": "markdown",
   "id": "8b33583a-05f6-4a34-8852-30292e44587f",
   "metadata": {},
   "source": [
    "#### Task 1 (On paper)\n",
    "Fill out the following table.\n",
    "\n",
    "|Error location | Parity bits flipped |\n",
    "|:-------------:|:-------------------:|\n",
    "|$\\vec{c}_1$    |                     |\n",
    "|$\\vec{c}_2$    |                     |\n",
    "|$\\vec{c}_3$    |                     | \n",
    "|$\\vec{c}_4$    |                     |\n",
    "|$\\vec{c}_5$    |                     |\n",
    "|$\\vec{c}_6$    |                     |\n",
    "|$\\vec{c}_7$    |                     |\n",
    "\n",
    "If there are no repeats in the second column, then Bob can always correct zero or one errors. What happens if two bits experience an error? Which parity bits flip if $m_1$ and $m_2$ experience an error? Compare with the table above.\n",
    "\n",
    "Your answer should tell you that the Hamming code can only be used to protect against one error."
   ]
  },
  {
   "cell_type": "markdown",
   "id": "a0775777-2408-4bb5-86a2-d7e5da9bbcac",
   "metadata": {},
   "source": [
    "### Generator matrix\n",
    "We now construct the generator matrix $G$ for the Hamming code, using the description above. The first four bits have to be copied as is, so the first four columns of $G$ must be the identity matrix. The next three columns must be the various ways of summing up the data bits. Hence, we get\n",
    "\\begin{equation}\n",
    "  G =\n",
    "  \\begin{pmatrix}\n",
    "    1 & 0 & 0 & 0 & 1 & 1 & 0 \\\\\n",
    "    0 & 1 & 0 & 0 & 1 & 0 & 1 \\\\\n",
    "    0 & 0 & 1 & 0 & 0 & 1 & 1 \\\\\n",
    "    0 & 0 & 0 & 1 & 1 & 1 & 1 \\\\\n",
    "  \\end{pmatrix}.\n",
    "\\end{equation}\n",
    "This is clearly in the standard form. "
   ]
  },
  {
   "cell_type": "markdown",
   "id": "14466f3f-dfd6-4620-b52e-07925bd334b3",
   "metadata": {
    "tags": []
   },
   "source": [
    "#### Task 2\n",
    "Complete the function `hamming_encode` that when passed a bit string, encodes it according to the Hamming code.\n",
    "\n",
    "* Parameters:\n",
    "  + `message` a `numpy.array`, of shape (1,4) and `dtype=int` guaranteed to only contain 0 or 1.\n",
    "* Returns:\n",
    "  + A `numpy.array` of shape (1,7) and `dtype=int` that is the the encoded version of the `message`"
   ]
  },
  {
   "cell_type": "code",
   "execution_count": null,
   "id": "5d92970f-89cf-4ae7-907c-e03abe53442a",
   "metadata": {},
   "outputs": [],
   "source": [
    "# a function to create random messages\n",
    "from random import randint\n",
    "import numpy as np\n",
    "def random_message(k):\n",
    "    return np.array([randint(0,1) for _ in range(k)], dtype=int)\n",
    "    \n",
    "random_message(4)"
   ]
  },
  {
   "cell_type": "code",
   "execution_count": null,
   "id": "e18acbf1-edce-441d-9d55-79d9ec60f6b7",
   "metadata": {},
   "outputs": [],
   "source": [
    "G = np.array([\n",
    "    [ 1 , 0 , 0 , 0 , 1 , 1 , 0 ],\n",
    "    [ 0 , 1 , 0 , 0 , 1 , 0 , 1 ],\n",
    "    [ 0 , 0 , 1 , 0 , 0 , 1 , 1 ],\n",
    "    [ 0 , 0 , 0 , 1 , 1 , 1 , 1 ]], dtype=int)\n",
    "\n",
    "def hamming_encode(message):\n",
    "    pass\n",
    "\n",
    "\n",
    "m = random_message(4)\n",
    "c = hamming_encode(m)\n",
    "\n",
    "print('m = ', m)\n",
    "print('c = ', c)"
   ]
  },
  {
   "cell_type": "markdown",
   "id": "fb9799b1-b5e5-469d-b3ae-198ea60cea42",
   "metadata": {
    "tags": []
   },
   "source": [
    "### Identifying and correcting errors systematically\n",
    "The previous section provided us with a way of encoding any message $m$ into a codeword $c$ which generalizes to any code. Now, we discuss a systematic method to identify and possibly correct errors that occur when the codeword is sent through the noisy channel.\n",
    "\n",
    "Suppose that Bob receives the block $\\vec{\\tilde{c}}$. This block could or could not be corrupted in some way. Every code has a certain tolerance for how many errors it can correctly identify and subsequently correct. The way to see it is to recall that $\\vec{\\tilde{c}} = \\vec{c} + \\vec{e}$. The error vector $\\vec{e}$ is $n$ bits long, so there are $2^n$ possible errors. The codeword $\\vec{c}$ has some information stored inside it to help identify the error. But it also has to store the message itself. So out of the $n$ bits of information in $\\vec{c}$, $k$ bits of information is storing the message, while $n-k$ bits of information is available to identify errors. So, the code can at most identify $2^{n-k}$ different errors. For example, the repetition code can identify $2^{3-1} =$ four different errors - either no error or an error on exactly one of the three bits. Similarly, the Hamming code can identify $2^{7-4} =$ eight different errors.\n",
    "\n",
    "What is the generic process for this? We saw in the Hamming code example that we stored some consistency checks on the message as part of our codeword. We said that the first four bits must obey some parities. Generally, in any linear code, there will be some consistency checks and will be given by a linear set of equations on the elements on the codeword. These equations are specified by a matrix multiplying the codewords, and given as follows.\n",
    "\n",
    "> The matrix $H \\in \\mathbb{F}_2^{(n-k) \\times n}$ is a **parity-check matrix** for code $C$ if $C = \\set{\\vec{x} \\in \\mathbb{F}_2^n: H\\vec{x}^T = 0}$.\n",
    "\n",
    "This definition is saying that a code consists of all the elements of the codespace that satisfy the constraint $H\\vec{x}^T = 0$. As there are $n-k$ rows to this matrix, the matrix places $n-k$ constraints on the elements of the codespace, leaving behind a $n - (n-k) = k$-dimensional space. Note that a system of linear equations can be linear transformed into another set of equivalent equations. Therefore, the parity-charity matrix is not unique. Row operations will yield other parity-check matrices for the same code.\n",
    "\n",
    "The constraints in the parity-check matrix are obviously not independent from the generator matrix, as the generator matrix contains all the information about the code. The relationship between the generator matrix and the parity-check matrix is given as follows.\n",
    "\n",
    "**Lemma:** A generator matrix $G$ and a parity-check matrix $H$ of a code $C$ are constrained by $HG^T = 0$. \n",
    "\n",
    "**Proof:**\n",
    "  Recall that any codeword $c = mG$, so $c^T = G^Tm$. Now, by the definition of $H$, we have $Hc^T= 0$, or $HG^Tm = 0$. But this last statement is true for all $m$, which is only possible if $HG^T=0$. \n",
    "\n",
    "The above theorem only tells us if a parity-check matrix is valid for a code. It does not give us an explicit procedure for constructing it. The following lemma gives a process for exactly this, using the generator matrix in standard form.\n",
    "\n",
    "**Lemma:** If $G$ is in standard form, i.e. $G = [I_k|A]$, then the parity-check matrix is $H = [A^T | I_{n-k}]$, where $I_k$ is $k \\times k$, $A$ is $k \\times (n-k)$, $A^T$ is $ (n-k) \\times k$ and $I_{n-k}$ is $(n-k) \\times (n-k)$.\n",
    "\n",
    "**Proof:**\n",
    "  We need to show that $HG^T= 0$. We can compute,\n",
    "  \\begin{equation}\n",
    "    HG^T= \\begin{pmatrix} A^T & I_{n-k} \\end{pmatrix}\n",
    "    \\begin{pmatrix}\n",
    "      I_k \\\\ A^T\n",
    "    \\end{pmatrix} = A^TI_k + I_{n-k}A^T = A^T + A^T = 0.\n",
    "  \\end{equation}\n",
    "  Hence, proved.\n",
    "\n",
    "For the Hamming code, the parity check matrix is\n",
    "\\begin{equation}\n",
    "H=\\begin{pmatrix}\n",
    "1 & 1 & 0 & 1 & 1 & 0 & 0 \\\\\n",
    "1 & 0 & 1 & 1 & 0 & 1 & 0 \\\\\n",
    "0 & 1 & 1 & 1 & 0 & 0 & 1 \\\\\n",
    "\\end{pmatrix}.\n",
    "\\end{equation}\n",
    "\n",
    "*Question:* Verify that $HG^T = 0$ for the Hamming code."
   ]
  },
  {
   "cell_type": "code",
   "execution_count": null,
   "id": "d664ee9a-a6cb-4dec-9c58-678241ae9563",
   "metadata": {},
   "outputs": [],
   "source": [
    "H = np.array([\n",
    "    [1, 1, 0, 1, 1, 0, 0],\n",
    "    [1, 0, 1, 1, 0, 1, 0],\n",
    "    [0, 1, 1, 1, 0, 0, 1]], dtype=int)"
   ]
  },
  {
   "cell_type": "markdown",
   "id": "b1ffb260-e47b-454b-8c31-75080605086b",
   "metadata": {},
   "source": [
    "#### Error syndromes\n",
    "We have learned that the parity-check matrix can be used to determine if $\\vec{\\tilde{c}}$ is a codeword or not. But how can we compute which error has occurred. Imagine Alice sends the codeword $\\vec{c}$ and it gets distorted to $\\vec{\\tilde{c}} = \\vec{c} + \\vec{e}$. Now, the effect of the parity-check matrix is,\n",
    "\\begin{equation}\n",
    "  \\vec{s} = H\\vec{\\tilde{c}}^T = H\\vec{c}^T + H\\vec{e}^T = 0 + H\\vec{e}^T = H\\vec{e}^T.\n",
    "\\end{equation}\n",
    "The quantity $\\vec{s}$ is called an error syndrome, and is a vector of length $n-k$. There are $2^{n-k}$ possible error syndromes. We argued above that a classical linear code can only correct up to $2^{n-k}$ errors. Each correctable error corresponds to a distinct error syndrome. \n",
    "\n",
    "For example, for the Hamming code, $\\vec{s}$ will be of length 3 and there will 8 different syndromes corresponding to the different zero bit or one bit errors. The next few exercises will help you compute them.\n"
   ]
  },
  {
   "cell_type": "markdown",
   "id": "f2151389-dcfa-4d44-b386-42ac01b00a84",
   "metadata": {},
   "source": [
    "#### Task 3\n",
    "Complete the function `noise_channel` that with probability p, flips each element of the input.\n",
    "\n",
    "* Parameters:\n",
    "    + `c`: a `numpy.array` of shape (1,n) and `dtype=int` guaranteed to only contain 0 or 1. The transmitted codeword.\n",
    "    + `p`: `float` guaranteed to be between 0 and 1 inclusive. The probability of error.\n",
    "* Returns:\n",
    "    + `numpy.arrary` of shape (1,n) and `dtype=int` guaranteed to only contain 0 or 1. The corrupted codeword."
   ]
  },
  {
   "cell_type": "code",
   "execution_count": null,
   "id": "6d86eb46-6c63-40b4-bb1a-b68b7941f71f",
   "metadata": {},
   "outputs": [],
   "source": [
    "def noise_channel(c, p):\n",
    "    pass\n",
    "\n",
    "c = random_message(7)\n",
    "corrupted_c = noise_channel(m, 0.5)\n",
    "print('corrupted c = ', corrupted_c)"
   ]
  },
  {
   "cell_type": "markdown",
   "id": "92e9824f-9957-4851-96f3-a68b61f8540d",
   "metadata": {},
   "source": [
    "#### Task 4\n",
    "Complete the function `hamming_syndrome` that when passed a corrupted codeword, determines the error syndrome.\n",
    "\n",
    "* Parameters:\n",
    "  + `corrupted_c`: a `numpy.array`, of shape (1,7) and `dtype=int` guaranteed to only contain 0 or 1.\n",
    "* Returns:\n",
    "  + Error syndrome: a `numpy.array` of shape (1,3) and `dtype=int` that is the error syndrome"
   ]
  },
  {
   "cell_type": "code",
   "execution_count": null,
   "id": "a133b347-1f5a-479b-8943-45713bf5dec8",
   "metadata": {},
   "outputs": [],
   "source": [
    "def hamming_syndrome(corrupted_c):\n",
    "    pass"
   ]
  },
  {
   "cell_type": "markdown",
   "id": "0e1a51e8-84d4-4048-879f-59a704b91007",
   "metadata": {},
   "source": [
    "#### Correcting the error\n",
    "Once one knows the error $\\vec{e}$ that has occured, to correct the codeword, one can simply note that $\\vec{\\tilde{c}} + \\vec{e} = \\vec{c} + \\vec{e} + \\vec{e} = \\vec{c}$. So the codeword is straightforwardly obtained."
   ]
  },
  {
   "cell_type": "markdown",
   "id": "042c1957-4674-4a98-a6a1-703a91f4e1ab",
   "metadata": {},
   "source": [
    "#### Task 5\n",
    "Compute a `dict` of all possible syndromes and their corresponding one bit errors."
   ]
  },
  {
   "cell_type": "code",
   "execution_count": null,
   "id": "a38686e2-993a-4ea4-8339-c38e35d4cb46",
   "metadata": {},
   "outputs": [],
   "source": [
    "# write your code here\n",
    "\n",
    "# key is syndrome\n",
    "# value is the error\n",
    "error_syndromes = dict()\n",
    "\n",
    "# np.arrays can't be keys for dict\n",
    "# So we need to convert them to tuples\n",
    "\n",
    "# zero error case\n",
    "s = np.array([0,0,0], dtype=int)\n",
    "e = np.array([0,0,0,0,0,0,0], dtype=int)\n",
    "\n",
    "error_syndromes[tuple(s)] = e\n",
    "\n",
    "print(error_syndromes[tuple(s)])"
   ]
  },
  {
   "cell_type": "markdown",
   "id": "295229dc-48dd-4305-8ed0-99f983f0382f",
   "metadata": {},
   "source": [
    "#### Task 6\n",
    "Complete the function `hamming_correct` that when passed a corrupted codeword, identifies the error syndrome, infers an error, and corrects for it.\n",
    "\n",
    "* Parameters:\\\n",
    "    `corrupted_c`: a `numpy.array`, of shape (1,7) and `dtype=int` guaranteed to only contain 0 or 1.\n",
    "* Returns:\\\n",
    "    The corrected codeword, a `numpy.arrary` of shape (1,7) and `dtype=int` guaranteed to only contain 0 or 1.\n"
   ]
  },
  {
   "cell_type": "code",
   "execution_count": null,
   "id": "350fe9d2-7f96-4aca-86d3-3bcee70db199",
   "metadata": {},
   "outputs": [],
   "source": [
    "def hamming_correct(corrupted_c):\n",
    "    pass"
   ]
  }
 ],
 "metadata": {
  "kernelspec": {
   "display_name": "Python 3 (ipykernel)",
   "language": "python",
   "name": "python3"
  },
  "language_info": {
   "codemirror_mode": {
    "name": "ipython",
    "version": 3
   },
   "file_extension": ".py",
   "mimetype": "text/x-python",
   "name": "python",
   "nbconvert_exporter": "python",
   "pygments_lexer": "ipython3",
   "version": "3.10.8"
  },
  "widgets": {
   "application/vnd.jupyter.widget-state+json": {
    "state": {},
    "version_major": 2,
    "version_minor": 0
   }
  }
 },
 "nbformat": 4,
 "nbformat_minor": 5
}
