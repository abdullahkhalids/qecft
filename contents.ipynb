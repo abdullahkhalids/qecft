{
 "cells": [
  {
   "cell_type": "markdown",
   "id": "c9b4b499",
   "metadata": {},
   "source": [
    "# A Methods Focused Guide to Quantum Error Correction and Fault-Tolerant Quantum Computation"
   ]
  },
  {
   "cell_type": "markdown",
   "id": "8ea9aaca",
   "metadata": {},
   "source": [
    "## Table of Contents\n",
    "\n",
    "### 1. Introduction\n",
    "\n",
    "[1.1 About this book](chapters/introduction/book.ipynb)\n",
    "\n",
    "[1.2 Stac installation, and a short guide](chapters/introduction/stac.ipynb)\n",
    "\n",
    "\n",
    "### 2. The what and why of error-correction\n",
    "\n",
    "[2.1 Why error-correction and a model for it](chapters/overview/whatandwhy.ipynb)\n",
    "\n",
    "\n",
    "### 3. Classical error-correction\n",
    "\n",
    "[3.1 Error-correction by repetition](chapters/cec/repetition.ipynb)\n",
    "\n",
    "[3.2 The binary field](chapters/cec/binary-field.ipynb)\n",
    "\n",
    "[3.3 Classical linear codes](chapters/cec/classical-linear-codes.ipynb)\n",
    "\n",
    "[3.4 Distance of a code](chapters/cec/distance.ipynb)\n",
    "\n",
    "\n",
    "### 4. An example-oriented introduction to quantum error-correction\n",
    "\n",
    "[4.1 Quantum repetition code for bit-flips](chapters/qec-intro/quantum-repetition-code-for-bit-flips.ipynb)\n",
    "\n",
    "[4.2 Quantum repetition code for phase-flips](chapters/qec-intro/quantum-repetition-code-for-phase-flips.ipynb)\n",
    "\n",
    "[4.3 The Shor Code](chapters/qec-intro/shor-code.ipynb)\n",
    "\n",
    "[4.4 Syndrome measurements, an alternate view](chapters/qec-intro/measurements.ipynb)\n",
    "\n",
    "\n",
    "### 5. Formal development of quantum error-correction\n",
    "\n",
    "[5.1 Quantum codes](chapters/qec-formal/quantum-codes.ipynb)\n",
    "\n",
    "[5.2 Quantum error-correcting codes](chapters/qec-formal/quantum-error-correcting-codes.ipynb)\n",
    "\n",
    "[5.3 Quantum operations](chapters/qec-formal/quantum-operations.ipynb)\n",
    "\n",
    "\n",
    "### 6. Stabilizer codes\n",
    "\n",
    "[6.1 Pauli group](chapters/stabilizer-codes/pauli-group.ipynb)\n",
    "\n",
    "[6.2 Stabilizer states](chapters/stabilizer-codes/stabilizer-states.ipynb)\n",
    "\n",
    "[6.3 Stabilizer groups](chapters/stabilizer-codes/stabilizer-groups.ipynb)\n",
    "\n",
    "[6.4 Stabilizer codes](chapters/stabilizer-codes/stabilizer-codes.ipynb)\n",
    "\n",
    "[6.5 Vector form of Pauli operators and the generator matrix](chapters/stabilizer-codes/vector-form-of-pauli-operators-and-generator-matrix.ipynb)\n",
    "\n",
    "[6.6 Some common codes](chapters/stabilizer-codes/some-common-codes.ipynb)\n",
    "\n",
    "[6.7 Encoding circuits for stabilizer codes](chapters/stabilizer-codes/encoding-circuits-for-stabilizer-codes.ipynb)\n",
    "\n",
    "[6.8 Decoding circuits for stabilizer codes](chapters/stabilizer-codes/decoding-circuits.ipynb)\n",
    "\n",
    "[6.9 Syndrome measurements for stabilizer codes](chapters/stabilizer-codes/syndrome-measurements.ipynb)\n",
    "\n",
    "\n"
   ]
  }
 ],
 "metadata": {
  "kernelspec": {
   "display_name": "Python 3 (ipykernel)",
   "language": "python",
   "name": "python3"
  },
  "language_info": {
   "codemirror_mode": {
    "name": "ipython",
    "version": 3
   },
   "file_extension": ".py",
   "mimetype": "text/x-python",
   "name": "python",
   "nbconvert_exporter": "python",
   "pygments_lexer": "ipython3",
   "version": "3.10.8"
  }
 },
 "nbformat": 4,
 "nbformat_minor": 5
}
